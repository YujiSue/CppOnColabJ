{
  "nbformat": 4,
  "nbformat_minor": 0,
  "metadata": {
    "colab": {
      "name": "バイオインフォマティクスonGoogleColab",
      "provenance": [],
      "collapsed_sections": [
        "qCr2AZY7OzZF",
        "SJ1MQcawDQ24",
        "fJX3Is8wzYER",
        "2f33Bl-JbaIJ",
        "7CgNTT19okz_",
        "-4aX-LGUchhv",
        "7kZ1J6mAE0wX",
        "b_bNuVYhE4UX",
        "sw57MYZpM0S7",
        "aW2ID7IUvOnM",
        "UogfWauQKqwW",
        "EGiOiy1NxhsH",
        "WzHy98GlMopg"
      ],
      "mount_file_id": "1MUloBUMUoUzaSqaJhPQ6ne1hEbCgcRwl",
      "authorship_tag": "ABX9TyOgPklVbRX0CqA/4ZyXiCEQ",
      "include_colab_link": true
    },
    "kernelspec": {
      "name": "python3",
      "display_name": "Python 3"
    }
  },
  "cells": [
    {
      "cell_type": "markdown",
      "metadata": {
        "id": "view-in-github",
        "colab_type": "text"
      },
      "source": [
        "<a href=\"https://colab.research.google.com/github/YujiSue/CppOnColabJ/blob/main/%E3%83%90%E3%82%A4%E3%82%AA%E3%82%A4%E3%83%B3%E3%83%95%E3%82%A9%E3%83%9E%E3%83%86%E3%82%A3%E3%82%AF%E3%82%B9.ipynb\" target=\"_parent\"><img src=\"https://colab.research.google.com/assets/colab-badge.svg\" alt=\"Open In Colab\"/></a>"
      ]
    },
    {
      "cell_type": "markdown",
      "metadata": {
        "id": "lOVAFsuuqFEJ"
      },
      "source": [
        "# このノートブックについて\n",
        "このノートは作者が研究用にC++で書いたバイオインフォマティクスのプログラムを、Google Colab上で利用するためのものです。  \n",
        "  \n",
        "Google Colabについての詳しい説明は、[トップページ](https://colab.research.google.com/notebooks/intro.ipynb)を参照してください。"
      ]
    },
    {
      "cell_type": "markdown",
      "metadata": {
        "id": "-zSJYDmH6ATp"
      },
      "source": [
        "# 使用方法\n",
        "まず手順１に従ってライブラリをインストールします。  \n",
        "続けて手順２-Xに従って、自分の使用したいアプリをインストールします。  \n",
        "最後に使用例を参考に、パラメータを設定して実行します。  \n",
        "詳細は、下記の各手順を参照してください。  \n",
        "  \n",
        "<font color=\"red\">※注意  \n",
        "ライブラリと各アプリは、いずれもお使いのコンピュータではなく、Googleのシステム上にインストールされます。一定時間が経過すると、インストールしたアプリなどはリセットされてしまいますので、再度インストールが必要となります。  \n",
        "詳しくは[Google ColabのFAQ](https://research.google.com/colaboratory/faq.html)を参照してください</font>"
      ]
    },
    {
      "cell_type": "markdown",
      "metadata": {
        "id": "qCr2AZY7OzZF"
      },
      "source": [
        "## 手順１ 必要なライブラリのインストール\n",
        "下セルを実行してください。"
      ]
    },
    {
      "cell_type": "code",
      "metadata": {
        "id": "zPSyBgjb-Lce",
        "colab": {
          "base_uri": "https://localhost:8080/"
        },
        "outputId": "d046344a-82a5-4921-9c79-9bad0cbfa8aa"
      },
      "source": [
        "import os\n",
        "import subprocess\n",
        "os.environ['PATH'] += ':/usr/local/lib' \n",
        "os.environ['LD_LIBRARY_PATH'] += ':/usr/local/lib'\n",
        "\n",
        "!wget -q \"https://drive.google.com/uc?export=download&id=1PJyHsoOLymWUXS2jpyxwd_UOXj0tTDp9\" -O /usr/local/include/slib.zip\n",
        "!unzip /usr/local/include/slib.zip -d /usr/local/include\n",
        "!rm /usr/local/include/slib.zip\n",
        "!wget -q \"https://drive.google.com/uc?export=download&id=1B0bNiD18uRNNkW_KyHUq0lx3RSRoembi\" -O /usr/local/lib/libsobj.so\n",
        "!wget -q \"https://drive.google.com/uc?export=download&id=1B2pqWpEkKULhGZ7kZxf0uzLq8BWpzGXJ\" -O /usr/local/lib/libsbioinfo.so\n",
        "!wget -q \"https://drive.google.com/uc?export=download&id=1B5JmaL4NxXQqDQRwQahTu0-NwbyXFK1Y\" -O /usr/local/lib/libsapp.so\n"
      ],
      "execution_count": 2,
      "outputs": [
        {
          "output_type": "stream",
          "text": [
            "Archive:  /usr/local/include/slib.zip\n",
            "  inflating: /usr/local/include/slib/sconfig.h  \n",
            "  inflating: /usr/local/include/slib/curl/stdcheaders.h  \n",
            "  inflating: /usr/local/include/slib/smath.h  \n",
            "  inflating: /usr/local/include/slib/sbioinfo.h  \n",
            "  inflating: /usr/local/include/slib/sapp.h  \n",
            "  inflating: /usr/local/include/slib/curl/system.h  \n",
            "  inflating: /usr/local/include/slib/curl/urlapi.h  \n",
            "  inflating: /usr/local/include/slib/crypto/sha.h  \n",
            "  inflating: /usr/local/include/slib/snet/snet.h  \n",
            "  inflating: /usr/local/include/slib/sbasic.h  \n",
            "  inflating: /usr/local/include/slib/crypto/endian.h  \n",
            "  inflating: /usr/local/include/slib/sio/sfile.h  \n",
            "  inflating: /usr/local/include/slib/crypto/md5.h  \n",
            "  inflating: /usr/local/include/slib/sobj.h  \n",
            "  inflating: /usr/local/include/slib/sapp/scuiapp.h  \n",
            "  inflating: /usr/local/include/slib/sqlite/sqlite3.h  \n",
            "  inflating: /usr/local/include/slib/sio/sio.h  \n",
            "  inflating: /usr/local/include/slib/sutil/sxml.h  \n",
            "  inflating: /usr/local/include/slib/sapp/scvapp.h  \n",
            "  inflating: /usr/local/include/slib/snet/smail.h  \n",
            "  inflating: /usr/local/include/slib/curl/multi.h  \n",
            "  inflating: /usr/local/include/slib/curl/mprintf.h  \n",
            "  inflating: /usr/local/include/slib/sapp/snodeapp.h  \n",
            "  inflating: /usr/local/include/slib/sutil/sutil.h  \n",
            "  inflating: /usr/local/include/slib/sapp/sappbasic.h  \n",
            "  inflating: /usr/local/include/slib/sapp/sglapp.h  \n",
            "  inflating: /usr/local/include/slib/curl/curlver.h  \n",
            "  inflating: /usr/local/include/slib/curl/typecheck-gcc.h  \n",
            "  inflating: /usr/local/include/slib/sutil/sthread.h  \n",
            "  inflating: /usr/local/include/slib/curl/curl.h  \n",
            "  inflating: /usr/local/include/slib/zlib/inflate.h  \n",
            "  inflating: /usr/local/include/slib/curl/easy.h  \n",
            "  inflating: /usr/local/include/slib/sutil/sdocument.h  \n",
            "  inflating: /usr/local/include/slib/sutil/sjson.h  \n",
            "  inflating: /usr/local/include/slib/sutil/ssearch.h  \n",
            "  inflating: /usr/local/include/slib/sutil/sannotation.h  \n",
            "  inflating: /usr/local/include/slib/sutil/ssys.h  \n",
            "  inflating: /usr/local/include/slib/sutil/schrono.h  \n",
            "  inflating: /usr/local/include/slib/sutil/sdb.h  \n",
            "  inflating: /usr/local/include/slib/zlib/zutil.h  \n",
            "  inflating: /usr/local/include/slib/zlib/zconf.h  \n",
            "  inflating: /usr/local/include/slib/zlib/inffixed.h  \n",
            "  inflating: /usr/local/include/slib/zlib/gzguts.h  \n",
            "  inflating: /usr/local/include/slib/sapp/cvui.h  \n",
            "  inflating: /usr/local/include/slib/sobj/svoid.h  \n",
            "  inflating: /usr/local/include/slib/sobj/sstring.h  \n",
            "  inflating: /usr/local/include/slib/sobj/sset.h  \n",
            "  inflating: /usr/local/include/slib/zlib/deflate.h  \n",
            "  inflating: /usr/local/include/slib/sutil/scode.h  \n",
            "  inflating: /usr/local/include/slib/sobj/stext.h  \n",
            "  inflating: /usr/local/include/slib/sobj/sfunc.h  \n",
            "  inflating: /usr/local/include/slib/sobj/sobject.h  \n",
            "  inflating: /usr/local/include/slib/sobj/stable.h  \n",
            "  inflating: /usr/local/include/slib/sobj/snumber.h  \n",
            "  inflating: /usr/local/include/slib/zlib/zlib.h  \n",
            "  inflating: /usr/local/include/slib/sobj/sdate.h  \n",
            "  inflating: /usr/local/include/slib/libjpeg/jversion.h  \n",
            "  inflating: /usr/local/include/slib/sobj/snode.h  \n",
            "  inflating: /usr/local/include/slib/libjpeg/jinclude.h  \n",
            "  inflating: /usr/local/include/slib/zlib/inffast.h  \n",
            "  inflating: /usr/local/include/slib/zlib/trees.h  \n",
            "  inflating: /usr/local/include/slib/sobj/sdict.h  \n",
            "  inflating: /usr/local/include/slib/sobj/sdata.h  \n",
            "  inflating: /usr/local/include/slib/libjpeg/jdhuff.h  \n",
            "  inflating: /usr/local/include/slib/sobj/sarray.h  \n",
            "  inflating: /usr/local/include/slib/libjpeg/jconfig.h  \n",
            "  inflating: /usr/local/include/slib/libjpeg/jchuff.h  \n",
            "  inflating: /usr/local/include/slib/libjpeg/jmorecfg.h  \n",
            "  inflating: /usr/local/include/slib/zlib/crc32.h  \n",
            "  inflating: /usr/local/include/slib/libjpeg/jpegint.h  \n",
            "  inflating: /usr/local/include/slib/zlib/inftrees.h  \n",
            "  inflating: /usr/local/include/slib/smedia/smovie.h  \n",
            "  inflating: /usr/local/include/slib/libjpeg/jmemsys.h  \n",
            "  inflating: /usr/local/include/slib/libpng/pngconf.h  \n",
            "  inflating: /usr/local/include/slib/libjpeg/jdct.h  \n",
            "  inflating: /usr/local/include/slib/smedia/smedia.h  \n",
            "  inflating: /usr/local/include/slib/smedia/spaint.h  \n",
            "  inflating: /usr/local/include/slib/libpng/pnginfo.h  \n",
            "  inflating: /usr/local/include/slib/libpng/pngstruct.h  \n",
            "  inflating: /usr/local/include/slib/smedia/smedio.h  \n",
            "  inflating: /usr/local/include/slib/libjpeg/jpeglib.h  \n",
            "  inflating: /usr/local/include/slib/smedia/scv.h  \n",
            "  inflating: /usr/local/include/slib/smedia/spixel.h  \n",
            "  inflating: /usr/local/include/slib/smedia/simage.h  \n",
            "  inflating: /usr/local/include/slib/libpng/pngpriv.h  \n",
            "  inflating: /usr/local/include/slib/smedia/sfigure.h  \n",
            "  inflating: /usr/local/include/slib/smath/mathbasic.h  \n",
            "  inflating: /usr/local/include/slib/smedia/sgraphic.h  \n",
            "  inflating: /usr/local/include/slib/libpng/config.h  \n",
            "  inflating: /usr/local/include/slib/libtiff/tiffvers.h  \n",
            "  inflating: /usr/local/include/slib/smath/smath.h  \n",
            "  inflating: /usr/local/include/slib/libtiff/tiffio.hxx  \n",
            "  inflating: /usr/local/include/slib/smath/stat.h  \n",
            "  inflating: /usr/local/include/slib/smath/snumeric.h  \n",
            "  inflating: /usr/local/include/slib/libtiff/tiffiop.h  \n",
            "  inflating: /usr/local/include/slib/smath/la.h  \n",
            "  inflating: /usr/local/include/slib/smath/calc.h  \n",
            "  inflating: /usr/local/include/slib/libtiff/uvcode.h  \n",
            "  inflating: /usr/local/include/slib/smath/comp.h  \n",
            "  inflating: /usr/local/include/slib/libjpeg/jerror.h  \n",
            "  inflating: /usr/local/include/slib/smath/frac.h  \n",
            "  inflating: /usr/local/include/slib/libtiff/tif_predict.h  \n",
            "  inflating: /usr/local/include/slib/libtiff/tiffio.h  \n",
            "  inflating: /usr/local/include/slib/libtiff/tif_config.wince.h  \n",
            "  inflating: /usr/local/include/slib/smath/geom.h  \n",
            "  inflating: /usr/local/include/slib/libpng/pnglibconf.h  \n",
            "  inflating: /usr/local/include/slib/libpng/png.h  \n",
            "  inflating: /usr/local/include/slib/libtiff/tiff.h  \n",
            "  inflating: /usr/local/include/slib/libtiff/tif_fax3.h  \n",
            "  inflating: /usr/local/include/slib/libpng/pngdebug.h  \n",
            "  inflating: /usr/local/include/slib/sbasic/sutf8.h  \n",
            "  inflating: /usr/local/include/slib/sbasic/region.h  \n",
            "  inflating: /usr/local/include/slib/libtiff/tiffconf.h  \n",
            "  inflating: /usr/local/include/slib/sbasic/zone.h  \n",
            "  inflating: /usr/local/include/slib/sbasic/style.h  \n",
            "  inflating: /usr/local/include/slib/sbasic/time.h  \n",
            "  inflating: /usr/local/include/slib/libtiff/tif_config.h  \n",
            "  inflating: /usr/local/include/slib/sbasic/set.h  \n",
            "  inflating: /usr/local/include/slib/libtiff/tiffconf.wince.h  \n",
            "  inflating: /usr/local/include/slib/libtiff/t4.h  \n",
            "  inflating: /usr/local/include/slib/sbasic/mapiter.h  \n",
            "  inflating: /usr/local/include/slib/libtiff/tif_config.vc.h  \n",
            "  inflating: /usr/local/include/slib/sbasic/string.h  \n",
            "  inflating: /usr/local/include/slib/sbasic/ptr.h  \n",
            "  inflating: /usr/local/include/slib/sbasic/range.h  \n",
            "  inflating: /usr/local/include/slib/sbasic/node.h  \n",
            "  inflating: /usr/local/include/slib/libtiff/tif_dir.h  \n",
            "  inflating: /usr/local/include/slib/sbasic/list.h  \n",
            "  inflating: /usr/local/include/slib/sbasic/memory.h  \n",
            "  inflating: /usr/local/include/slib/sbasic/listiter.h  \n",
            "  inflating: /usr/local/include/slib/sbasic/map.h  \n",
            "  inflating: /usr/local/include/slib/sbasic/cyciter.h  \n",
            "  inflating: /usr/local/include/slib/libtiff/tiffconf.vc.h  \n",
            "  inflating: /usr/local/include/slib/sbasic/char.h  \n",
            "  inflating: /usr/local/include/slib/sbasic/locale.h  \n",
            "  inflating: /usr/local/include/slib/sbasic/fixedarray.h  \n",
            "  inflating: /usr/local/include/slib/sbasic/cyclearray .h  \n",
            "  inflating: /usr/local/include/slib/sbioinfo/sngs.h  \n",
            "  inflating: /usr/local/include/slib/sbasic/arrayiter.h  \n",
            "  inflating: /usr/local/include/slib/sbasic/biarray.h  \n",
            "  inflating: /usr/local/include/slib/sbasic/array.h  \n",
            "  inflating: /usr/local/include/slib/sbasic/area.h  \n",
            "  inflating: /usr/local/include/slib/sbioinfo/svarutil.h  \n",
            "  inflating: /usr/local/include/slib/sbioinfo/sprimer.h  \n",
            "  inflating: /usr/local/include/slib/sbioinfo/sfastq.h  \n",
            "  inflating: /usr/local/include/slib/sbioinfo/sbseqio.h  \n",
            "  inflating: /usr/local/include/slib/sbioinfo/sgf.h  \n",
            "  inflating: /usr/local/include/slib/sbioinfo/svariant.h  \n",
            "  inflating: /usr/local/include/slib/sbioinfo/sbalign.h  \n",
            "  inflating: /usr/local/include/slib/sbasic/exception.h  \n",
            "  inflating: /usr/local/include/slib/sbioinfo/sbioinfoutil.h  \n",
            "  inflating: /usr/local/include/slib/sbioinfo/sbioseq.h  \n",
            "  inflating: /usr/local/include/slib/sbioinfo/sbsequtil.h  \n",
            "  inflating: /usr/local/include/slib/sbioinfo/sbseqedit.h  \n",
            "  inflating: /usr/local/include/slib/sbioinfo/sbsearch.h  \n",
            "  inflating: /usr/local/include/slib/sbioinfo/sbannot.h  \n",
            "  inflating: /usr/local/include/slib/sbioinfo/sbioinfo.h  \n",
            "  inflating: /usr/local/include/slib/sbioinfo/sbam.h  \n"
          ],
          "name": "stdout"
        }
      ]
    },
    {
      "cell_type": "markdown",
      "metadata": {
        "id": "g86ajGAR9Ez9"
      },
      "source": [
        "## 手順２ 各アプリのインストールと使用\n",
        "\n"
      ]
    },
    {
      "cell_type": "markdown",
      "metadata": {
        "id": "HCw7WAngD8m9"
      },
      "source": [
        "### 使用するアプリの選択"
      ]
    },
    {
      "cell_type": "markdown",
      "metadata": {
        "id": "HwtS7wpnD2QF"
      },
      "source": [
        "* **_[GenomeConverter](#gen-conv)_**: ゲノム配列をバイナリ化したファイルを作成するアプリ。バイナリ化したゲノム配列は、作者の他のアプリで使用します。  \n",
        "  \n",
        "* **_[GenomeExtract](#gen-ext)_**: GenomeConverterで作成したファイルを使って、任意の位置のゲノム配列を取得するアプリ。  \n",
        "  \n",
        "* **_[GFFParser](#gffp)_**: GFF3フォーマットの構造を確認するためのアプリ。作者は主にAnnotDBMakerのプラグイン作成時に使用しました。\n",
        "  \n",
        "* **_[AnnotDBMaker](#annot-make)_**: アノテーション用のsqlite3形式のデータベースを作成するアプリ。使用するには個々の生物種ごとのデータセットに合わせたプラグインが必要です（※現時点ではヒト用と線虫用のみ公開中）。  \n",
        "  \n",
        "* **_[BioAnnotation](#bio-annot)_**: AnnotDBMakerで作成したデータベースファイルをもとに、指定された領域の遺伝子、転写産物、既知変異のアノテーション情報などを取得するアプリ。逆引き（遺伝子名→ゲノム位置など）も可能です。\n",
        "\n",
        "* **_[GeneMapSVG](#gen-map)_**: 指定したゲノム領域について、遺伝子、転写産物の構造、変異位置などをグラフィカルに表した画像ファイル(svg)を作成するアプリ。\n",
        "\n",
        "* **_[VariantDetect](#var-det)_**: 塩基配列、とくにサンガーシーケンスの結果から、SNPや欠失など、変異の種類と位置を検出するアプリ。"
      ]
    },
    {
      "cell_type": "markdown",
      "metadata": {
        "id": "64E92VECCOOJ"
      },
      "source": [
        "<a name=\"gen-conv\"></a>\n",
        "### 手順２-１ GenomeConverterを使う"
      ]
    },
    {
      "cell_type": "markdown",
      "metadata": {
        "id": "SJ1MQcawDQ24"
      },
      "source": [
        "####インストール方法\n",
        "下セルを実行してください。\n"
      ]
    },
    {
      "cell_type": "code",
      "metadata": {
        "id": "cZ0FP6I3DNIE",
        "colab": {
          "base_uri": "https://localhost:8080/"
        },
        "outputId": "76393f71-f004-44a9-c535-bf56cdc63637"
      },
      "source": [
        "!mkdir -p Codes\n",
        "!wget https://raw.githubusercontent.com/YujiSue/BioInfoTools/master/GenomeConverter/GenomeConverter.cpp -O Codes/GenomeConverter.cpp\n",
        "!g++ -std=c++11 -I/usr/local/include/slib -L/usr/local/lib -O2 -o GenomeConverter Codes/GenomeConverter.cpp -lsapp -lsbioinfo -lsobj -lcurl"
      ],
      "execution_count": 3,
      "outputs": [
        {
          "output_type": "stream",
          "text": [
            "--2021-05-18 23:45:10--  https://raw.githubusercontent.com/YujiSue/BioInfoTools/master/GenomeConverter/GenomeConverter.cpp\n",
            "Resolving raw.githubusercontent.com (raw.githubusercontent.com)... 185.199.108.133, 185.199.109.133, 185.199.110.133, ...\n",
            "Connecting to raw.githubusercontent.com (raw.githubusercontent.com)|185.199.108.133|:443... connected.\n",
            "HTTP request sent, awaiting response... 200 OK\n",
            "Length: 4403 (4.3K) [text/plain]\n",
            "Saving to: ‘Codes/GenomeConverter.cpp’\n",
            "\n",
            "\r          Codes/Gen   0%[                    ]       0  --.-KB/s               \rCodes/GenomeConvert 100%[===================>]   4.30K  --.-KB/s    in 0s      \n",
            "\n",
            "2021-05-18 23:45:11 (43.4 MB/s) - ‘Codes/GenomeConverter.cpp’ saved [4403/4403]\n",
            "\n"
          ],
          "name": "stdout"
        }
      ]
    },
    {
      "cell_type": "markdown",
      "metadata": {
        "id": "fJX3Is8wzYER"
      },
      "source": [
        "#### 使用方法\n",
        "下セルのパラメータ入力欄に必要事項を記入して、実行してください。  \n",
        "\n",
        "> FASTAファイル：ゲノムファイルのパスを入力してください。\n",
        "\n",
        "> 出力ファイル：作成するファイルの保存用ファイル名を入力してください。   \n",
        "\n",
        "> 種名（オプション）：種名を入力してください。  \n",
        "\n",
        "> バージョン（オプション）：ゲノムのバージョンを入力してください。 \n",
        "\n",
        "> リンケージグループのみ対象（オプション）：チェックを入れると、染色体（リンケージグループ）として扱われている配列のみを対象とします。 "
      ]
    },
    {
      "cell_type": "code",
      "metadata": {
        "id": "Y8V5tcRL0INw",
        "cellView": "form"
      },
      "source": [
        "#@markdown ####パラメータ  \n",
        "FASTAファイル = '' #@param {type:'string'}\n",
        "出力ファイル = '' #@param {type:'string'}\n",
        "#@markdown >（オプション）\n",
        "種名 = '' #@param {type:'string'}\n",
        "バージョン = '' #@param {type:'string'}\n",
        "リンケージグループのみ対象 = False #@param {type:'boolean'}\n",
        "\n",
        "cmd = './GenomeConverter' + ' -o \"'+ 出力ファイル + '\"'\n",
        "if リンケージグループのみ対象:\n",
        "  cmd = cmd + ' -l'\n",
        "if 種名 != '':\n",
        "  cmd = cmd + ' -s \"' + 種名 + '\"'\n",
        "if バージョン != '':\n",
        "  cmd = cmd + ' -r \"' + バージョン + '\"'\n",
        "cmd = cmd + ' \"' + FASTAファイル + '\"'\n",
        "output = subprocess.check_output(cmd, shell=True, text=True)\n",
        "print(output)"
      ],
      "execution_count": null,
      "outputs": []
    },
    {
      "cell_type": "markdown",
      "metadata": {
        "id": "jNvG4KYqDTF1"
      },
      "source": [
        "#### 使用例 (H.sapiens)"
      ]
    },
    {
      "cell_type": "markdown",
      "metadata": {
        "id": "npq1tgZNHCWb"
      },
      "source": [
        "i. ゲノム配列(FASTA形式)をダウンロードして展開します。"
      ]
    },
    {
      "cell_type": "code",
      "metadata": {
        "id": "JRD8OhU9HFXw"
      },
      "source": [
        "!curl -O ftp://ftp.ncbi.nlm.nih.gov/genomes/all/GCF/000/001/405/GCF_000001405.39_GRCh38.p13/GCF_000001405.39_GRCh38.p13_genomic.fna.gz\n",
        "!gzip -d GCF_000001405.39_GRCh38.p13_genomic.fna.gz"
      ],
      "execution_count": null,
      "outputs": []
    },
    {
      "cell_type": "markdown",
      "metadata": {
        "id": "c-utcTD2HHgp"
      },
      "source": [
        "ii. パラメータを入力してアプリを実行します。\n",
        "\n",
        "> ファイル\"GCF_000001405.39_GRCh38.p13_genomic.fna\"  \n",
        "> を以下の設定で変換します。  \n",
        "> 種名：H. sapiens  \n",
        "> バージョン：GRCh38.p13  \n",
        "> 染色体（リンケージグループ）のみを対象  \n",
        "> \"human.bin\"として保存  "
      ]
    },
    {
      "cell_type": "code",
      "metadata": {
        "id": "zYLWtSMT3E0e",
        "cellView": "form"
      },
      "source": [
        "#@markdown ####パラメータ  \n",
        "FASTAファイル = 'GCF_000001405.39_GRCh38.p13_genomic.fna' #@param {type:'string'}\n",
        "出力ファイル = 'humanFull.bin' #@param {type:'string'}\n",
        "#@markdown >（オプション）\n",
        "種名 = 'H. sapiens' #@param {type:'string'}\n",
        "バージョン = 'GRCh38.p13' #@param {type:'string'}\n",
        "リンケージグループのみ対象 = False #@param {type:'boolean'}\n",
        "\n",
        "cmd = './GenomeConverter' + ' -o \"'+ 出力ファイル + '\"'\n",
        "if リンケージグループのみ対象:\n",
        "  cmd = cmd + ' -l'\n",
        "if 種名 != '':\n",
        "  cmd = cmd + ' -s \"' + 種名 + '\"'\n",
        "if バージョン != '':\n",
        "  cmd = cmd + ' -r \"' + バージョン + '\"'\n",
        "cmd = cmd + ' \"' + FASTAファイル + '\"'\n",
        "output = subprocess.check_output(cmd, shell=True, text=True)\n",
        "print(output)"
      ],
      "execution_count": null,
      "outputs": []
    },
    {
      "cell_type": "markdown",
      "metadata": {
        "id": "9FPooEBxI0nI"
      },
      "source": [
        "#### 使用例 (C.elegans)"
      ]
    },
    {
      "cell_type": "markdown",
      "metadata": {
        "id": "ySUg9i-mIHAu"
      },
      "source": [
        "i. ゲノム配列(FASTA形式)をダウンロードして展開します。"
      ]
    },
    {
      "cell_type": "code",
      "metadata": {
        "id": "WK-psvXGIH2v"
      },
      "source": [
        "!curl -O ftp://ftp.wormbase.org/pub/wormbase/species/c_elegans/sequence/genomic/c_elegans.PRJNA13758.current.genomic.fa.gz\n",
        "!gzip -d c_elegans.PRJNA13758.current.genomic.fa.gz"
      ],
      "execution_count": null,
      "outputs": []
    },
    {
      "cell_type": "markdown",
      "metadata": {
        "id": "pCI9rd93IJgt"
      },
      "source": [
        "ii. パラメータを入力してアプリを実行します。\n",
        "\n",
        "> ファイル\"c_elegans.PRJNA13758.current.genomic.fa\"  \n",
        "> を以下の設定で変換します。 \n",
        "> 種名：C. elegans  \n",
        "> バージョン：WS274  \n",
        "> \"nematode.bin\"として保存   "
      ]
    },
    {
      "cell_type": "code",
      "metadata": {
        "id": "KtOI8hcuK4FX",
        "cellView": "form"
      },
      "source": [
        "#@markdown ####パラメータ  \n",
        "FASTAファイル = 'c_elegans.PRJNA13758.current.genomic.fa' #@param {type:'string'}\n",
        "出力ファイル = 'nematode.bin' #@param {type:'string'}\n",
        "#@markdown >（オプション）\n",
        "種名 = 'C.elegans' #@param {type:'string'}\n",
        "バージョン = 'WS274' #@param {type:'string'}\n",
        "リンケージグループのみ対象 = False #@param {type:'boolean'}\n",
        "\n",
        "cmd = './GenomeConverter' + ' -o \"'+ 出力ファイル + '\"'\n",
        "if リンケージグループのみ対象:\n",
        "  cmd = cmd + ' -l'\n",
        "if 種名 != '':\n",
        "  cmd = cmd + ' -s \"' + 種名 + '\"'\n",
        "if バージョン != '':\n",
        "  cmd = cmd + ' -r \"' + バージョン + '\"'\n",
        "cmd = cmd + ' \"' + FASTAファイル + '\"'\n",
        "output = subprocess.check_output(cmd, shell=True, text=True)\n",
        "print(output)"
      ],
      "execution_count": null,
      "outputs": []
    },
    {
      "cell_type": "markdown",
      "metadata": {
        "id": "2f33Bl-JbaIJ"
      },
      "source": [
        "#### コマンドライン（CUI）アプリとして使用する場合\n",
        "以下のヘルプを参照に、コマンドを実行してください。"
      ]
    },
    {
      "cell_type": "code",
      "metadata": {
        "id": "rjfXeyO6bcOi",
        "colab": {
          "base_uri": "https://localhost:8080/"
        },
        "outputId": "43748b1c-0c9e-416b-bddd-d1c43a98db61"
      },
      "source": [
        "!./GenomeConverter --help"
      ],
      "execution_count": null,
      "outputs": [
        {
          "output_type": "stream",
          "text": [
            "============================================================\n",
            "GenomeConverter v1.2.0\n",
            "Copyright (c) 2015 Yuji Suehiro. All rights reserved. \n",
            "MIT license.\n",
            ". . . . . . . . . . . . . . . . . . . . . . . . . . . . . . \n",
            "\n",
            "Usage:\n",
            "  GenomeConverter -o 'output' \u001b[3m\u001b[39minput(s)\u001b[0m\u001b[39m\u001b[49m\u001b[0m\u001b[39m\u001b[49m { -l } { -s name } { -r version }\n",
            ". . . . . . . . . . . . . . . . . . . . . . . . . . . . . . \n",
            "\n",
            "[Option]\n",
            "  --linkage/-l        :  Select only linkaged sequence.\n",
            "  --out/-o            : \u001b[0m\u001b[31m*\u001b[0m\u001b[39m\u001b[49m\u001b[0m\u001b[39m\u001b[49mOutput file path.\n",
            "  --refver/-r         :  Reference version.\n",
            "  --species/-s        :  Species.\n",
            "\n",
            "  --help/-H           : Show help.\n",
            "  --version/-V        : Show version.\n",
            "  --info/-I           : Show app information.\n",
            "\n",
            "\u001b[0m\u001b[31m  * Required option.\u001b[0m\u001b[39m\u001b[49m\u001b[0m\u001b[39m\u001b[49m\n",
            "\u001b[0m\u001b[34m  # Choose one of the options.\u001b[0m\u001b[39m\u001b[49m\u001b[0m\u001b[39m\u001b[49m\n",
            "============================================================\n"
          ],
          "name": "stdout"
        }
      ]
    },
    {
      "cell_type": "markdown",
      "metadata": {
        "id": "HfocWqchod6A"
      },
      "source": [
        "<a name=\"gen-ext\"></a>\n",
        "### 手順２-２ GenomeExtractを使う\n",
        "<font color=\"red\">※注意  \n",
        "このアプリを使用するには、GenomeConverterを使って作成したゲノム配列のバイナリファイルが必要です。</font>  "
      ]
    },
    {
      "cell_type": "markdown",
      "metadata": {
        "id": "7CgNTT19okz_"
      },
      "source": [
        "#### インストール方法\n",
        "下セルを実行してください。"
      ]
    },
    {
      "cell_type": "code",
      "metadata": {
        "id": "0dLfnLJQolSk",
        "colab": {
          "base_uri": "https://localhost:8080/"
        },
        "outputId": "4d34e2ea-54d2-4614-d5b2-ac868507106d"
      },
      "source": [
        "!mkdir -p Codes\n",
        "!wget https://raw.githubusercontent.com/YujiSue/BioInfoTools/master/GenomeExtract/GenomeExtract.cpp -O Codes/GenomeExtract.cpp\n",
        "!g++ -std=c++11 -I/usr/local/include/slib -L/usr/local/lib -O2 -o GenomeExtract Codes/GenomeExtract.cpp -lsapp -lsbioinfo -lsobj -lcurl"
      ],
      "execution_count": 4,
      "outputs": [
        {
          "output_type": "stream",
          "text": [
            "--2021-05-18 23:45:35--  https://raw.githubusercontent.com/YujiSue/BioInfoTools/master/GenomeExtract/GenomeExtract.cpp\n",
            "Resolving raw.githubusercontent.com (raw.githubusercontent.com)... 185.199.108.133, 185.199.109.133, 185.199.110.133, ...\n",
            "Connecting to raw.githubusercontent.com (raw.githubusercontent.com)|185.199.108.133|:443... connected.\n",
            "HTTP request sent, awaiting response... 200 OK\n",
            "Length: 2957 (2.9K) [text/plain]\n",
            "Saving to: ‘Codes/GenomeExtract.cpp’\n",
            "\n",
            "\rCodes/GenomeExtract   0%[                    ]       0  --.-KB/s               \rCodes/GenomeExtract 100%[===================>]   2.89K  --.-KB/s    in 0s      \n",
            "\n",
            "2021-05-18 23:45:35 (27.8 MB/s) - ‘Codes/GenomeExtract.cpp’ saved [2957/2957]\n",
            "\n"
          ],
          "name": "stdout"
        }
      ]
    },
    {
      "cell_type": "markdown",
      "metadata": {
        "id": "j2lVa0m5BMEk"
      },
      "source": [
        "#### 使用方法\n",
        "下セルのパラメータ入力欄に必要事項を記入して、実行してください。  \n",
        "\n",
        "> リファレンス：GenomeConverterで作成したファイル名を入力してください。  \n",
        "\n",
        "> 位置情報：「染色体名:開始位置-終了位置」の形式で入力してください。  \n",
        "\n",
        "> 相補鎖を取得：相補配列を取得したい場合はチェックを入れてください。  \n",
        "\n",
        "> 出力形式：リストの中から選択してください。  \n",
        "\n",
        "\n"
      ]
    },
    {
      "cell_type": "code",
      "metadata": {
        "id": "6wy6wejkB2YV",
        "cellView": "form"
      },
      "source": [
        "#@markdown ####パラメータ  \n",
        "リファレンス = '' #@param {type:'string'}\n",
        "位置情報 = '' #@param {type:'string'}\n",
        "相補鎖を取得 = False #@param {type:'boolean'}\n",
        "出力形式 = 'fa' #@param ['txt', 'fa']\n",
        "cmd = './GenomeExtract' + ' -r \"'+リファレンス + '\" -f '+ 出力形式\n",
        "if 相補鎖を取得:\n",
        "  cmd = cmd + ' --rev'\n",
        "cmd = cmd + ' \"' + 位置情報 + '\"'\n",
        "output = subprocess.check_output(cmd, shell=True, text=True)\n",
        "print(output)"
      ],
      "execution_count": null,
      "outputs": []
    },
    {
      "cell_type": "markdown",
      "metadata": {
        "id": "I3kNwXkRoldj"
      },
      "source": [
        "#### 使用例 (H.sapiens)\n",
        "<font color=\"red\">※GenomeConverterで作成したファイル名が\"human.bin\"の場合です。</font>  \n",
        "  \n",
        "> 17番染色体の7670kから1kbの範囲について、相補鎖配列をFASTA形式で出力します。"
      ]
    },
    {
      "cell_type": "code",
      "metadata": {
        "colab": {
          "base_uri": "https://localhost:8080/"
        },
        "id": "UeGyuCkWLRzZ",
        "cellView": "form",
        "outputId": "f3453dbd-66b1-4506-8d8e-829d5ee80434"
      },
      "source": [
        "#@markdown ####パラメータ  \n",
        "リファレンス = 'human.bin' #@param {type:'string'}\n",
        "位置情報 = '17:7670001..7671000' #@param {type:'string'}\n",
        "相補鎖を取得 = True #@param {type:'boolean'}\n",
        "出力形式 = 'fa' #@param ['txt', 'fa']\n",
        "cmd = './GenomeExtract' + ' -r \"'+リファレンス + '\" -f '+ 出力形式\n",
        "if 相補鎖を取得:\n",
        "  cmd = cmd + ' --rev'\n",
        "cmd = cmd + ' \"' + 位置情報 + '\"'\n",
        "output = subprocess.check_output(cmd, shell=True, text=True)\n",
        "print(output)"
      ],
      "execution_count": null,
      "outputs": [
        {
          "output_type": "stream",
          "text": [
            ">17:7670001..7671000\n",
            "GCGATTCTCCTGCCTCAGCCTCCCGAGTAGGTAGCTGGGATTACAGGCATGCATCACCAC\n",
            "GCCCGGCTACTTTTGTATTTTTAGTAGAGATGGGGTTTCTCCATGTTGGTCAGGCTGGGC\n",
            "TCAAACTCCCGACCTCAGGTGATCCACTCGCCTTGGCCTCCCAGAGTGTGGGATTCGTGA\n",
            "GCCACTGCGCCCGGCCCCCTTACCCCATTTTATATATAAGGAAACTGAGTTTGACGGGGG\n",
            "TCACCTAGGACCTGCCGGTGCATGGCAGGGCTGAGTATATGACCTGAAACTCTGGCTGTA\n",
            "TTCAGTATTACACAATTATTAGGCCCCTCCTTGAGACCCTCCAGCTCTGGGCTGGGAGTT\n",
            "GCGGAGAATGGCAAAGAAGTATCCACACTCGTCCCTGGGTTTGGATGTTCTGTGGATACA\n",
            "CTGAGGCAAGAATGTGGTTATAGGATTCAACCGGAGGAAGACTAAAAAAATGTCTGTGCA\n",
            "GGGCTGGGACCCAATGAGATGGGGTCAGCTGCCTTTGACCATGAAGGCAGGATGAGAATG\n",
            "GAATCCTATGGCTTTCCAACCTAGGAAGGCAGGGGAGTAGGGCCAGGAAGGGGCTGAGGT\n",
            "CACTCACCTGGAGTGAGCCCTGCTCCCCCCTGGCTCCTTCCCAGCCTGGGCATCCTTGAG\n",
            "TTCCAAGGCCTCATTCAGCTCTCGGAACATCTCGAAGCGCTCACGCCCACGGATCTGCAG\n",
            "CAACAGAGGAGGGGGAGAAGTAAGTATATACACAGTACCTGAGTTAAAAGATGGTTCAAG\n",
            "TTACAATTGTTTGACTTTATGACGGTACAAAAGCAACATGCATTTAGTAGAAACTGCACT\n",
            "TCAAGTACCTATACAGCTGACTTTTAAAAATATTTATTTATTTATTTTGAGATGGGGTCT\n",
            "CACTCTGTTGCCCAGGCGGGAGTGCAATGGTGCAATCTTGGCTGATTGCAATCTCCGCCT\n",
            "CTGGGGTTCAAGTGATTCTTGTGCCTCAGCCTCCCGAGTA\n",
            "\n"
          ],
          "name": "stdout"
        }
      ]
    },
    {
      "cell_type": "markdown",
      "metadata": {
        "id": "_Lv9yz7-d-MJ"
      },
      "source": [
        "#### 使用例 (C.elegans)\n",
        "<font color=\"red\">※GenomeConverterで作成したファイル名が\"nematode.bin\"の場合です。</font>   \n",
        "\n",
        "> 染色体IIIの1234567から1234789までの範囲について、配列をTXT形式で出力します。"
      ]
    },
    {
      "cell_type": "code",
      "metadata": {
        "colab": {
          "base_uri": "https://localhost:8080/"
        },
        "id": "4eDItNefGUPs",
        "cellView": "form",
        "outputId": "920f3a45-c2d9-4dd1-fc7f-bb11b5d975b4"
      },
      "source": [
        "#@markdown ####パラメータ  \n",
        "リファレンス = 'nematode.bin' #@param {type:'string'}\n",
        "位置情報 = 'III:1234567..1234789' #@param {type:'string'}\n",
        "相補鎖を取得 = False #@param {type:'boolean'}\n",
        "出力形式 = 'txt' #@param ['txt', 'fa']\n",
        "cmd = './GenomeExtract' + ' -r \"'+リファレンス + '\" -f '+ 出力形式\n",
        "if 相補鎖を取得:\n",
        "  cmd = cmd + ' --rev'\n",
        "cmd = cmd + ' \"' + 位置情報 + '\"'\n",
        "output = subprocess.check_output(cmd, shell=True, text=True)\n",
        "print(output)"
      ],
      "execution_count": null,
      "outputs": [
        {
          "output_type": "stream",
          "text": [
            "AAAATTCACATTGAAAATTTTGGGTCCTACCACGAACACTTACGGGGTACTGTAGACTTGACAAAGCAACTAGATCATACGTTTTTTTTTCTACAGTAATCCAAAAAAAATCAAAAATCTTTATTCAAAAAAATCTCAAATCTAAAAACAACAAACTCAAAAAATTAATCGAATTTTATTTTTAACCTTAAATTAATTTTTTTTTCCAATTACCCCACATACC\n",
            "\n"
          ],
          "name": "stdout"
        }
      ]
    },
    {
      "cell_type": "markdown",
      "metadata": {
        "id": "-4aX-LGUchhv"
      },
      "source": [
        "#### コマンドライン（CUI）アプリとして使用する場合\n",
        "以下のヘルプを参照に、コマンドを実行してください。"
      ]
    },
    {
      "cell_type": "code",
      "metadata": {
        "id": "LKlpFAoKcjXz",
        "colab": {
          "base_uri": "https://localhost:8080/",
          "height": 406
        },
        "outputId": "af61f23d-edf4-45a3-833a-4f04dbb24a7e"
      },
      "source": [
        "!./GenomeExtract --help"
      ],
      "execution_count": null,
      "outputs": [
        {
          "output_type": "stream",
          "text": [
            "============================================================\n",
            "GenomeExtract v1.1.0\n",
            "Copyright (c) 2015 Yuji Suehiro. All rights reserved. \n",
            "MIT license\n",
            ". . . . . . . . . . . . . . . . . . . . . . . . . . . . . . \n",
            "\n",
            "Usage:\n",
            "  GenomeExtract -r file \u001b[3m\u001b[39mposition(s)\u001b[0m\u001b[39m\u001b[49m\u001b[0m\u001b[39m\u001b[49m { -f txt/fa } { --rev }\n",
            ". . . . . . . . . . . . . . . . . . . . . . . . . . . . . . \n",
            "\n",
            "[Option]\n",
            "  --format/-f         :  File format to display or export.\n",
            "  --ref/-r            : \u001b[0m\u001b[31m*\u001b[0m\u001b[39m\u001b[49m\u001b[0m\u001b[39m\u001b[49mReference file path.\n",
            "  --rev               :  Get reverse strand seq.\n",
            "\n",
            "  --help/-H           : Show help.\n",
            "  --version/-V        : Show version.\n",
            "  --info/-I           : Show app information.\n",
            "\n",
            "\u001b[0m\u001b[31m  * Required option.\u001b[0m\u001b[39m\u001b[49m\u001b[0m\u001b[39m\u001b[49m\n",
            "\u001b[0m\u001b[34m  # Choose one of the options.\u001b[0m\u001b[39m\u001b[49m\u001b[0m\u001b[39m\u001b[49m\n",
            "============================================================\n"
          ],
          "name": "stdout"
        }
      ]
    },
    {
      "cell_type": "markdown",
      "metadata": {
        "id": "7kZ1J6mAE0wX"
      },
      "source": [
        "<a name=\"gffp\"></a>\n",
        "### 手順２-３ GFFParserを使う"
      ]
    },
    {
      "cell_type": "markdown",
      "metadata": {
        "id": "pokeYokoE3BD"
      },
      "source": [
        "####  インストール方法\n",
        "下セルを実行してください。"
      ]
    },
    {
      "cell_type": "code",
      "metadata": {
        "id": "IqxXn0fkE3Hv"
      },
      "source": [
        "!mkdir -p Codes\n",
        "!wget https://raw.githubusercontent.com/YujiSue/BioInfoTools/master/GFFParser/GFFParser.cpp -O Codes/GFFParser.cpp\n",
        "!g++ -std=c++11 -I/usr/local/include/slib -L/usr/local/lib -O2 -o GFFParser Codes/GFFParser.cpp -lsapp -lsbioinfo -lsobj -lcurl"
      ],
      "execution_count": null,
      "outputs": []
    },
    {
      "cell_type": "markdown",
      "metadata": {
        "id": "ex_NiBG2pCVe"
      },
      "source": [
        "#### 使用方法\n",
        "下セルのパラメータ入力欄に必要事項を記入して、実行してください。  \n",
        "\n",
        "> GFFファイル：解析対象のGFFファイルパスを入力してください。  "
      ]
    },
    {
      "cell_type": "code",
      "metadata": {
        "id": "5W-OTkqTpIUE",
        "cellView": "form"
      },
      "source": [
        "#@markdown ####パラメータ  \n",
        "GFFファイル = '' #@param {type:'string'}\n",
        "\n",
        "cmd = './GFFParser \"' + GFFファイル + '\"'\n",
        "output = subprocess.check_output(cmd, shell=True, text=True)\n",
        "print(output)"
      ],
      "execution_count": null,
      "outputs": []
    },
    {
      "cell_type": "markdown",
      "metadata": {
        "id": "2hq2fdlAE3Pz"
      },
      "source": [
        "#### 使用例 (H.sapiens)"
      ]
    },
    {
      "cell_type": "markdown",
      "metadata": {
        "id": "G67ZH6OWJOvP"
      },
      "source": [
        "1. gff3 ファイルをダウンロードして展開します。"
      ]
    },
    {
      "cell_type": "code",
      "metadata": {
        "id": "WkQDt2iFJSPa"
      },
      "source": [
        "!curl -O ftp://ftp.ensembl.org/pub/release-99/gff3/homo_sapiens/Homo_sapiens.GRCh38.99.chr.gff3.gz\n",
        "!gzip -d Homo_sapiens.GRCh38.99.chr.gff3.gz"
      ],
      "execution_count": null,
      "outputs": []
    },
    {
      "cell_type": "markdown",
      "metadata": {
        "id": "yOir3axIJVF-"
      },
      "source": [
        "2.  アプリを実行してください。"
      ]
    },
    {
      "cell_type": "code",
      "metadata": {
        "colab": {
          "base_uri": "https://localhost:8080/"
        },
        "id": "khmuoBaMuzD5",
        "cellView": "form",
        "outputId": "376fce36-34da-4587-e6b3-49e5e78deceb"
      },
      "source": [
        "#@markdown ####パラメータ  \n",
        "GFFファイル = 'Homo_sapiens.GRCh38.99.chr.gff3' #@param {type:'string'}\n",
        "\n",
        "cmd = './GFFParser \"' + GFFファイル + '\"'\n",
        "output = subprocess.check_output(cmd, shell=True, text=True)\n",
        "print(output)"
      ],
      "execution_count": null,
      "outputs": [
        {
          "output_type": "stream",
          "text": [
            "havana\tgene\t[\"description\",\"logic_name\",\"ID\",\"gene_id\",\"Name\",\"biotype\",\"version\"]\n",
            "havana\tthree_prime_UTR\t[\"Parent\"]\n",
            "havana\tunconfirmed_transcript\t[\"ID\",\"Parent\",\"tag\",\"Name\",\"biotype\",\"transcript_support_level\",\"version\",\"transcript_id\"]\n",
            "havana\tC_gene_segment\t[\"ID\",\"Parent\",\"tag\",\"Name\",\"biotype\",\"transcript_support_level\",\"version\",\"transcript_id\"]\n",
            "havana\tV_gene_segment\t[\"ID\",\"Parent\",\"tag\",\"Name\",\"biotype\",\"transcript_support_level\",\"version\",\"transcript_id\"]\n",
            "havana\tsnoRNA\t[\"ID\",\"Parent\",\"tag\",\"Name\",\"biotype\",\"transcript_support_level\",\"version\",\"transcript_id\"]\n",
            "havana\tpseudogenic_transcript\t[\"ID\",\"Parent\",\"tag\",\"Name\",\"biotype\",\"transcript_support_level\",\"version\",\"transcript_id\"]\n",
            "havana\tfive_prime_UTR\t[\"Parent\"]\n",
            "havana\tCDS\t[\"protein_id\",\"ID\",\"Parent\"]\n",
            "havana\tvaultRNA_primary_transcript\t[\"ID\",\"Parent\",\"tag\",\"Name\",\"biotype\",\"transcript_support_level\",\"version\",\"transcript_id\"]\n",
            "havana\tD_gene_segment\t[\"ID\",\"Parent\",\"tag\",\"Name\",\"biotype\",\"transcript_support_level\",\"version\",\"transcript_id\"]\n",
            "havana\tpseudogene\t[\"description\",\"logic_name\",\"ID\",\"gene_id\",\"Name\",\"biotype\",\"version\"]\n",
            "havana\tncRNA_gene\t[\"description\",\"logic_name\",\"ID\",\"gene_id\",\"Name\",\"biotype\",\"version\"]\n",
            "havana\tsnRNA\t[\"ID\",\"Parent\",\"tag\",\"Name\",\"biotype\",\"version\",\"transcript_id\",\"transcript_support_level\"]\n",
            "havana\tmRNA\t[\"ID\",\"Parent\",\"tag\",\"Name\",\"biotype\",\"version\",\"transcript_id\",\"transcript_support_level\",\"ccdsid\"]\n",
            "havana\tJ_gene_segment\t[\"ID\",\"Parent\",\"tag\",\"Name\",\"biotype\",\"transcript_support_level\",\"version\",\"transcript_id\"]\n",
            "havana\tscRNA\t[\"ID\",\"Parent\",\"tag\",\"Name\",\"biotype\",\"transcript_support_level\",\"version\",\"transcript_id\"]\n",
            "havana\tlnc_RNA\t[\"ID\",\"Parent\",\"tag\",\"Name\",\"biotype\",\"transcript_support_level\",\"version\",\"transcript_id\"]\n",
            "havana\texon\t[\"Parent\",\"constitutive\",\"ensembl_end_phase\",\"exon_id\",\"Name\",\"ensembl_phase\",\"rank\",\"version\"]\n",
            "ensembl\tgene\t[\"description\",\"logic_name\",\"ID\",\"gene_id\",\"Name\",\"biotype\",\"version\"]\n",
            "ensembl\ttRNA\t[\"ID\",\"Parent\",\"tag\",\"Name\",\"biotype\",\"transcript_support_level\",\"version\",\"transcript_id\"]\n",
            "ensembl\tthree_prime_UTR\t[\"Parent\"]\n",
            "ensembl\tunconfirmed_transcript\t[\"ID\",\"Parent\",\"Name\",\"biotype\",\"transcript_support_level\",\"version\",\"transcript_id\",\"tag\"]\n",
            "ensembl\tsnoRNA\t[\"ID\",\"Parent\",\"tag\",\"Name\",\"biotype\",\"transcript_support_level\",\"version\",\"transcript_id\"]\n",
            "ensembl\tfive_prime_UTR\t[\"Parent\"]\n",
            "ensembl\tCDS\t[\"protein_id\",\"ID\",\"Parent\"]\n",
            "ensembl\tpseudogenic_transcript\t[\"ID\",\"Parent\",\"tag\",\"Name\",\"biotype\",\"transcript_support_level\",\"version\",\"transcript_id\"]\n",
            "ensembl\tncRNA\t[\"ID\",\"Parent\",\"tag\",\"Name\",\"biotype\",\"transcript_support_level\",\"version\",\"transcript_id\"]\n",
            "ensembl\tncRNA_gene\t[\"description\",\"logic_name\",\"ID\",\"gene_id\",\"Name\",\"biotype\",\"version\"]\n",
            "ensembl\tpseudogene\t[\"description\",\"logic_name\",\"ID\",\"gene_id\",\"Name\",\"biotype\",\"version\"]\n",
            "ensembl\tsnRNA\t[\"ID\",\"Parent\",\"tag\",\"Name\",\"biotype\",\"transcript_support_level\",\"version\",\"transcript_id\"]\n",
            "ensembl\trRNA\t[\"ID\",\"Parent\",\"tag\",\"Name\",\"biotype\",\"transcript_support_level\",\"version\",\"transcript_id\"]\n",
            "ensembl\tmRNA\t[\"ID\",\"Parent\",\"ccdsid\",\"tag\",\"Name\",\"biotype\",\"transcript_support_level\",\"version\",\"transcript_id\"]\n",
            "ensembl\tscRNA\t[\"ID\",\"Parent\",\"tag\",\"Name\",\"biotype\",\"transcript_support_level\",\"version\",\"transcript_id\"]\n",
            "ensembl\texon\t[\"Parent\",\"constitutive\",\"ensembl_end_phase\",\"exon_id\",\"Name\",\"ensembl_phase\",\"rank\",\"version\"]\n",
            "ensembl\tlnc_RNA\t[\"ID\",\"Parent\",\"tag\",\"Name\",\"biotype\",\"transcript_support_level\",\"version\",\"transcript_id\"]\n",
            "ensembl_havana\tgene\t[\"description\",\"logic_name\",\"ID\",\"gene_id\",\"Name\",\"biotype\",\"version\"]\n",
            "ensembl_havana\tncRNA_gene\t[\"description\",\"logic_name\",\"ID\",\"gene_id\",\"Name\",\"biotype\",\"version\"]\n",
            "ensembl_havana\tthree_prime_UTR\t[\"Parent\"]\n",
            "ensembl_havana\tpseudogene\t[\"description\",\"logic_name\",\"ID\",\"gene_id\",\"Name\",\"biotype\",\"version\"]\n",
            "ensembl_havana\tunconfirmed_transcript\t[\"ID\",\"Parent\",\"tag\",\"Name\",\"biotype\",\"transcript_support_level\",\"version\",\"transcript_id\"]\n",
            "ensembl_havana\tC_gene_segment\t[\"ID\",\"Parent\",\"Name\",\"biotype\",\"transcript_support_level\",\"version\",\"transcript_id\"]\n",
            "ensembl_havana\tmRNA\t[\"ID\",\"Parent\",\"ccdsid\",\"tag\",\"Name\",\"biotype\",\"transcript_support_level\",\"version\",\"transcript_id\"]\n",
            "ensembl_havana\tV_gene_segment\t[\"ID\",\"Parent\",\"tag\",\"Name\",\"biotype\",\"transcript_support_level\",\"version\",\"transcript_id\"]\n",
            "ensembl_havana\tCDS\t[\"protein_id\",\"ID\",\"Parent\"]\n",
            "ensembl_havana\tfive_prime_UTR\t[\"Parent\"]\n",
            "ensembl_havana\tpseudogenic_transcript\t[\"ID\",\"Parent\",\"tag\",\"Name\",\"biotype\",\"transcript_support_level\",\"version\",\"transcript_id\"]\n",
            "ensembl_havana\texon\t[\"Parent\",\"constitutive\",\"ensembl_end_phase\",\"exon_id\",\"Name\",\"ensembl_phase\",\"rank\",\"version\"]\n",
            "ensembl_havana\tlnc_RNA\t[\"ID\",\"Parent\",\"Name\",\"biotype\",\"transcript_support_level\",\"version\",\"transcript_id\",\"tag\"]\n",
            "mirbase\tncRNA_gene\t[\"description\",\"logic_name\",\"ID\",\"gene_id\",\"Name\",\"biotype\",\"version\"]\n",
            "mirbase\tmiRNA\t[\"ID\",\"Parent\",\"tag\",\"Name\",\"biotype\",\"transcript_support_level\",\"version\",\"transcript_id\"]\n",
            "mirbase\texon\t[\"Parent\",\"constitutive\",\"ensembl_end_phase\",\"exon_id\",\"Name\",\"ensembl_phase\",\"rank\",\"version\"]\n",
            "insdc\tgene\t[\"description\",\"logic_name\",\"ID\",\"gene_id\",\"Name\",\"biotype\",\"version\"]\n",
            "insdc\tncRNA_gene\t[\"description\",\"logic_name\",\"ID\",\"gene_id\",\"Name\",\"biotype\",\"version\"]\n",
            "Ensembl\tchromosome\t[\"ID\",\"Alias\"]\n",
            "havana_tagene\tncRNA_gene\t[\"description\",\"logic_name\",\"ID\",\"gene_id\",\"Name\",\"biotype\",\"version\"]\n",
            "havana_tagene\tlnc_RNA\t[\"ID\",\"Parent\",\"tag\",\"Name\",\"biotype\",\"version\",\"transcript_id\",\"transcript_support_level\"]\n",
            "havana_tagene\texon\t[\"Parent\",\"constitutive\",\"ensembl_end_phase\",\"exon_id\",\"Name\",\"ensembl_phase\",\"rank\",\"version\"]\n",
            ".\tbiological_region\t[\"logic_name\",\"external_name\"]\n",
            "ensembl_havana_tagene\tlnc_RNA\t[\"ID\",\"Parent\",\"tag\",\"Name\",\"biotype\",\"version\",\"transcript_id\",\"transcript_support_level\"]\n",
            "ensembl_havana_tagene\texon\t[\"Parent\",\"constitutive\",\"ensembl_end_phase\",\"exon_id\",\"Name\",\"ensembl_phase\",\"rank\",\"version\"]\n",
            "\n"
          ],
          "name": "stdout"
        }
      ]
    },
    {
      "cell_type": "markdown",
      "metadata": {
        "id": "eVg9UQTa_xmL"
      },
      "source": [
        "#### 使用例 (C.elehans)"
      ]
    },
    {
      "cell_type": "markdown",
      "metadata": {
        "id": "RRwQmdNQ_xmM"
      },
      "source": [
        "1. gff3 ファイルをダウンロードして展開します。"
      ]
    },
    {
      "cell_type": "code",
      "metadata": {
        "id": "pCH0neEJ_xmN"
      },
      "source": [
        "!curl -O ftp://ftp.wormbase.org/pub/wormbase/species/c_elegans/PRJNA13758/gff/c_elegans.PRJNA13758.WS274.annotations.gff3.gz -O \n",
        "!gzip -d c_elegans.PRJNA13758.WS274.annotations.gff3.gz"
      ],
      "execution_count": null,
      "outputs": []
    },
    {
      "cell_type": "markdown",
      "metadata": {
        "id": "VxJ44ZS7_xmN"
      },
      "source": [
        "2.  アプリを実行してください。"
      ]
    },
    {
      "cell_type": "code",
      "metadata": {
        "colab": {
          "base_uri": "https://localhost:8080/"
        },
        "id": "3jkdZCya_xmP",
        "cellView": "form",
        "outputId": "c38ad8ad-5ed0-4aa9-d053-175c06e24ecc"
      },
      "source": [
        "#@markdown ####パラメータ  \n",
        "GFFファイル = 'c_elegans.PRJNA13758.WS274.annotations.gff3' #@param {type:'string'}\n",
        "\n",
        "cmd = './GFFParser \"' + GFFファイル + '\"'\n",
        "output = subprocess.check_output(cmd, shell=True, text=True)\n",
        "print(output)"
      ],
      "execution_count": null,
      "outputs": [
        {
          "output_type": "stream",
          "text": [
            "Expr_pattern\treagent\t[\"Target\"]\n",
            "EMBL_nematode_cDNAs-BLAT\texpressed_sequence_match\t[\"species\",\"ID\",\"Target\"]\n",
            "promoter\tpromoter\t[\"Name\"]\n",
            "BLAT_ncRNA_BEST\texpressed_sequence_match\t[\"Target\",\"ID\"]\n",
            "RNASeq_F_asymmetry\ttranscript_region\t[\"Note\"]\n",
            "miRanda\tbinding_site\t[\"Note\"]\n",
            "RepeatMasker\trepeat_region\t[\"Target\"]\n",
            "polyA_site\tpolyA_site\t[\"Name\"]\n",
            "BLAT_Caen_EST_OTHER\texpressed_sequence_match\t[\"species\",\"ID\",\"Target\"]\n",
            "Promoterome\tPCR_product\t[\"Name\"]\n",
            "BLAT_RST_OTHER\texpressed_sequence_match\t[\"ID\",\"Target\"]\n",
            "SAGE_tag_most_three_prime\tSAGE_tag\t[\"gene\",\"transcript\",\"sequence\",\"count\"]\n",
            "BLAT_TC1_OTHER\tnucleotide_match\t[\"ID\",\"Target\"]\n",
            "c_briggsae_LASTZ_NET\tconserved_region\t[\"Target\"]\n",
            "mGene\tCDS\t[\"ID\"]\n",
            "TEC_RED\tnucleotide_match\t[\"Target\"]\n",
            "SAGE_tag_unambiguously_mapped\tSAGE_tag\t[\"gene\",\"transcript\",\"sequence\",\"count\"]\n",
            "Million_mutation\tpoint_mutation\t[\"strain\",\"variation\",\"public_name\",\"substitution\",\"consequence\",\"aachange\"]\n",
            "Million_mutation\tinsertion_site\t[\"strain\",\"variation\",\"insertion\",\"public_name\",\"consequence\"]\n",
            "Million_mutation\ttandem_duplication\t[\"strain\",\"variation\",\"public_name\",\"consequence\",\"insertion\"]\n",
            "Million_mutation\tcomplex_substitution\t[\"strain\",\"variation\",\"insertion\",\"public_name\",\"consequence\",\"aachange\"]\n",
            "Million_mutation\tdeletion\t[\"strain\",\"variation\",\"public_name\",\"consequence\"]\n",
            "ovolvulus_proteins-BLASTX\tprotein_match\t[\"Target\"]\n",
            "operon\toperon\t[\"Name\",\"genes\"]\n",
            "celegans_proteins-BLASTX\tprotein_match\t[\"Target\"]\n",
            "c_japonica_LASTZ_NET\tconserved_region\t[\"Target\"]\n",
            "CGH_allele_Polymorphism\tdeletion\t[\"strain\",\"variation\",\"polymorphism\",\"public_name\",\"consequence\",\"other_name\",\"insertion\"]\n",
            "PCoF_Million_mutation\tpoint_mutation\t[\"aachange\",\"strain\",\"variation\",\"public_name\",\"substitution\",\"consequence\"]\n",
            "PCoF_Million_mutation\tinsertion_site\t[\"strain\",\"variation\",\"insertion\",\"public_name\",\"consequence\"]\n",
            "PCoF_Million_mutation\tcomplex_substitution\t[\"strain\",\"variation\",\"insertion\",\"public_name\",\"consequence\",\"aachange\"]\n",
            "PCoF_Million_mutation\tdeletion\t[\"strain\",\"variation\",\"public_name\",\"consequence\"]\n",
            "NemaGENETAG_consortium\ttransposable_element_insertion_site\t[\"strain\",\"variation\",\"public_name\",\"consequence\",\"other_name\"]\n",
            "Vancouver_fosmid\tnucleotide_match\t[\"Name\"]\n",
            "UTRome\tthree_prime_UTR\t[\"Name\"]\n",
            "PCoF_Allele\tpoint_mutation\t[\"aachange\",\"production_method\",\"variation\",\"public_name\",\"engineered\",\"substitution\",\"consequence\",\"strain\"]\n",
            "PCoF_Allele\tinsertion_site\t[\"variation\",\"insertion\",\"public_name\",\"consequence\",\"strain\",\"production_method\",\"engineered\"]\n",
            "PCoF_Allele\tsubstitution\t[\"aachange\",\"strain\",\"variation\",\"public_name\",\"substitution\",\"consequence\",\"other_name\",\"production_method\",\"engineered\"]\n",
            "PCoF_Allele\tcomplex_substitution\t[\"aachange\",\"strain\",\"production_method\",\"variation\",\"insertion\",\"public_name\",\"engineered\",\"consequence\",\"other_name\"]\n",
            "PCoF_Allele\tdeletion\t[\"variation\",\"public_name\",\"consequence\",\"strain\",\"production_method\",\"engineered\",\"other_name\",\"insertion\"]\n",
            "BLAT_Caen_mRNA_OTHER\texpressed_sequence_match\t[\"ID\",\"Target\"]\n",
            "c_brenneri_LASTZ_NET\tconserved_region\t[\"Target\"]\n",
            "PCoF_CGH_allele\tdeletion\t[\"strain\",\"variation\",\"public_name\",\"consequence\"]\n",
            "dmelanogaster_proteins-BLASTX\tprotein_match\t[\"Target\"]\n",
            "twinscan\tCDS\t[\"ID\"]\n",
            "c_remanei_LASTZ_NET\tconserved_region\t[\"Target\"]\n",
            "BLAT_EST_OTHER\texpressed_sequence_match\t[\"ID\",\"Target\"]\n",
            "landmark\tgene\t[\"locus\",\"ID\"]\n",
            "BLAT_Caen_Trinity_BEST\texpressed_sequence_match\t[\"ID\",\"Target\"]\n",
            "RNASeq_reads\ttranscript_region\t[\"Note\"]\n",
            "BLAT_OST_BEST\texpressed_sequence_match\t[\"ID\",\"Target\"]\n",
            "ppacificus_proteins-BLASTX\tprotein_match\t[\"Target\"]\n",
            "Transposon_ncRNA\texon\t[\"Parent\"]\n",
            "Transposon_ncRNA\tncRNA\t[\"ID\",\"Parent\",\"Name\"]\n",
            "dust\tlow_complexity_region\t[\"Note\"]\n",
            "TSS_region\tTSS_region\t[\"Name\"]\n",
            "RNASeq_R_asymmetry\ttranscript_region\t[\"Note\"]\n",
            "hsapiens_proteins-BLASTX\tprotein_match\t[\"Target\"]\n",
            "BLAT_RST_BEST\texpressed_sequence_match\t[\"ID\",\"Target\"]\n",
            "Allele\tpoint_mutation\t[\"aachange\",\"production_method\",\"variation\",\"public_name\",\"engineered\",\"substitution\",\"consequence\",\"strain\"]\n",
            "Allele\tinsertion_site\t[\"variation\",\"insertion\",\"public_name\",\"consequence\",\"strain\",\"production_method\",\"engineered\",\"other_name\"]\n",
            "Allele\tsubstitution\t[\"aachange\",\"strain\",\"variation\",\"public_name\",\"substitution\",\"consequence\",\"other_name\",\"production_method\",\"engineered\"]\n",
            "Allele\tcomplex_substitution\t[\"aachange\",\"strain\",\"production_method\",\"variation\",\"insertion\",\"public_name\",\"engineered\",\"consequence\",\"other_name\"]\n",
            "Allele\tdeletion\t[\"variation\",\"public_name\",\"consequence\",\"strain\",\"production_method\",\"engineered\",\"other_name\",\"insertion\"]\n",
            "Allele\ttransposable_element_insertion_site\t[\"strain\",\"variation\",\"public_name\",\"consequence\",\"insertion\",\"polymorphism\",\"other_name\"]\n",
            "TF_binding_site_region\tTF_binding_site\t[\"tf_name\",\"Name\",\"tf_id\",\"Note\"]\n",
            "cremanei_proteins-BLASTX\tprotein_match\t[\"Target\"]\n",
            "RNASEQ.Hillier.Aggregate\tCDS\t[\"ID\"]\n",
            "BLAT_mRNA_OTHER\texpressed_sequence_match\t[\"ID\",\"Target\"]\n",
            "Genomic_canonical\tassembly_component\t[\"Note\",\"Name\"]\n",
            "deprecated_operon\toperon\t[\"Name\",\"genes\"]\n",
            "BLAT_Trinity_OTHER\texpressed_sequence_match\t[\"ID\",\"Target\"]\n",
            "cDNA_for_RNAi\texperimental_result_region\t[\"Name\"]\n",
            "SAGE_tag_genomic_unique\tSAGE_tag\t[\"sequence\",\"count\",\"gene\"]\n",
            "translated_feature\tpolypeptide_motif\t[\"cds\",\"protein\",\"Note\",\"ID\",\"exons\",\"predictiontype\",\"range\"]\n",
            "scerevisiae_proteins-BLASTX\tprotein_match\t[\"Target\"]\n",
            "BLAT_ncRNA_OTHER\texpressed_sequence_match\t[\"ID\",\"Target\"]\n",
            "NEMBASE_cDNAs-BLAT\texpressed_sequence_match\t[\"species\",\"ID\",\"Target\"]\n",
            "Chronogram\treagent\t[\"Target\"]\n",
            "interpolated_pmap_position\tgene\t[\"Note\",\"ID\",\"gmap\",\"status\"]\n",
            "WBPaper00056245\tlincRNA\t[\"ID\",\"Name\"]\n",
            "WBPaper00056245\texon\t[\"Parent\"]\n",
            "binding_site_region\tbinding_site\t[\"tf_name\",\"Name\",\"tf_id\"]\n",
            "RNAz\tncRNA\t[\"Note\",\"Name\"]\n",
            "WormBase\tgene\t[\"interpolated_map_position\",\"so_term_name\",\"ID\",\"curie\",\"Alias\",\"Name\",\"sequence_name\",\"biotype\",\"locus\"]\n",
            "WormBase\ttRNA\t[\"ID\",\"Parent\",\"Name\",\"locus\"]\n",
            "WormBase\tthree_prime_UTR\t[\"Parent\"]\n",
            "WormBase\tsnoRNA\t[\"ID\",\"Parent\",\"Name\",\"locus\"]\n",
            "WormBase\tpseudogenic_tRNA\t[\"ID\",\"Parent\",\"Name\"]\n",
            "WormBase\tCDS\t[\"wormpep\",\"prediction_status\",\"protein_id\",\"locus\",\"ID\",\"Parent\",\"Name\"]\n",
            "WormBase\tfive_prime_UTR\t[\"Parent\"]\n",
            "WormBase\tpseudogenic_transcript\t[\"ID\",\"Parent\",\"Name\",\"locus\"]\n",
            "WormBase\tpre_miRNA\t[\"locus\",\"ID\",\"Parent\",\"Name\"]\n",
            "WormBase\tpseudogenic_rRNA\t[\"ID\",\"Parent\",\"Name\"]\n",
            "WormBase\tncRNA\t[\"ID\",\"Parent\",\"Name\",\"locus\"]\n",
            "WormBase\tpiRNA\t[\"locus\",\"ID\",\"Parent\",\"Name\"]\n",
            "WormBase\tmiRNA\t[\"locus\",\"ID\",\"Parent\",\"Name\"]\n",
            "WormBase\tsnRNA\t[\"ID\",\"Parent\",\"Name\",\"locus\"]\n",
            "WormBase\trRNA\t[\"locus\",\"ID\",\"Parent\",\"Name\"]\n",
            "WormBase\tmRNA\t[\"wormpep\",\"locus\",\"ID\",\"Parent\",\"Name\"]\n",
            "WormBase\tlincRNA\t[\"locus\",\"ID\",\"Parent\",\"Name\"]\n",
            "WormBase\tnc_primary_transcript\t[\"ID\",\"Parent\",\"Name\"]\n",
            "WormBase\tscRNA\t[\"locus\",\"ID\",\"Parent\",\"Name\"]\n",
            "WormBase\texon\t[\"Parent\"]\n",
            "WormBase\tmiRNA_primary_transcript\t[\"locus\",\"ID\",\"Parent\",\"Name\"]\n",
            "WormBase\tintron\t[\"Note\",\"Parent\"]\n",
            "WormBase\tantisense_RNA\t[\"ID\",\"Parent\",\"Name\"]\n",
            "BLAT_TC1_BEST\tnucleotide_match\t[\"ID\",\"Target\"]\n",
            "inverted\tinverted_repeat\t[\"Note\"]\n",
            "SL1\tSL1_acceptor_site\t[\"Name\"]\n",
            "history\tprotein_coding_primary_transcript\t[\"ID\",\"Name\"]\n",
            "history\ttransposable_element\t[\"Name\"]\n",
            "history\tnc_primary_transcript\t[\"ID\",\"Name\"]\n",
            "history\tpseudogenic_transcript\t[\"ID\",\"Name\"]\n",
            "history\texon\t[\"Parent\"]\n",
            "RNAi_primary\tRNAi_reagent\t[\"history_name\",\"Target\",\"laboratory\"]\n",
            "BLAT_Nanopore_OTHER\texpressed_sequence_match\t[\"ID\",\"Target\"]\n",
            "RNASeq\ttranscription_end_site\t[\"Name\"]\n",
            "RNASeq\tbase_call_error_correction\t[\"Name\"]\n",
            "RNASeq\tpossible_base_call_error\t[\"Name\"]\n",
            "segmental_duplication\tduplication\t[\"Name\"]\n",
            "tandem\ttandem_repeat\t[\"Note\"]\n",
            "cjaponica_proteins-BLASTX\tprotein_match\t[\"Target\"]\n",
            "TranscriptionallyActiveRegion\ttranscribed_fragment\t[\"Note\"]\n",
            "CGH_allele\tdeletion\t[\"strain\",\"variation\",\"public_name\",\"consequence\"]\n",
            "absolute_pmap_position\tgene\t[\"Note\",\"ID\",\"gmap\",\"status\"]\n",
            "Orfeome\tPCR_product\t[\"amplified\",\"Name\"]\n",
            "BLAT_Caen_mRNA_BEST\texpressed_sequence_match\t[\"ID\",\"Target\"]\n",
            "UniProt-BLASTX\tprotein_match\t[\"Target\"]\n",
            "PCoF_Variation_project\tpoint_mutation\t[\"aachange\",\"strain\",\"variation\",\"public_name\",\"substitution\",\"consequence\",\"other_name\"]\n",
            "PCoF_Variation_project\tinsertion_site\t[\"strain\",\"variation\",\"insertion\",\"public_name\",\"consequence\"]\n",
            "PCoF_Variation_project\tdeletion\t[\"strain\",\"variation\",\"public_name\",\"consequence\"]\n",
            "PicTar\tbinding_site\t[\"Note\"]\n",
            "BLAT_Caen_IsoSeq_BEST\texpressed_sequence_match\t[\"ID\",\"Target\"]\n",
            "GenePair_STS\tPCR_product\t[\"Name\",\"vendorID\"]\n",
            "Variation_project\tpoint_mutation\t[\"strain\",\"variation\",\"public_name\",\"substitution\",\"consequence\",\"other_name\",\"aachange\"]\n",
            "Variation_project\tinsertion_site\t[\"strain\",\"variation\",\"insertion\",\"public_name\",\"consequence\"]\n",
            "Variation_project\tdeletion\t[\"strain\",\"variation\",\"public_name\",\"consequence\"]\n",
            "RNASeq_stranded\ttranscript_region\t[\"Note\"]\n",
            "RNASEQ.Hillier\tCDS\t[\"ID\"]\n",
            "regulatory_region\tregulatory_region\t[\"Name\",\"tf_name\",\"tf_id\"]\n",
            "BLAT_mRNA_BEST\texpressed_sequence_match\t[\"ID\",\"Target\"]\n",
            "cisRed\tbinding_site\t[\"Note\"]\n",
            "PCoF_CGH_allele_Polymorphism\tdeletion\t[\"strain\",\"variation\",\"polymorphism\",\"public_name\",\"consequence\",\"other_name\",\"insertion\"]\n",
            "BLAT_OST_OTHER\texpressed_sequence_match\t[\"ID\",\"Target\"]\n",
            "DNAseI_hypersensitive_site\tDNAseI_hypersensitive_site\t[\"Name\"]\n",
            "sratti_proteins-BLASTX\tprotein_match\t[\"Target\"]\n",
            "BLAT_EST_BEST\texpressed_sequence_match\t[\"ID\",\"Target\"]\n",
            "jigsaw\tCDS\t[\"ID\"]\n",
            "cbrenneri_proteins-BLASTX\tprotein_match\t[\"Target\"]\n",
            "PCoF_NBP_knockout\tcomplex_substitution\t[\"variation\",\"insertion\",\"public_name\",\"consequence\",\"strain\"]\n",
            "PCoF_NBP_knockout\tdeletion\t[\"variation\",\"public_name\",\"consequence\",\"strain\",\"other_name\"]\n",
            "cbriggsae_proteins-BLASTX\tprotein_match\t[\"Target\"]\n",
            "BLAT_Nanopore_BEST\texpressed_sequence_match\t[\"ID\",\"Target\"]\n",
            "Variation_PCR\tPCR_product\t[\"Name\"]\n",
            "SAGE_tag\tSAGE_tag\t[\"sequence\",\"count\",\"gene\",\"transcript\"]\n",
            "SL2\tSL2_acceptor_site\t[\"Name\"]\n",
            "Oligo_set\treagent\t[\"Target\",\"Name\"]\n",
            "Polymorphism\tinsertion_site\t[\"strain\",\"variation\",\"polymorphism\",\"insertion\",\"public_name\",\"other_name\",\"consequence\"]\n",
            "Polymorphism\tdeletion\t[\"strain\",\"variation\",\"polymorphism\",\"public_name\",\"consequence\",\"other_name\"]\n",
            "dicistronic_mRNA\toperon\t[\"Name\",\"genes\"]\n",
            "GeneMarkHMM\tCDS\t[\"ID\"]\n",
            "Polysome_profiling\tmRNA_region\t[\"Note\"]\n",
            "polyA_signal_sequence\tpolyA_signal_sequence\t[\"Name\"]\n",
            "TF_binding_site\tTF_binding_site\t[\"tf_name\",\"Name\",\"tf_id\"]\n",
            "WormBase_transposon\tgene\t[\"interpolated_map_position\",\"so_term_name\",\"ID\",\"curie\",\"Alias\",\"Name\",\"sequence_name\",\"biotype\",\"locus\"]\n",
            "WormBase_transposon\ttransposable_element\t[\"ID\",\"Name\",\"Family\"]\n",
            "WormBase_transposon\tmRNA\t[\"ID\",\"Parent\",\"Name\"]\n",
            "WormBase_transposon\tpseudogenic_transcript\t[\"ID\",\"Parent\",\"Name\"]\n",
            "WormBase_transposon\texon\t[\"Parent\"]\n",
            "bmalayi_proteins-BLASTX\tprotein_match\t[\"Target\"]\n",
            "pmid18538569\tG_quartet\t[\"Target\"]\n",
            "BLAT_Caen_IsoSeq_OTHER\texpressed_sequence_match\t[\"ID\",\"Target\"]\n",
            "Mos_insertion_allele\ttransposable_element_insertion_site\t[\"variation\",\"public_name\",\"consequence\",\"strain\"]\n",
            "Genefinder\tCDS\t[\"ID\"]\n",
            "Balanced_by_balancer\tbiological_region\t[\"Note\",\"balancer\",\"balancer_type\"]\n",
            "BLAT_Trinity_BEST\texpressed_sequence_match\t[\"ID\",\"Target\"]\n",
            "KO_consortium\tpoint_mutation\t[\"strain\",\"variation\",\"public_name\",\"substitution\",\"consequence\",\"aachange\"]\n",
            "KO_consortium\tinsertion_site\t[\"strain\",\"variation\",\"insertion\",\"public_name\",\"consequence\"]\n",
            "KO_consortium\tcomplex_substitution\t[\"strain\",\"variation\",\"insertion\",\"public_name\",\"consequence\",\"other_name\"]\n",
            "KO_consortium\tdeletion\t[\"strain\",\"variation\",\"public_name\",\"consequence\",\"other_name\"]\n",
            "BLAT_Caen_EST_BEST\texpressed_sequence_match\t[\"species\",\"ID\",\"Target\"]\n",
            "RNASeq_splice\tintron\t[\"Note\"]\n",
            "enhancer\tenhancer\t[\"Name\"]\n",
            "BLAT_Caen_Trinity_OTHER\texpressed_sequence_match\t[\"ID\",\"Target\"]\n",
            "Genbank\tassembly_component\t[\"genbank\"]\n",
            "RNAi_secondary\tRNAi_reagent\t[\"history_name\",\"Target\",\"laboratory\"]\n",
            "Expr_profile\texperimental_result_region\t[\"Name\"]\n",
            "PCoF_KO_consortium\tpoint_mutation\t[\"aachange\",\"strain\",\"variation\",\"public_name\",\"substitution\",\"consequence\"]\n",
            "PCoF_KO_consortium\tinsertion_site\t[\"strain\",\"variation\",\"insertion\",\"public_name\",\"consequence\"]\n",
            "PCoF_KO_consortium\tcomplex_substitution\t[\"strain\",\"variation\",\"insertion\",\"public_name\",\"consequence\",\"other_name\"]\n",
            "PCoF_KO_consortium\tdeletion\t[\"strain\",\"variation\",\"public_name\",\"consequence\",\"other_name\"]\n",
            "binding_site\tbinding_site\t[\"Name\",\"tf_name\",\"tf_id\"]\n",
            "NEMATODE.NET_cDNAs-BLAT\texpressed_sequence_match\t[\"species\",\"ID\",\"Target\"]\n",
            "tmuris_proteins-BLASTX\tprotein_match\t[\"Target\"]\n",
            "Link\tassembly_component\t[\"Name\"]\n",
            "histone_binding_site_region\thistone_binding_site\t[\"Name\"]\n",
            "mass_spec_genome\ttranslated_nucleotide_match\t[\"times_observed\",\"Note\",\"Target\",\"cds_matches\",\"protein_matches\"]\n",
            "NBP_knockout\tcomplex_substitution\t[\"variation\",\"insertion\",\"public_name\",\"consequence\",\"strain\"]\n",
            "NBP_knockout\tdeletion\t[\"variation\",\"public_name\",\"consequence\",\"strain\",\"other_name\"]\n",
            "Variation_project_Polymorphism\tinsertion_site\t[\"strain\",\"variation\",\"polymorphism\",\"insertion\",\"public_name\",\"other_name\",\"consequence\",\"rflp\",\"status\"]\n",
            "Variation_project_Polymorphism\ttandem_duplication\t[\"strain\",\"variation\",\"polymorphism\",\"public_name\",\"consequence\",\"other_name\",\"insertion\"]\n",
            "Variation_project_Polymorphism\tSNP\t[\"strain\",\"variation\",\"polymorphism\",\"public_name\",\"substitution\",\"other_name\",\"consequence\",\"aachange\",\"rflp\",\"status\"]\n",
            "Variation_project_Polymorphism\tcomplex_substitution\t[\"strain\",\"variation\",\"polymorphism\",\"insertion\",\"public_name\",\"other_name\",\"consequence\",\"aachange\"]\n",
            "Variation_project_Polymorphism\tsubstitution\t[\"aachange\",\"strain\",\"variation\",\"polymorphism\",\"public_name\",\"substitution\",\"consequence\",\"other_name\",\"status\"]\n",
            "Variation_project_Polymorphism\tdeletion\t[\"strain\",\"variation\",\"polymorphism\",\"public_name\",\"other_name\",\"consequence\",\"rflp\",\"status\"]\n",
            "PCoF_Variation_project_Polymorphism\tinsertion_site\t[\"strain\",\"variation\",\"polymorphism\",\"insertion\",\"public_name\",\"consequence\",\"other_name\",\"rflp\",\"status\"]\n",
            "PCoF_Variation_project_Polymorphism\tSNP\t[\"aachange\",\"strain\",\"variation\",\"polymorphism\",\"public_name\",\"substitution\",\"consequence\",\"other_name\",\"rflp\",\"status\"]\n",
            "PCoF_Variation_project_Polymorphism\tcomplex_substitution\t[\"strain\",\"variation\",\"polymorphism\",\"insertion\",\"public_name\",\"consequence\",\"other_name\",\"aachange\"]\n",
            "PCoF_Variation_project_Polymorphism\tsubstitution\t[\"aachange\",\"strain\",\"variation\",\"polymorphism\",\"public_name\",\"substitution\",\"consequence\",\"other_name\",\"status\"]\n",
            "PCoF_Variation_project_Polymorphism\tdeletion\t[\"strain\",\"variation\",\"polymorphism\",\"public_name\",\"consequence\",\"other_name\",\"rflp\",\"status\"]\n",
            "\n"
          ],
          "name": "stdout"
        }
      ]
    },
    {
      "cell_type": "markdown",
      "metadata": {
        "id": "dm4ertBbBrJd"
      },
      "source": [
        "#### コマンドライン（CUI）アプリとして使用する場合\n",
        "以下のヘルプを参照に、コマンドを実行してください。"
      ]
    },
    {
      "cell_type": "code",
      "metadata": {
        "colab": {
          "base_uri": "https://localhost:8080/"
        },
        "id": "serX5dKBBzrL",
        "outputId": "153df1f2-f222-46fd-c24c-6f8cb89fe3f7"
      },
      "source": [
        "!./GFFParser --help"
      ],
      "execution_count": null,
      "outputs": [
        {
          "output_type": "stream",
          "text": [
            "============================================================\n",
            "GFFParser v1.1.0\n",
            "Copyright (c) 2015 Yuji Suehiro. All rights reserved. \n",
            "MIT license.\n",
            ". . . . . . . . . . . . . . . . . . . . . . . . . . . . . . \n",
            "\n",
            "Usage:\n",
            "  GFFParser \u001b[3m\u001b[39minput(.gff3)\u001b[0m\u001b[39m\u001b[49m\u001b[0m\u001b[39m\u001b[49m\n",
            ". . . . . . . . . . . . . . . . . . . . . . . . . . . . . . \n",
            "\n",
            "[Option]\n",
            "\n",
            "  --help/-H           : Show help.\n",
            "  --version/-V        : Show version.\n",
            "  --info/-I           : Show app information.\n",
            "\n",
            "\u001b[0m\u001b[31m  * Required option.\u001b[0m\u001b[39m\u001b[49m\u001b[0m\u001b[39m\u001b[49m\n",
            "\u001b[0m\u001b[34m  # Choose one of the options.\u001b[0m\u001b[39m\u001b[49m\u001b[0m\u001b[39m\u001b[49m\n",
            "============================================================\n"
          ],
          "name": "stdout"
        }
      ]
    },
    {
      "cell_type": "markdown",
      "metadata": {
        "id": "b_bNuVYhE4UX"
      },
      "source": [
        "<a name=\"annot-make\"></a>\n",
        "### 手順２-４ AnnotDBMakerを使う\n",
        "<font color=\"red\">※注意  \n",
        "このアプリを使用するには、GenomeConverterを使って作成したゲノム配列のバイナリファイル、\n",
        "アノテーション情報が入ったGFF3ファイル、および各GFF3ファイルに対応したプラグインなどが必要です。</font>  "
      ]
    },
    {
      "cell_type": "markdown",
      "metadata": {
        "id": "HXfY9DVHFBhT"
      },
      "source": [
        "#### メインプログラムのインストール方法\n",
        "下のコードを実行してください。"
      ]
    },
    {
      "cell_type": "code",
      "metadata": {
        "id": "Nf4A65OVFBr_"
      },
      "source": [
        "!mkdir -p Codes\n",
        "!wget https://raw.githubusercontent.com/YujiSue/BioInfoTools/master/AnnotDBMaker/AnnotDBMake.cpp -O Codes/AnnotDBMake.cpp\n",
        "!wget https://raw.githubusercontent.com/YujiSue/BioInfoTools/master/AnnotDBMaker/DBMaker.cpp -O Codes/DBMaker.cpp\n",
        "!wget https://raw.githubusercontent.com/YujiSue/BioInfoTools/master/AnnotDBMaker/DBMaker.h -O Codes/DBMaker.h\n",
        "!g++ -std=c++11 -I/usr/local/include/slib -I. -L/usr/local/lib -O2 -o AnnotDBMake Codes/AnnotDBMake.cpp Codes/DBMaker.cpp -lsapp -lsbioinfo -lsobj -lcurl -ldl"
      ],
      "execution_count": null,
      "outputs": []
    },
    {
      "cell_type": "markdown",
      "metadata": {
        "id": "iS7DOEM9FgMU"
      },
      "source": [
        "#### プラグインのインストール方法\n",
        "<font color=\"red\">※既製は線虫とヒト用のみ</font>  \n",
        "\n"
      ]
    },
    {
      "cell_type": "markdown",
      "metadata": {
        "id": "HiA0cpo9n8t0"
      },
      "source": [
        "#####ヒト用\n",
        "下のコードを実行してください。"
      ]
    },
    {
      "cell_type": "code",
      "metadata": {
        "id": "DYjJx_CNFhuj"
      },
      "source": [
        "## For human\n",
        "!wget https://raw.githubusercontent.com/YujiSue/BioInfoTools/master/AnnotDBMaker/HSDBMaker/HSDBMaker.cpp -O Codes/HSDBMaker.cpp\n",
        "!g++ -std=c++11 -I/usr/local/include/slib -fPIC -ldl -lpthread -O2 -c Codes/HSDBMaker.cpp\n",
        "!g++ -std=c++11 -shared -o human.plugin HSDBMaker.o\n",
        "!rm HSDBMaker.o"
      ],
      "execution_count": null,
      "outputs": []
    },
    {
      "cell_type": "markdown",
      "metadata": {
        "id": "jGw-MKVjoDik"
      },
      "source": [
        "#####線虫用\n",
        "下のコードを実行してください。"
      ]
    },
    {
      "cell_type": "code",
      "metadata": {
        "id": "4eJkbk3oFrLy"
      },
      "source": [
        "## For nematode (C.elegans)\n",
        "!wget https://raw.githubusercontent.com/YujiSue/BioInfoTools/master/AnnotDBMaker/CEDBMaker/CEDBMaker.cpp -O Codes/CEDBMaker.cpp\n",
        "!g++ -std=c++11 -I/usr/local/include/slib -fPIC -ldl -lpthread -O2 -c Codes/CEDBMaker.cpp\n",
        "!g++ -std=c++11 -shared -o nematode.plugin CEDBMaker.o\n",
        "!rm CEDBMaker.o"
      ],
      "execution_count": null,
      "outputs": []
    },
    {
      "cell_type": "markdown",
      "metadata": {
        "id": "V-NQb7Unq8jU"
      },
      "source": [
        "#### 使用方法\n",
        "下セルのパラメータ入力欄に必要事項を記入して、実行してください。  \n",
        "\n",
        "> データベース名：出力するデータベースの名称を入力してください。  \n",
        "\n",
        "> 使用プラグイン：使用するプラグイン名を入力してください。  \n",
        "\n",
        "> リファレンス：GenomeConverterで作成したファイル名を入力してください。   \n",
        "\n",
        "> GFFファイル：必要に応じてGFF3ファイルを入力してください。   \n",
        "\n",
        "> その他のファイル：必要に応じてその他のファイル群を入力してください。   \n",
        "\n",
        "> 作成者：必要に応じて作成者名を入力してください。   \n",
        "\n",
        "> 種名：必要に応じて種名を入力してください。   \n",
        "\n",
        "> バージョン：：必要に応じてバージョン情報を入力してください。   "
      ]
    },
    {
      "cell_type": "code",
      "metadata": {
        "id": "dGuGm-ayq8ja"
      },
      "source": [
        "#@markdown ####パラメータ \n",
        "データベース名 = '' #@param {type:'string'}\n",
        "使用プラグイン = '' #@param {type:'string'}\n",
        "リファレンス = '' #@param {type:'string'}\n",
        "#@markdown > (オプション)  \n",
        "GFFファイル = '' #@param {type:'string'}\n",
        "その他のファイル = '' #@param {type:'string'}\n",
        "作成者 = '' #@param {type:'string'}\n",
        "種名 = '' #@param {type:'string'}\n",
        "バージョン = '' #@param {type:'string'}\n",
        "\n",
        "cmd = './AnnotDBMake' + ' -r \"' + リファレンス + '\" -p '+使用プラグイン + ' -o ' + データベース名\n",
        "if GFFファイル != '':\n",
        "  cmd = cmd + ' -g \"' + GFFファイル + '\"'\n",
        "if その他のファイル != '':\n",
        "  cmd = cmd + ' -e \"' + その他のファイル + '\"'\n",
        "if 作成者 != '':\n",
        "  cmd = cmd + ' -c \"' + 作成者 + '\"'\n",
        "if 種名 != '':\n",
        "  cmd = cmd + ' -s \"' + 種名 + '\"'\n",
        "if バージョン != '':\n",
        "  cmd = cmd + ' -d \"' + バージョン + '\"'\n",
        "output = subprocess.check_output(cmd, shell=True, text=True)\n",
        "print(output)"
      ],
      "execution_count": null,
      "outputs": []
    },
    {
      "cell_type": "markdown",
      "metadata": {
        "id": "57zVmcBnFBz2"
      },
      "source": [
        "#### 使用例 (H.sapiens)\n"
      ]
    },
    {
      "cell_type": "markdown",
      "metadata": {
        "id": "-OZ0nSFbJsEz"
      },
      "source": [
        "i. gff3 ファイルをダウンロードして展開してください。"
      ]
    },
    {
      "cell_type": "code",
      "metadata": {
        "id": "W7rkk3bwJuwA"
      },
      "source": [
        "!curl -O ftp://ftp.ensembl.org/pub/release-99/gff3/homo_sapiens/Homo_sapiens.GRCh38.99.chr.gff3.gz\n",
        "!gzip -d Homo_sapiens.GRCh38.99.chr.gff3.gz"
      ],
      "execution_count": null,
      "outputs": []
    },
    {
      "cell_type": "markdown",
      "metadata": {
        "id": "WNxe_XBAJxDJ"
      },
      "source": [
        "ii. パラメータを入力してアプリを実行してください。  \n",
        "  \n",
        "> \"Homo_sapiens.GRCh38.99.chr.gff3\"の情報から  \n",
        "> 上で作成したヒト用プラグイン\"human.plugin\"を使用して  \n",
        "> 以下の設定でアノテーション用データベースを作成します。  \n",
        "> バージョン：GRCh38.99  \n",
        "> 生物種：Homo sapiens  \n",
        "> \"human.db\"として保存"
      ]
    },
    {
      "cell_type": "code",
      "metadata": {
        "id": "EFPpbcmuvIJ1"
      },
      "source": [
        "#@markdown ####パラメータ \n",
        "データベース名 = 'human.db' #@param {type:'string'}\n",
        "使用プラグイン = './human.plugin' #@param {type:'string'}\n",
        "リファレンス = 'human.bin' #@param {type:'string'}\n",
        "#@markdown > (オプション)  \n",
        "GFFファイル = 'Homo_sapiens.GRCh38.99.chr.gff3' #@param {type:'string'}\n",
        "その他のファイル = '' #@param {type:'string'}\n",
        "作成者 = 'Yuji Suehiro' #@param {type:'string'}\n",
        "種名 = 'Homo sapiens' #@param {type:'string'}\n",
        "バージョン = 'GRCh38.99' #@param {type:'string'}\n",
        "\n",
        "cmd = './AnnotDBMake' + ' -r \"' + リファレンス + '\" -p '+使用プラグイン + ' -o ' + データベース名\n",
        "if GFFファイル != '':\n",
        "  cmd = cmd + ' -g \"' + GFFファイル + '\"'\n",
        "if その他のファイル != '':\n",
        "  cmd = cmd + ' -e \"' + その他のファイル + '\"'\n",
        "if 作成者 != '':\n",
        "  cmd = cmd + ' -c \"' + 作成者 + '\"'\n",
        "if 種名 != '':\n",
        "  cmd = cmd + ' -s \"' + 種名 + '\"'\n",
        "if バージョン != '':\n",
        "  cmd = cmd + ' -d \"' + バージョン + '\"'\n",
        "\n",
        "output = subprocess.check_output(cmd, shell=True, text=True)\n",
        "print(output)"
      ],
      "execution_count": null,
      "outputs": []
    },
    {
      "cell_type": "markdown",
      "metadata": {
        "id": "sw57MYZpM0S7"
      },
      "source": [
        "#### 使用例 (C.elegans)\n",
        "※ あらかじめ GenomeConverter でエンコードしたゲノム、GFF3ファイル、および必要に応じてその他のデータセットを用意してください。  \n",
        "※ このアプリはプラグインを利用して、データベースファイルを作成します。各生物種用のデータセットに合わせたプラグインをあらかじめ作成してください。"
      ]
    },
    {
      "cell_type": "markdown",
      "metadata": {
        "id": "s9cegLPsNyw9"
      },
      "source": [
        "i. i. gff3 ファイル、その他必要なファイルをダウンロードして展開してください。"
      ]
    },
    {
      "cell_type": "code",
      "metadata": {
        "id": "vHaT9Za8N50O"
      },
      "source": [
        "!curl -O ftp://ftp.wormbase.org/pub/wormbase/species/c_elegans/PRJNA13758/gff/c_elegans.PRJNA13758.WS274.annotations.gff3.gz\n",
        "!curl -O ftp://ftp.wormbase.org/pub/wormbase/species/c_elegans/PRJNA13758/annotation/geneIDs/c_elegans.PRJNA13758.WS274.geneIDs.txt.gz\n",
        "!curl -O ftp://ftp.wormbase.org/pub/wormbase/species/c_elegans/PRJNA13758/annotation/functional_descriptions/c_elegans.PRJNA13758.WS274.functional_descriptions.txt.gz\n",
        "!wget https://drive.google.com/uc?id=15aOf_MpCqHyFs7za8WzYM7nHySlpIBFN -O balance.txt\n",
        "!gzip -d c_elegans.PRJNA13758.WS274.annotations.gff3.gz\n",
        "!gzip -d c_elegans.PRJNA13758.WS274.geneIDs.txt.gz\n",
        "!gzip -d c_elegans.PRJNA13758.WS274.functional_descriptions.txt.gz"
      ],
      "execution_count": null,
      "outputs": []
    },
    {
      "cell_type": "markdown",
      "metadata": {
        "id": "k5GL_pOEN59V"
      },
      "source": [
        "ii. アプリを実行してください。\n",
        "  \n",
        "> \"c_elegans.PRJNA13758.WS274.annotations.gff3\"の情報から  \n",
        "> 上で作成したプラグイン\"nematode.plugin\"を使用して  \n",
        "> 以下の設定でアノテーション用データベースを作成します。   \n",
        "> バージョン：WS274  \n",
        "> 種名：Caenorhabditis elegans  \n",
        "> 追加ファイル：  \n",
        "> \"c_elegans.PRJNA13758.WS274.geneIDs.txt\"  \n",
        "> \"c_elegans.PRJNA13758.WS274.functional_descriptions.txt\".  \n",
        "> \"nematode.db\"として保存"
      ]
    },
    {
      "cell_type": "code",
      "metadata": {
        "id": "2oPh7Y4umuJf"
      },
      "source": [
        "#@markdown ####パラメータ \n",
        "データベース名 = 'nematode.db' #@param {type:'string'}\n",
        "使用プラグイン = './nematode.plugin' #@param {type:'string'}\n",
        "リファレンス = 'nematode.bin' #@param {type:'string'}\n",
        "#@markdown > (オプション)  \n",
        "GFFファイル = 'c_elegans.PRJNA13758.WS274.annotations.gff3' #@param {type:'string'}\n",
        "その他のファイル = 'gene:c_elegans.PRJNA13758.WS274.geneIDs.txt,description:c_elegans.PRJNA13758.WS274.functional_descriptions.txt,balance:balance.txt' #@param {type:'string'}\n",
        "作成者 = 'Yuji Suehiro' #@param {type:'string'}\n",
        "種名 = 'Caenorhabditis elegans' #@param {type:'string'}\n",
        "バージョン = 'WS274' #@param {type:'string'}\n",
        "\n",
        "cmd = './AnnotDBMake' + ' -r \"' + リファレンス + '\" -p '+使用プラグイン + ' -o ' + データベース名\n",
        "if GFFファイル != '':\n",
        "  cmd = cmd + ' -g \"' + GFFファイル + '\"'\n",
        "if その他のファイル != '':\n",
        "  cmd = cmd + ' -e \"' + その他のファイル + '\"'\n",
        "if 作成者 != '':\n",
        "  cmd = cmd + ' -c \"' + 作成者 + '\"'\n",
        "if 種名 != '':\n",
        "  cmd = cmd + ' -s \"' + 種名 + '\"'\n",
        "if バージョン != '':\n",
        "  cmd = cmd + ' -d \"' + バージョン + '\"'\n",
        "output = subprocess.check_output(cmd, shell=True, text=True)\n",
        "print(output)"
      ],
      "execution_count": null,
      "outputs": []
    },
    {
      "cell_type": "markdown",
      "metadata": {
        "id": "aW2ID7IUvOnM"
      },
      "source": [
        "#### コマンドライン（CUI）アプリとして使用する場合\n",
        "以下のヘルプを参照に、コマンドを実行してください。"
      ]
    },
    {
      "cell_type": "code",
      "metadata": {
        "id": "vCccA2BpKYAI"
      },
      "source": [
        "!./AnnotDBMaker --help"
      ],
      "execution_count": null,
      "outputs": []
    },
    {
      "cell_type": "markdown",
      "metadata": {
        "id": "p6OM3aYxKM3J"
      },
      "source": [
        "<a name=\"bio-annot\"></a>\n",
        "### 手順２-５ BioAnnotationを使う\n",
        "<font color=\"red\">※注意  \n",
        "このアプリを使用するには、AnnotDBMakerを使って作成したアノテーション用データベースファイルが必要です。</font>  "
      ]
    },
    {
      "cell_type": "markdown",
      "metadata": {
        "id": "UogfWauQKqwW"
      },
      "source": [
        "#### インストール方法\n",
        "下セルを実行してください。"
      ]
    },
    {
      "cell_type": "code",
      "metadata": {
        "id": "mxZB819VKq-D"
      },
      "source": [
        "!mkdir -p Codes\n",
        "!wget https://raw.githubusercontent.com/YujiSue/BioInfoTools/master/BioAnnotation/BioAnnotation.cpp -O Codes/BioAnnotation.cpp\n",
        "!g++ -std=c++11 -I/usr/local/include/slib -L/usr/local/lib -O2 -o BioAnnotation Codes/BioAnnotation.cpp -lsapp -lsbioinfo -lsobj -lcurl"
      ],
      "execution_count": null,
      "outputs": []
    },
    {
      "cell_type": "markdown",
      "metadata": {
        "id": "EGiOiy1NxhsH"
      },
      "source": [
        "#### 使用方法\n",
        "下セルのパラメータ入力欄に必要事項を記入して、実行してください。  \n",
        "\n",
        "> データベース：AnnotDBMakerを使って作成したアノテーション用データベースファイルを入力してください。  \n",
        "\n",
        "> 入力情報：染色体位置情報や遺伝子名などを入力してください。  \n",
        "\n",
        "> 入力形式：入力情報の形式を選んでください。  \n",
        "> 出力形式：出力情報の形式を選んでください。  \n",
        "> <font color=\"blue\">* pos...染色体位置, gene...遺伝子名, trs...転写産物名, mut...変異アリル名</font>\n",
        "\n",
        "> 遺伝子名の表示形式：通称(name)か、遺伝子ID(id）か必要に応じて選択して下さい。  \n",
        "\n"
      ]
    },
    {
      "cell_type": "code",
      "metadata": {
        "id": "Hz5203Zxxl97",
        "cellView": "form"
      },
      "source": [
        "#@markdown ####パラメータ \n",
        "データベース = '' #@param {type:'string'}\n",
        "入力情報 = '' #@param {type:'string'}\n",
        "入力形式 = 'pos' #@param ['pos', 'gene', 'trs', 'mut']\n",
        "出力形式 = 'gene'  #@param ['pos', 'gene', 'trs', 'mut']\n",
        "#@markdown > (オプション)  \n",
        "遺伝子名の表示形式 = ' '  #@param [' ', 'name', 'id']\n",
        "cmd = './BioAnnotation' + ' -d \"' + データベース + '\" -f '+入力形式 + ' -t ' + 出力形式\n",
        "if 遺伝子名の表示形式 != ' ':\n",
        "  cmd += ' -g ' + 遺伝子名の表示形式\n",
        "cmd += ' \"' + 入力情報 + '\"'\n",
        "output = subprocess.check_output(cmd, shell=True, text=True)\n",
        "print(output)"
      ],
      "execution_count": null,
      "outputs": []
    },
    {
      "cell_type": "markdown",
      "metadata": {
        "id": "rGZU_sR8KrDq"
      },
      "source": [
        "#### 使用例 (H.sapiens)\n",
        "  \n",
        "> データベース\"human.db\"をもとに、  \n",
        "> 17番染色体の7670k付近10kb圏内の遺伝子を取得します。"
      ]
    },
    {
      "cell_type": "code",
      "metadata": {
        "colab": {
          "base_uri": "https://localhost:8080/"
        },
        "id": "vopKhX_g0eR5",
        "cellView": "form",
        "outputId": "438ba45f-ed41-41e8-ae54-8da514541c90"
      },
      "source": [
        "#@markdown ####パラメータ \n",
        "データベース = 'human.db' #@param {type:'string'}\n",
        "入力情報 = '17:7665001..7675000' #@param {type:'string'}\n",
        "入力形式 = 'pos' #@param ['pos', 'gene', 'trs', 'mut']\n",
        "出力形式 = 'gene'  #@param ['pos', 'gene', 'trs', 'mut']\n",
        "#@markdown > (オプション)  \n",
        "遺伝子名の表示形式 = ' '  #@param [' ', 'name', 'id']\n",
        "\n",
        "cmd = './BioAnnotation' + ' -d \"' + データベース + '\" -f '+入力形式 + ' -t ' + 出力形式\n",
        "if 遺伝子名の表示形式 != ' ':\n",
        "  cmd += ' -g ' + 遺伝子名の表示形式\n",
        "cmd += ' \"' + 入力情報 + '\"'\n",
        "output = subprocess.check_output(cmd, shell=True, text=True)\n",
        "print(output)"
      ],
      "execution_count": null,
      "outputs": [
        {
          "output_type": "stream",
          "text": [
            "17:7665001..7675000\t>>\tTP53\n",
            "\n"
          ],
          "name": "stdout"
        }
      ]
    },
    {
      "cell_type": "markdown",
      "metadata": {
        "id": "BaGCRdpGIXlZ"
      },
      "source": [
        "#### 使用例 (C.elegans)\n",
        "\n",
        "> データベース\"nematode.db\"をもとに、  \n",
        "> 遺伝子cep-1の変異を取得します。  "
      ]
    },
    {
      "cell_type": "code",
      "metadata": {
        "colab": {
          "base_uri": "https://localhost:8080/"
        },
        "id": "Wj5H--mO1knp",
        "cellView": "form",
        "outputId": "648e835d-540b-4083-ae77-4be03ff35f38"
      },
      "source": [
        "#@markdown ####パラメータ \n",
        "データベース = 'nematode.db' #@param {type:'string'}\n",
        "入力情報 = 'cep-1' #@param {type:'string'}\n",
        "入力形式 = 'gene' #@param ['pos', 'gene', 'trs', 'mut']\n",
        "出力形式 = 'pos'  #@param ['pos', 'gene', 'trs', 'mut']\n",
        "#@markdown > (オプション)  \n",
        "遺伝子名の表示形式 = ' '  #@param [' ', 'name', 'id']\n",
        "\n",
        "cmd = './BioAnnotation' + ' -d \"' + データベース + '\" -f '+入力形式 + ' -t ' + 出力形式\n",
        "if 遺伝子名の表示形式 != ' ':\n",
        "  cmd += ' -g ' + 遺伝子名の表示形式\n",
        "cmd += ' \"' + 入力情報 + '\"'\n",
        "output = subprocess.check_output(cmd, shell=True, text=True)\n",
        "print(output)"
      ],
      "execution_count": null,
      "outputs": [
        {
          "output_type": "stream",
          "text": [
            "cep-1\t>>\tI:8324120..8328858(+)\n",
            "\n"
          ],
          "name": "stdout"
        }
      ]
    },
    {
      "cell_type": "markdown",
      "metadata": {
        "id": "og38QDSYe3Cx"
      },
      "source": [
        "#### コマンドライン（CUI）アプリとして使用する場合\n",
        "以下のヘルプを参照に、コマンドを実行してください。"
      ]
    },
    {
      "cell_type": "code",
      "metadata": {
        "id": "CPK4zz_Fe42Z"
      },
      "source": [
        "!./BioAnnotation --help"
      ],
      "execution_count": null,
      "outputs": []
    },
    {
      "cell_type": "markdown",
      "metadata": {
        "id": "MSGiw5GbKWHV"
      },
      "source": [
        "<a name=\"gen-map\"></a>\n",
        "### 手順２-６ GeneMapSVGを使う\n",
        "<font color=\"red\">※注意  \n",
        "このアプリを使用するには、GenomeConverterを使って作成したリファレンスファイルと、AnnotDBMakerを使って作成したアノテーション用データベースファイルが必要です。</font>  "
      ]
    },
    {
      "cell_type": "markdown",
      "metadata": {
        "id": "WzHy98GlMopg"
      },
      "source": [
        "####  インストール方法\n",
        "下セルを実行してください。"
      ]
    },
    {
      "cell_type": "code",
      "metadata": {
        "id": "kiyExshCMoxh",
        "colab": {
          "base_uri": "https://localhost:8080/"
        },
        "outputId": "3a445168-bcd6-46b2-bff2-7bb94b8cef00"
      },
      "source": [
        "!mkdir -p Codes\n",
        "!wget https://raw.githubusercontent.com/YujiSue/BioInfoTools/master/GeneMapSVG/GeneMapSVG.cpp -O Codes/GeneMapSVG.cpp\n",
        "!wget https://raw.githubusercontent.com/YujiSue/BioInfoTools/master/GeneMapSVG/MakeMap.cpp -O Codes/MakeMap.cpp\n",
        "!wget https://raw.githubusercontent.com/YujiSue/BioInfoTools/master/GeneMapSVG/MakeMap.h -O Codes/MakeMap.h\n",
        "!g++ -std=c++11 -I/usr/local/include/slib -I./Codes -L/usr/local/lib -O2 -o GeneMapSVG Codes/GeneMapSVG.cpp Codes/MakeMap.cpp -lsapp -lsbioinfo -lsobj -lcurl"
      ],
      "execution_count": 6,
      "outputs": [
        {
          "output_type": "stream",
          "text": [
            "--2021-05-19 00:17:16--  https://raw.githubusercontent.com/YujiSue/BioInfoTools/master/GeneMapSVG/GeneMapSVG.cpp\n",
            "Resolving raw.githubusercontent.com (raw.githubusercontent.com)... 185.199.108.133, 185.199.109.133, 185.199.110.133, ...\n",
            "Connecting to raw.githubusercontent.com (raw.githubusercontent.com)|185.199.108.133|:443... connected.\n",
            "HTTP request sent, awaiting response... 200 OK\n",
            "Length: 4409 (4.3K) [text/plain]\n",
            "Saving to: ‘Codes/GeneMapSVG.cpp’\n",
            "\n",
            "\rCodes/GeneMapSVG.cp   0%[                    ]       0  --.-KB/s               \rCodes/GeneMapSVG.cp 100%[===================>]   4.31K  --.-KB/s    in 0s      \n",
            "\n",
            "2021-05-19 00:17:16 (44.7 MB/s) - ‘Codes/GeneMapSVG.cpp’ saved [4409/4409]\n",
            "\n",
            "--2021-05-19 00:17:17--  https://raw.githubusercontent.com/YujiSue/BioInfoTools/master/GeneMapSVG/MakeMap.cpp\n",
            "Resolving raw.githubusercontent.com (raw.githubusercontent.com)... 185.199.109.133, 185.199.108.133, 185.199.110.133, ...\n",
            "Connecting to raw.githubusercontent.com (raw.githubusercontent.com)|185.199.109.133|:443... connected.\n",
            "HTTP request sent, awaiting response... 200 OK\n",
            "Length: 9013 (8.8K) [text/plain]\n",
            "Saving to: ‘Codes/MakeMap.cpp’\n",
            "\n",
            "Codes/MakeMap.cpp   100%[===================>]   8.80K  --.-KB/s    in 0s      \n",
            "\n",
            "2021-05-19 00:17:17 (66.0 MB/s) - ‘Codes/MakeMap.cpp’ saved [9013/9013]\n",
            "\n",
            "--2021-05-19 00:17:17--  https://raw.githubusercontent.com/YujiSue/BioInfoTools/master/GeneMapSVG/MakeMap.h\n",
            "Resolving raw.githubusercontent.com (raw.githubusercontent.com)... 185.199.108.133, 185.199.109.133, 185.199.110.133, ...\n",
            "Connecting to raw.githubusercontent.com (raw.githubusercontent.com)|185.199.108.133|:443... connected.\n",
            "HTTP request sent, awaiting response... 200 OK\n",
            "Length: 831 [text/plain]\n",
            "Saving to: ‘Codes/MakeMap.h’\n",
            "\n",
            "Codes/MakeMap.h     100%[===================>]     831  --.-KB/s    in 0s      \n",
            "\n",
            "2021-05-19 00:17:17 (31.1 MB/s) - ‘Codes/MakeMap.h’ saved [831/831]\n",
            "\n"
          ],
          "name": "stdout"
        }
      ]
    },
    {
      "cell_type": "markdown",
      "metadata": {
        "id": "SmxZXgX2WqyL"
      },
      "source": [
        "#### 使用方法\n",
        "下セルのパラメータ入力欄に必要事項を記入して、実行してください。  \n",
        "\n",
        "> 画像サイズ：生成する画像の幅(ピクセル)を入力してください。  \n",
        "\n",
        "> リファレンス：GenomeConverterで作成したファイル名を入力してください。   \n",
        "\n",
        "> アノテーション：AnnotDBMakerを使って作成したアノテーション用データベースファイルを入力してください。  \n",
        "\n",
        "> 対象範囲：対象範囲を入力してください。  \n",
        "> <font color=\"blue\">*形式は「染色体名：開始位置-終了位置」</font>\n",
        "\n",
        "> 出力ファイル名：生成する画像ファイル名を入力してください。  \n",
        "\n",
        "表示内容  \n",
        "> 遺伝子：遺伝子をボックスで表示させたい場合はチェックをつけてください。  \n",
        "\n",
        "> 転写産物：転写産物のエキソン/イントロン構造を表示させたい場合はチェックをつけてください。  \n",
        "\n",
        "> 変異：既知の変異アリルの位置を表示させたい場合はチェックをつけてください。  \n",
        "\n",
        "オプション  \n",
        "> オリジナル領域の表示：自分で定義した領域を図中に加えたい場合はチェックをつけてください。  \n",
        "\n",
        "> 名称：オリジナル領域の名称を入力してください。  \n",
        "> 位置：オリジナル領域の位置を入力してください。  \n",
        "> 色：オリジナル領域を表示させる色を選択してください。  \n"
      ]
    },
    {
      "cell_type": "code",
      "metadata": {
        "cellView": "form",
        "id": "Xu_Oa3UOWp9y"
      },
      "source": [
        "from IPython.display import *\n",
        "#@markdown ###パラメータ \n",
        "画像サイズ = 640 #@param {type:'raw'}\n",
        "リファレンス = '' #@param {type:'string'}\n",
        "アノテーション = '' #@param {type:'string'}\n",
        "対象範囲 = '' #@param {type:'string'}\n",
        "出力ファイル名 = '' #@param {type:'string'}\n",
        "#@markdown ####表示内容\n",
        "遺伝子 = True #@param {type:'boolean'}\n",
        "転写産物 = True #@param {type:'boolean'}\n",
        "変異 = True #@param {type:'boolean'}\n",
        "#@markdown #####オプション\n",
        "オリジナル領域の表示 = False #@param {type:'boolean'}\n",
        "名称 = '' #@param {type:'string'}\n",
        "位置 = '' #@param {type:'string'}\n",
        "色 = ' '  #@param [' ', 'black', 'red', 'blue', 'green']\n",
        "\n",
        "cmd = './GeneMapSVG -'\n",
        "if 遺伝子 == True:\n",
        "  cmd = cmd + 'g'\n",
        "if 転写産物 == True:\n",
        "  cmd = cmd + 't'\n",
        "if 変異 == True:\n",
        "  cmd = cmd + 'm'\n",
        "cmd = cmd + ' -r \"' + リファレンス +  '\" -a \"' + アノテーション + '\" -w ' + str(画像サイズ) + ' -p ' + 対象範囲 + ' -o \"' + 出力ファイル名 + '\"'\n",
        "if オリジナル領域の表示 == True:\n",
        "  cmd = cmd + ' --custom \"[{name='+名称+';pos='+位置+';col='+色+'}]\"'\n",
        "\n",
        "output = subprocess.check_output(cmd, shell=True, text=True)\n",
        "display_svg(SVG(出力ファイル名))"
      ],
      "execution_count": null,
      "outputs": []
    },
    {
      "cell_type": "markdown",
      "metadata": {
        "id": "0sS5Zvb6Mo4M"
      },
      "source": [
        "#### 使用例 (H.sapiens)\n",
        "  \n",
        "  > 染色体17の7660kから7690kまでが対象  \n",
        "  > 遺伝子と転写産物のマップに、\n",
        "  > SNP rs1042522 の位置をオリジナル指定で付加した図を、  \n",
        "  > 幅640pxのSVG画像として\"map_HS.svg\"に保存します。\n"
      ]
    },
    {
      "cell_type": "code",
      "metadata": {
        "cellView": "form",
        "id": "qrswO2ohiYVx"
      },
      "source": [
        "from IPython.display import *\n",
        "#@markdown ###パラメータ \n",
        "画像サイズ = 640 #@param {type:'raw'}\n",
        "リファレンス = 'human.bin' #@param {type:'string'}\n",
        "アノテーション = 'human.db' #@param {type:'string'}\n",
        "対象範囲 = '17:7660001-7690000' #@param {type:'string'}\n",
        "出力ファイル名 = 'map_HS1.svg' #@param {type:'string'}\n",
        "#@markdown ####表示内容\n",
        "遺伝子 = True #@param {type:'boolean'}\n",
        "転写産物 = False #@param {type:'boolean'}\n",
        "変異 = False #@param {type:'boolean'}\n",
        "#@markdown #####オプション\n",
        "オリジナル領域の表示 = False #@param {type:'boolean'}\n",
        "名称 = 'rs1042522' #@param {type:'string'}\n",
        "位置 = '17:7676154-7676154' #@param {type:'string'}\n",
        "色 = 'blue' #@param [' ', 'black', 'red', 'blue', 'green']\n",
        "\n",
        "cmd = './GeneMapSVG -'\n",
        "if 遺伝子 == True:\n",
        "  cmd = cmd + 'g'\n",
        "if 転写産物 == True:\n",
        "  cmd = cmd + 't'\n",
        "if 変異 == True:\n",
        "  cmd = cmd + 'm'\n",
        "cmd = cmd + ' -r \"' + リファレンス +  '\" -a \"' + アノテーション + '\" -w ' + str(画像サイズ) + ' -p ' + 対象範囲 + ' -o \"' + 出力ファイル名 + '\"'\n",
        "if オリジナル領域の表示 == True:\n",
        "  cmd = cmd + ' --custom \"[{name='+名称+';pos='+位置+';col='+色+'}]\"'\n",
        "output = subprocess.check_output(cmd, shell=True, text=True)\n",
        "display_svg(SVG(出力ファイル名))"
      ],
      "execution_count": null,
      "outputs": []
    },
    {
      "cell_type": "markdown",
      "metadata": {
        "id": "IV2cFzTQOPWG"
      },
      "source": [
        "#### 使用例 (C.elegans)\n",
        "※さきにGenomeConverterとAnnotDBMakerで、バイナリゲノム配列と、アノテーション用データベースファイルを準備してください。   \n",
        "  \n",
        "  > 染色体Iの8323kから8329kまでの  \n",
        "  > 遺伝子と転写産物と変異のマップを  \n",
        "  > 幅640pxのSVGファイルとして、\"map_CE.svg\"に保存します。\n"
      ]
    },
    {
      "cell_type": "code",
      "metadata": {
        "colab": {
          "base_uri": "https://localhost:8080/",
          "height": 477
        },
        "id": "0rts-Tsljd3T",
        "cellView": "form",
        "outputId": "3d325e8c-af2d-449f-866f-2fac0cbb6f85"
      },
      "source": [
        "from IPython.display import *\n",
        "#@markdown ###パラメータ \n",
        "画像サイズ = 640 #@param {type:'raw'}\n",
        "リファレンス = 'nematode.bin' #@param {type:'string'}\n",
        "アノテーション = 'nematode.db' #@param {type:'string'}\n",
        "対象範囲 = 'I:8323000..8329000' #@param {type:'string'}\n",
        "出力ファイル名 = 'map_CE.svg' #@param {type:'string'}\n",
        "#@markdown ####表示内容\n",
        "遺伝子 = True #@param {type:'boolean'}\n",
        "転写産物 = True #@param {type:'boolean'}\n",
        "変異 = True #@param {type:'boolean'}\n",
        "#@markdown #####オプション\n",
        "オリジナル領域の表示 = False #@param {type:'boolean'}\n",
        "名称 = '' #@param {type:'string'}\n",
        "位置 = '' #@param {type:'string'}\n",
        "色 = ' ' #@param [' ', 'black', 'red', 'blue', 'green']\n",
        "\n",
        "cmd = './GeneMapSVG -'\n",
        "if 遺伝子 == True:\n",
        "  cmd = cmd + 'g'\n",
        "if 転写産物 == True:\n",
        "  cmd = cmd + 't'\n",
        "if 変異 == True:\n",
        "  cmd = cmd + 'm'\n",
        "cmd = cmd + ' -r \"' + リファレンス +  '\" -a \"' + アノテーション + '\" -w ' + str(画像サイズ) + ' -p ' + 対象範囲 + ' -o \"' + 出力ファイル名 + '\"'\n",
        "if オリジナル領域の表示 == True:\n",
        "  cmd = cmd + ' --custom \"[{name='+名称+';pos='+位置+';col='+色+'}]\"'\n",
        "output = subprocess.check_output(cmd, shell=True, text=True)\n",
        "display_svg(SVG(出力ファイル名))"
      ],
      "execution_count": 10,
      "outputs": [
        {
          "output_type": "display_data",
          "data": {
            "image/svg+xml": "<svg height=\"436px\" id=\"svg\" version=\"1.1\" viewBox=\"0 0 640 436\" width=\"640px\" x=\"0px\" xml:space=\"preserve\" xmlns=\"http://www.w3.org/2000/svg\" xmlns:xlink=\"http://www.w3.org/1999/xlink\" y=\"0px\">\n\t<g fill=\"none\" name=\"chromosome\" stroke=\"#000000\" stroke-opacity=\"1.000000\" stroke-width=\"1.000000\">\n\t\t<line stroke=\"#000000\" stroke-opacity=\"1.000000\" stroke-width=\"2.000000\" x1=\"0.000000\" x2=\"640.000000\" y1=\"20.000000\" y2=\"20.000000\"/>\n\t\t<text style=\"font-family: Arial; font-size: 12.000000px; stroke: none; fill: #000000; \" x=\"0.000000\" y=\"12.000000\">I</text>\n\t\t<g fill=\"none\" stroke=\"#000000\" stroke-opacity=\"1.000000\" stroke-width=\"1.000000\">\n\t\t\t<text style=\"font-family: Arial; font-size: 9.000000px; stroke: none; fill: #000000; \" x=\"104.148895\" y=\"10.000000\">8324K</text>\n\t\t\t<text style=\"font-family: Arial; font-size: 9.000000px; stroke: none; fill: #000000; \" x=\"210.797791\" y=\"10.000000\">8325K</text>\n\t\t\t<text style=\"font-family: Arial; font-size: 9.000000px; stroke: none; fill: #000000; \" x=\"317.446686\" y=\"10.000000\">8326K</text>\n\t\t\t<text style=\"font-family: Arial; font-size: 9.000000px; stroke: none; fill: #000000; \" x=\"424.095581\" y=\"10.000000\">8327K</text>\n\t\t\t<text style=\"font-family: Arial; font-size: 9.000000px; stroke: none; fill: #000000; \" x=\"530.744446\" y=\"10.000000\">8328K</text>\n\t\t\t<path d=\"M0.000000,12.500000 L0.000000,27.500000M106.648895,12.500000 L106.648895,27.500000M213.297791,12.500000 L213.297791,27.500000M319.946686,12.500000 L319.946686,27.500000M426.595581,12.500000 L426.595581,27.500000M533.244446,12.500000 L533.244446,27.500000M0.000000,16.000000 L0.000000,24.000000M10.664889,16.000000 L10.664889,24.000000M21.329779,16.000000 L21.329779,24.000000M31.994667,16.000000 L31.994667,24.000000M42.659557,16.000000 L42.659557,24.000000M53.324448,16.000000 L53.324448,24.000000M63.989334,16.000000 L63.989334,24.000000M74.654228,16.000000 L74.654228,24.000000M85.319115,16.000000 L85.319115,24.000000M95.984001,16.000000 L95.984001,24.000000M106.648895,16.000000 L106.648895,24.000000M117.313782,16.000000 L117.313782,24.000000M127.978668,16.000000 L127.978668,24.000000M138.643555,16.000000 L138.643555,24.000000M149.308456,16.000000 L149.308456,24.000000M159.973343,16.000000 L159.973343,24.000000M170.638229,16.000000 L170.638229,24.000000M181.303116,16.000000 L181.303116,24.000000M191.968002,16.000000 L191.968002,24.000000M202.632889,16.000000 L202.632889,24.000000M213.297791,16.000000 L213.297791,24.000000M223.962677,16.000000 L223.962677,24.000000M234.627563,16.000000 L234.627563,24.000000M245.292450,16.000000 L245.292450,24.000000M255.957336,16.000000 L255.957336,24.000000M266.622223,16.000000 L266.622223,24.000000M277.287109,16.000000 L277.287109,24.000000M287.951996,16.000000 L287.951996,24.000000M298.616913,16.000000 L298.616913,24.000000M309.281799,16.000000 L309.281799,24.000000M319.946686,16.000000 L319.946686,24.000000M330.611572,16.000000 L330.611572,24.000000M341.276459,16.000000 L341.276459,24.000000M351.941345,16.000000 L351.941345,24.000000M362.606232,16.000000 L362.606232,24.000000M373.271118,16.000000 L373.271118,24.000000M383.936005,16.000000 L383.936005,24.000000M394.600891,16.000000 L394.600891,24.000000M405.265778,16.000000 L405.265778,24.000000M415.930695,16.000000 L415.930695,24.000000M426.595581,16.000000 L426.595581,24.000000M437.260468,16.000000 L437.260468,24.000000M447.925354,16.000000 L447.925354,24.000000M458.590240,16.000000 L458.590240,24.000000M469.255127,16.000000 L469.255127,24.000000M479.920013,16.000000 L479.920013,24.000000M490.584900,16.000000 L490.584900,24.000000M501.249786,16.000000 L501.249786,24.000000M511.914673,16.000000 L511.914673,24.000000M522.579590,16.000000 L522.579590,24.000000M533.244446,16.000000 L533.244446,24.000000M543.909363,16.000000 L543.909363,24.000000M554.574219,16.000000 L554.574219,24.000000M565.239136,16.000000 L565.239136,24.000000M575.903992,16.000000 L575.903992,24.000000M586.568909,16.000000 L586.568909,24.000000M597.233826,16.000000 L597.233826,24.000000M607.898682,16.000000 L607.898682,24.000000M618.563599,16.000000 L618.563599,24.000000M629.228455,16.000000 L629.228455,24.000000\" fill=\"none\" stroke=\"#000000\" stroke-opacity=\"1.000000\" stroke-width=\"1.000000\"/>\n\t\t</g>\n\t</g>\n\t<g fill=\"none\" name=\"genes\" stroke=\"#000000\" stroke-opacity=\"1.000000\" stroke-width=\"1.000000\">\n\t\t<g fill=\"none\" name=\"WBGene00009922\" stroke=\"#000000\" stroke-opacity=\"1.000000\" stroke-width=\"1.000000\">\n\t\t\t<rect fill=\"#000080\" fill-opacity=\"1.000000\" height=\"5.000000\" stroke=\"#000000\" stroke-opacity=\"1.000000\" stroke-width=\"1.000000\" width=\"604.912537\" x=\"-499.330109\" y=\"62.500000\"/>\n\t\t\t<text style=\"font-family: Arial; font-size: 10.000000px; stroke: none; fill: #000000; \" x=\"0.000000\" y=\"59.500000\">F52B5.3</text>\n\t\t</g>\n\t\t<g fill=\"none\" name=\"WBGene00000467\" stroke=\"#000000\" stroke-opacity=\"1.000000\" stroke-width=\"1.000000\">\n\t\t\t<rect fill=\"#000080\" fill-opacity=\"1.000000\" height=\"5.000000\" stroke=\"#000000\" stroke-opacity=\"1.000000\" stroke-width=\"1.000000\" width=\"505.409058\" x=\"119.446762\" y=\"62.500000\"/>\n\t\t\t<text style=\"font-family: Arial; font-size: 10.000000px; stroke: none; fill: #000000; \" x=\"119.446762\" y=\"59.500000\">cep-1</text>\n\t\t</g>\n\t</g>\n\t<g fill=\"none\" name=\"transcripts\" stroke=\"#000000\" stroke-opacity=\"1.000000\" stroke-width=\"1.000000\">\n\t\t<g fill=\"none\" name=\"F52B5.3\" stroke=\"#000000\" stroke-opacity=\"1.000000\" stroke-width=\"1.000000\">\n\t\t\t<g fill=\"none\" name=\"F52B5.3.2\" stroke=\"#000000\" stroke-opacity=\"1.000000\" stroke-width=\"1.000000\">\n\t\t\t\t<text style=\"font-family: Arial; font-size: 10.000000px; stroke: none; fill: #000000; \" x=\"60.475739\" y=\"97.500000\">F52B5.3.2</text>\n\t\t\t\t<line stroke=\"#000000\" stroke-opacity=\"1.000000\" stroke-width=\"1.000000\" x1=\"-499.330109\" x2=\"105.475754\" y1=\"102.500000\" y2=\"102.500000\"/>\n\t\t\t\t<polygon fill=\"#000000\" fill-opacity=\"1.000000\" points=\"-499.330109 100.000000 -499.330109 105.000000 -504.330109 102.500000\" stroke=\"#000000\" stroke-opacity=\"1.000000\" stroke-width=\"1.000000\"/>\n\t\t\t\t<rect fill=\"#FFFFFF\" fill-opacity=\"1.000000\" height=\"5.000000\" stroke=\"#000000\" stroke-opacity=\"1.000000\" stroke-width=\"1.000000\" width=\"27.302124\" x=\"-499.330109\" y=\"100.000000\"/>\n\t\t\t\t<rect fill=\"#00FF7F\" fill-opacity=\"1.000000\" height=\"5.000000\" stroke=\"#000000\" stroke-opacity=\"1.000000\" stroke-width=\"1.000000\" width=\"7.038818\" x=\"-472.027985\" y=\"100.000000\"/>\n\t\t\t\t<rect fill=\"#00FF7F\" fill-opacity=\"1.000000\" height=\"5.000000\" stroke=\"#000000\" stroke-opacity=\"1.000000\" stroke-width=\"1.000000\" width=\"65.269135\" x=\"-450.911530\" y=\"100.000000\"/>\n\t\t\t\t<rect fill=\"#00FF7F\" fill-opacity=\"1.000000\" height=\"5.000000\" stroke=\"#000000\" stroke-opacity=\"1.000000\" stroke-width=\"1.000000\" width=\"11.198120\" x=\"-380.736542\" y=\"100.000000\"/>\n\t\t\t\t<rect fill=\"#00FF7F\" fill-opacity=\"1.000000\" height=\"5.000000\" stroke=\"#000000\" stroke-opacity=\"1.000000\" stroke-width=\"1.000000\" width=\"11.731384\" x=\"-364.632568\" y=\"100.000000\"/>\n\t\t\t\t<rect fill=\"#00FF7F\" fill-opacity=\"1.000000\" height=\"5.000000\" stroke=\"#000000\" stroke-opacity=\"1.000000\" stroke-width=\"1.000000\" width=\"25.169128\" x=\"-347.888672\" y=\"100.000000\"/>\n\t\t\t\t<rect fill=\"#00FF7F\" fill-opacity=\"1.000000\" height=\"5.000000\" stroke=\"#000000\" stroke-opacity=\"1.000000\" stroke-width=\"1.000000\" width=\"42.339600\" x=\"-300.323273\" y=\"100.000000\"/>\n\t\t\t\t<rect fill=\"#00FF7F\" fill-opacity=\"1.000000\" height=\"5.000000\" stroke=\"#000000\" stroke-opacity=\"1.000000\" stroke-width=\"1.000000\" width=\"67.935333\" x=\"-253.077820\" y=\"100.000000\"/>\n\t\t\t\t<rect fill=\"#00FF7F\" fill-opacity=\"1.000000\" height=\"5.000000\" stroke=\"#000000\" stroke-opacity=\"1.000000\" stroke-width=\"1.000000\" width=\"13.437759\" x=\"-161.146469\" y=\"100.000000\"/>\n\t\t\t\t<rect fill=\"#00FF7F\" fill-opacity=\"1.000000\" height=\"5.000000\" stroke=\"#000000\" stroke-opacity=\"1.000000\" stroke-width=\"1.000000\" width=\"31.674721\" x=\"-143.016159\" y=\"100.000000\"/>\n\t\t\t\t<rect fill=\"#00FF7F\" fill-opacity=\"1.000000\" height=\"5.000000\" stroke=\"#000000\" stroke-opacity=\"1.000000\" stroke-width=\"1.000000\" width=\"40.099983\" x=\"-102.489586\" y=\"100.000000\"/>\n\t\t\t\t<rect fill=\"#00FF7F\" fill-opacity=\"1.000000\" height=\"5.000000\" stroke=\"#000000\" stroke-opacity=\"1.000000\" stroke-width=\"1.000000\" width=\"54.390934\" x=\"-56.737209\" y=\"100.000000\"/>\n\t\t\t\t<rect fill=\"#00FF7F\" fill-opacity=\"1.000000\" height=\"5.000000\" stroke=\"#000000\" stroke-opacity=\"1.000000\" stroke-width=\"1.000000\" width=\"29.115149\" x=\"3.626062\" y=\"100.000000\"/>\n\t\t\t\t<rect fill=\"#00FF7F\" fill-opacity=\"1.000000\" height=\"5.000000\" stroke=\"#000000\" stroke-opacity=\"1.000000\" stroke-width=\"1.000000\" width=\"49.911682\" x=\"38.073654\" y=\"100.000000\"/>\n\t\t\t\t<rect fill=\"#00FF7F\" fill-opacity=\"1.000000\" height=\"5.000000\" stroke=\"#000000\" stroke-opacity=\"1.000000\" stroke-width=\"1.000000\" width=\"6.932175\" x=\"98.010330\" y=\"100.000000\"/>\n\t\t\t\t<rect fill=\"#FFFFFF\" fill-opacity=\"1.000000\" height=\"5.000000\" stroke=\"#000000\" stroke-opacity=\"1.000000\" stroke-width=\"1.000000\" width=\"1.000000\" x=\"104.942513\" y=\"100.000000\"/>\n\t\t\t</g>\n\t\t\t<g fill=\"none\" name=\"F52B5.3.1\" stroke=\"#000000\" stroke-opacity=\"1.000000\" stroke-width=\"1.000000\">\n\t\t\t\t<text style=\"font-family: Arial; font-size: 10.000000px; stroke: none; fill: #000000; \" x=\"60.262451\" y=\"117.500000\">F52B5.3.1</text>\n\t\t\t\t<line stroke=\"#000000\" stroke-opacity=\"1.000000\" stroke-width=\"1.000000\" x1=\"-496.237305\" x2=\"105.262459\" y1=\"122.500000\" y2=\"122.500000\"/>\n\t\t\t\t<polygon fill=\"#000000\" fill-opacity=\"1.000000\" points=\"-496.237305 120.000000 -496.237305 125.000000 -501.237305 122.500000\" stroke=\"#000000\" stroke-opacity=\"1.000000\" stroke-width=\"1.000000\"/>\n\t\t\t\t<rect fill=\"#FFFFFF\" fill-opacity=\"1.000000\" height=\"5.000000\" stroke=\"#000000\" stroke-opacity=\"1.000000\" stroke-width=\"1.000000\" width=\"24.209290\" x=\"-496.237305\" y=\"120.000000\"/>\n\t\t\t\t<rect fill=\"#00FF7F\" fill-opacity=\"1.000000\" height=\"5.000000\" stroke=\"#000000\" stroke-opacity=\"1.000000\" stroke-width=\"1.000000\" width=\"7.038818\" x=\"-472.027985\" y=\"120.000000\"/>\n\t\t\t\t<rect fill=\"#00FF7F\" fill-opacity=\"1.000000\" height=\"5.000000\" stroke=\"#000000\" stroke-opacity=\"1.000000\" stroke-width=\"1.000000\" width=\"65.269135\" x=\"-450.911530\" y=\"120.000000\"/>\n\t\t\t\t<rect fill=\"#00FF7F\" fill-opacity=\"1.000000\" height=\"5.000000\" stroke=\"#000000\" stroke-opacity=\"1.000000\" stroke-width=\"1.000000\" width=\"11.198120\" x=\"-380.736542\" y=\"120.000000\"/>\n\t\t\t\t<rect fill=\"#00FF7F\" fill-opacity=\"1.000000\" height=\"5.000000\" stroke=\"#000000\" stroke-opacity=\"1.000000\" stroke-width=\"1.000000\" width=\"11.731384\" x=\"-364.632568\" y=\"120.000000\"/>\n\t\t\t\t<rect fill=\"#00FF7F\" fill-opacity=\"1.000000\" height=\"5.000000\" stroke=\"#000000\" stroke-opacity=\"1.000000\" stroke-width=\"1.000000\" width=\"25.169128\" x=\"-347.888672\" y=\"120.000000\"/>\n\t\t\t\t<rect fill=\"#00FF7F\" fill-opacity=\"1.000000\" height=\"5.000000\" stroke=\"#000000\" stroke-opacity=\"1.000000\" stroke-width=\"1.000000\" width=\"42.339600\" x=\"-300.323273\" y=\"120.000000\"/>\n\t\t\t\t<rect fill=\"#00FF7F\" fill-opacity=\"1.000000\" height=\"5.000000\" stroke=\"#000000\" stroke-opacity=\"1.000000\" stroke-width=\"1.000000\" width=\"67.935333\" x=\"-253.077820\" y=\"120.000000\"/>\n\t\t\t\t<rect fill=\"#00FF7F\" fill-opacity=\"1.000000\" height=\"5.000000\" stroke=\"#000000\" stroke-opacity=\"1.000000\" stroke-width=\"1.000000\" width=\"13.437759\" x=\"-161.146469\" y=\"120.000000\"/>\n\t\t\t\t<rect fill=\"#00FF7F\" fill-opacity=\"1.000000\" height=\"5.000000\" stroke=\"#000000\" stroke-opacity=\"1.000000\" stroke-width=\"1.000000\" width=\"31.674721\" x=\"-143.016159\" y=\"120.000000\"/>\n\t\t\t\t<rect fill=\"#00FF7F\" fill-opacity=\"1.000000\" height=\"5.000000\" stroke=\"#000000\" stroke-opacity=\"1.000000\" stroke-width=\"1.000000\" width=\"40.099983\" x=\"-102.489586\" y=\"120.000000\"/>\n\t\t\t\t<rect fill=\"#00FF7F\" fill-opacity=\"1.000000\" height=\"5.000000\" stroke=\"#000000\" stroke-opacity=\"1.000000\" stroke-width=\"1.000000\" width=\"54.390934\" x=\"-56.737209\" y=\"120.000000\"/>\n\t\t\t\t<rect fill=\"#00FF7F\" fill-opacity=\"1.000000\" height=\"5.000000\" stroke=\"#000000\" stroke-opacity=\"1.000000\" stroke-width=\"1.000000\" width=\"29.115149\" x=\"3.626062\" y=\"120.000000\"/>\n\t\t\t\t<rect fill=\"#00FF7F\" fill-opacity=\"1.000000\" height=\"5.000000\" stroke=\"#000000\" stroke-opacity=\"1.000000\" stroke-width=\"1.000000\" width=\"49.911682\" x=\"38.073654\" y=\"120.000000\"/>\n\t\t\t\t<rect fill=\"#00FF7F\" fill-opacity=\"1.000000\" height=\"5.000000\" stroke=\"#000000\" stroke-opacity=\"1.000000\" stroke-width=\"1.000000\" width=\"6.932175\" x=\"98.010330\" y=\"120.000000\"/>\n\t\t\t\t<rect fill=\"#FFFFFF\" fill-opacity=\"1.000000\" height=\"5.000000\" stroke=\"#000000\" stroke-opacity=\"1.000000\" stroke-width=\"1.000000\" width=\"1.000000\" x=\"104.942513\" y=\"120.000000\"/>\n\t\t\t</g>\n\t\t</g>\n\t\t<g fill=\"none\" name=\"cep-1\" stroke=\"#000000\" stroke-opacity=\"1.000000\" stroke-width=\"1.000000\">\n\t\t\t<g fill=\"none\" name=\"F52B5.5a.2\" stroke=\"#000000\" stroke-opacity=\"1.000000\" stroke-width=\"1.000000\">\n\t\t\t\t<text style=\"font-family: Arial; font-size: 10.000000px; stroke: none; fill: #000000; \" x=\"119.446762\" y=\"97.500000\">F52B5.5a.2</text>\n\t\t\t\t<line stroke=\"#000000\" stroke-opacity=\"1.000000\" stroke-width=\"1.000000\" x1=\"119.446762\" x2=\"624.749207\" y1=\"102.500000\" y2=\"102.500000\"/>\n\t\t\t\t<polygon fill=\"#000000\" fill-opacity=\"1.000000\" points=\"624.749207 100.000000 624.749207 105.000000 629.749207 102.500000\" stroke=\"#000000\" stroke-opacity=\"1.000000\" stroke-width=\"1.000000\"/>\n\t\t\t\t<rect fill=\"#FFFFFF\" fill-opacity=\"1.000000\" height=\"5.000000\" stroke=\"#000000\" stroke-opacity=\"1.000000\" stroke-width=\"1.000000\" width=\"5.225800\" x=\"119.446762\" y=\"100.000000\"/>\n\t\t\t\t<rect fill=\"#FFFFFF\" fill-opacity=\"1.000000\" height=\"5.000000\" stroke=\"#000000\" stroke-opacity=\"1.000000\" stroke-width=\"1.000000\" width=\"1.000000\" x=\"138.110321\" y=\"100.000000\"/>\n\t\t\t\t<rect fill=\"#FF00FF\" fill-opacity=\"1.000000\" height=\"5.000000\" stroke=\"#000000\" stroke-opacity=\"1.000000\" stroke-width=\"1.000000\" width=\"4.265961\" x=\"138.750214\" y=\"100.000000\"/>\n\t\t\t\t<rect fill=\"#FF00FF\" fill-opacity=\"1.000000\" height=\"5.000000\" stroke=\"#000000\" stroke-opacity=\"1.000000\" stroke-width=\"1.000000\" width=\"8.531906\" x=\"148.455261\" y=\"100.000000\"/>\n\t\t\t\t<rect fill=\"#FF00FF\" fill-opacity=\"1.000000\" height=\"5.000000\" stroke=\"#000000\" stroke-opacity=\"1.000000\" stroke-width=\"1.000000\" width=\"7.892014\" x=\"162.532913\" y=\"100.000000\"/>\n\t\t\t\t<rect fill=\"#FF00FF\" fill-opacity=\"1.000000\" height=\"5.000000\" stroke=\"#000000\" stroke-opacity=\"1.000000\" stroke-width=\"1.000000\" width=\"17.383774\" x=\"175.864029\" y=\"100.000000\"/>\n\t\t\t\t<rect fill=\"#FF00FF\" fill-opacity=\"1.000000\" height=\"5.000000\" stroke=\"#000000\" stroke-opacity=\"1.000000\" stroke-width=\"1.000000\" width=\"9.918350\" x=\"206.578903\" y=\"100.000000\"/>\n\t\t\t\t<rect fill=\"#FF00FF\" fill-opacity=\"1.000000\" height=\"5.000000\" stroke=\"#000000\" stroke-opacity=\"1.000000\" stroke-width=\"1.000000\" width=\"17.170471\" x=\"221.189804\" y=\"100.000000\"/>\n\t\t\t\t<rect fill=\"#FF00FF\" fill-opacity=\"1.000000\" height=\"5.000000\" stroke=\"#000000\" stroke-opacity=\"1.000000\" stroke-width=\"1.000000\" width=\"25.382446\" x=\"262.356262\" y=\"100.000000\"/>\n\t\t\t\t<rect fill=\"#FF00FF\" fill-opacity=\"1.000000\" height=\"5.000000\" stroke=\"#000000\" stroke-opacity=\"1.000000\" stroke-width=\"1.000000\" width=\"17.703705\" x=\"341.169800\" y=\"100.000000\"/>\n\t\t\t\t<rect fill=\"#FF00FF\" fill-opacity=\"1.000000\" height=\"5.000000\" stroke=\"#000000\" stroke-opacity=\"1.000000\" stroke-width=\"1.000000\" width=\"15.144135\" x=\"406.225616\" y=\"100.000000\"/>\n\t\t\t\t<rect fill=\"#FF00FF\" fill-opacity=\"1.000000\" height=\"5.000000\" stroke=\"#000000\" stroke-opacity=\"1.000000\" stroke-width=\"1.000000\" width=\"22.822876\" x=\"475.973999\" y=\"100.000000\"/>\n\t\t\t\t<rect fill=\"#FF00FF\" fill-opacity=\"1.000000\" height=\"5.000000\" stroke=\"#000000\" stroke-opacity=\"1.000000\" stroke-width=\"1.000000\" width=\"25.275818\" x=\"536.550598\" y=\"100.000000\"/>\n\t\t\t\t<rect fill=\"#FF00FF\" fill-opacity=\"1.000000\" height=\"5.000000\" stroke=\"#000000\" stroke-opacity=\"1.000000\" stroke-width=\"1.000000\" width=\"13.011169\" x=\"568.758545\" y=\"100.000000\"/>\n\t\t\t\t<rect fill=\"#FF00FF\" fill-opacity=\"1.000000\" height=\"5.000000\" stroke=\"#000000\" stroke-opacity=\"1.000000\" stroke-width=\"1.000000\" width=\"21.863037\" x=\"586.888855\" y=\"100.000000\"/>\n\t\t\t\t<rect fill=\"#FFFFFF\" fill-opacity=\"1.000000\" height=\"5.000000\" stroke=\"#000000\" stroke-opacity=\"1.000000\" stroke-width=\"1.000000\" width=\"16.104004\" x=\"608.751892\" y=\"100.000000\"/>\n\t\t\t</g>\n\t\t\t<g fill=\"none\" name=\"F52B5.5b.2\" stroke=\"#000000\" stroke-opacity=\"1.000000\" stroke-width=\"1.000000\">\n\t\t\t\t<text style=\"font-family: Arial; font-size: 10.000000px; stroke: none; fill: #000000; \" x=\"132.351273\" y=\"117.500000\">F52B5.5b.2</text>\n\t\t\t\t<line stroke=\"#000000\" stroke-opacity=\"1.000000\" stroke-width=\"1.000000\" x1=\"132.351273\" x2=\"624.749207\" y1=\"122.500000\" y2=\"122.500000\"/>\n\t\t\t\t<polygon fill=\"#000000\" fill-opacity=\"1.000000\" points=\"624.749207 120.000000 624.749207 125.000000 629.749207 122.500000\" stroke=\"#000000\" stroke-opacity=\"1.000000\" stroke-width=\"1.000000\"/>\n\t\t\t\t<rect fill=\"#FFFFFF\" fill-opacity=\"1.000000\" height=\"5.000000\" stroke=\"#000000\" stroke-opacity=\"1.000000\" stroke-width=\"1.000000\" width=\"10.664886\" x=\"132.351273\" y=\"120.000000\"/>\n\t\t\t\t<rect fill=\"#FFFFFF\" fill-opacity=\"1.000000\" height=\"5.000000\" stroke=\"#000000\" stroke-opacity=\"1.000000\" stroke-width=\"1.000000\" width=\"8.531906\" x=\"148.455261\" y=\"120.000000\"/>\n\t\t\t\t<rect fill=\"#FFFFFF\" fill-opacity=\"1.000000\" height=\"5.000000\" stroke=\"#000000\" stroke-opacity=\"1.000000\" stroke-width=\"1.000000\" width=\"7.892014\" x=\"162.532913\" y=\"120.000000\"/>\n\t\t\t\t<rect fill=\"#FFFFFF\" fill-opacity=\"1.000000\" height=\"5.000000\" stroke=\"#000000\" stroke-opacity=\"1.000000\" stroke-width=\"1.000000\" width=\"17.383774\" x=\"175.864029\" y=\"120.000000\"/>\n\t\t\t\t<rect fill=\"#FFFFFF\" fill-opacity=\"1.000000\" height=\"5.000000\" stroke=\"#000000\" stroke-opacity=\"1.000000\" stroke-width=\"1.000000\" width=\"9.918350\" x=\"206.578903\" y=\"120.000000\"/>\n\t\t\t\t<rect fill=\"#FFFFFF\" fill-opacity=\"1.000000\" height=\"5.000000\" stroke=\"#000000\" stroke-opacity=\"1.000000\" stroke-width=\"1.000000\" width=\"17.170471\" x=\"221.189804\" y=\"120.000000\"/>\n\t\t\t\t<rect fill=\"#FFFFFF\" fill-opacity=\"1.000000\" height=\"5.000000\" stroke=\"#000000\" stroke-opacity=\"1.000000\" stroke-width=\"1.000000\" width=\"27.835358\" x=\"262.356262\" y=\"120.000000\"/>\n\t\t\t\t<rect fill=\"#FFFFFF\" fill-opacity=\"1.000000\" height=\"5.000000\" stroke=\"#000000\" stroke-opacity=\"1.000000\" stroke-width=\"1.000000\" width=\"16.423920\" x=\"341.169800\" y=\"120.000000\"/>\n\t\t\t\t<rect fill=\"#FFFFFF\" fill-opacity=\"1.000000\" height=\"5.000000\" stroke=\"#000000\" stroke-opacity=\"1.000000\" stroke-width=\"1.000000\" width=\"15.144135\" x=\"406.225616\" y=\"120.000000\"/>\n\t\t\t\t<rect fill=\"#FFFFFF\" fill-opacity=\"1.000000\" height=\"5.000000\" stroke=\"#000000\" stroke-opacity=\"1.000000\" stroke-width=\"1.000000\" width=\"19.623383\" x=\"475.973999\" y=\"120.000000\"/>\n\t\t\t\t<rect fill=\"#FF00FF\" fill-opacity=\"1.000000\" height=\"5.000000\" stroke=\"#000000\" stroke-opacity=\"1.000000\" stroke-width=\"1.000000\" width=\"3.199463\" x=\"495.597412\" y=\"120.000000\"/>\n\t\t\t\t<rect fill=\"#FF00FF\" fill-opacity=\"1.000000\" height=\"5.000000\" stroke=\"#000000\" stroke-opacity=\"1.000000\" stroke-width=\"1.000000\" width=\"25.275818\" x=\"536.550598\" y=\"120.000000\"/>\n\t\t\t\t<rect fill=\"#FF00FF\" fill-opacity=\"1.000000\" height=\"5.000000\" stroke=\"#000000\" stroke-opacity=\"1.000000\" stroke-width=\"1.000000\" width=\"13.011169\" x=\"568.758545\" y=\"120.000000\"/>\n\t\t\t\t<rect fill=\"#FF00FF\" fill-opacity=\"1.000000\" height=\"5.000000\" stroke=\"#000000\" stroke-opacity=\"1.000000\" stroke-width=\"1.000000\" width=\"21.863037\" x=\"586.888855\" y=\"120.000000\"/>\n\t\t\t\t<rect fill=\"#FFFFFF\" fill-opacity=\"1.000000\" height=\"5.000000\" stroke=\"#000000\" stroke-opacity=\"1.000000\" stroke-width=\"1.000000\" width=\"16.104004\" x=\"608.751892\" y=\"120.000000\"/>\n\t\t\t</g>\n\t\t\t<g fill=\"none\" name=\"F52B5.5b.3\" stroke=\"#000000\" stroke-opacity=\"1.000000\" stroke-width=\"1.000000\">\n\t\t\t\t<text style=\"font-family: Arial; font-size: 10.000000px; stroke: none; fill: #000000; \" x=\"137.363770\" y=\"137.500000\">F52B5.5b.3</text>\n\t\t\t\t<line stroke=\"#000000\" stroke-opacity=\"1.000000\" stroke-width=\"1.000000\" x1=\"137.363770\" x2=\"624.749207\" y1=\"142.500000\" y2=\"142.500000\"/>\n\t\t\t\t<polygon fill=\"#000000\" fill-opacity=\"1.000000\" points=\"624.749207 140.000000 624.749207 145.000000 629.749207 142.500000\" stroke=\"#000000\" stroke-opacity=\"1.000000\" stroke-width=\"1.000000\"/>\n\t\t\t\t<rect fill=\"#FFFFFF\" fill-opacity=\"1.000000\" height=\"5.000000\" stroke=\"#000000\" stroke-opacity=\"1.000000\" stroke-width=\"1.000000\" width=\"5.652390\" x=\"137.363770\" y=\"140.000000\"/>\n\t\t\t\t<rect fill=\"#FFFFFF\" fill-opacity=\"1.000000\" height=\"5.000000\" stroke=\"#000000\" stroke-opacity=\"1.000000\" stroke-width=\"1.000000\" width=\"8.531906\" x=\"148.455261\" y=\"140.000000\"/>\n\t\t\t\t<rect fill=\"#FFFFFF\" fill-opacity=\"1.000000\" height=\"5.000000\" stroke=\"#000000\" stroke-opacity=\"1.000000\" stroke-width=\"1.000000\" width=\"7.892014\" x=\"162.532913\" y=\"140.000000\"/>\n\t\t\t\t<rect fill=\"#FFFFFF\" fill-opacity=\"1.000000\" height=\"5.000000\" stroke=\"#000000\" stroke-opacity=\"1.000000\" stroke-width=\"1.000000\" width=\"17.383774\" x=\"175.864029\" y=\"140.000000\"/>\n\t\t\t\t<rect fill=\"#FFFFFF\" fill-opacity=\"1.000000\" height=\"5.000000\" stroke=\"#000000\" stroke-opacity=\"1.000000\" stroke-width=\"1.000000\" width=\"10.558243\" x=\"205.939011\" y=\"140.000000\"/>\n\t\t\t\t<rect fill=\"#FFFFFF\" fill-opacity=\"1.000000\" height=\"5.000000\" stroke=\"#000000\" stroke-opacity=\"1.000000\" stroke-width=\"1.000000\" width=\"17.170471\" x=\"221.189804\" y=\"140.000000\"/>\n\t\t\t\t<rect fill=\"#FFFFFF\" fill-opacity=\"1.000000\" height=\"5.000000\" stroke=\"#000000\" stroke-opacity=\"1.000000\" stroke-width=\"1.000000\" width=\"25.382446\" x=\"262.356262\" y=\"140.000000\"/>\n\t\t\t\t<rect fill=\"#FFFFFF\" fill-opacity=\"1.000000\" height=\"5.000000\" stroke=\"#000000\" stroke-opacity=\"1.000000\" stroke-width=\"1.000000\" width=\"17.703705\" x=\"341.169800\" y=\"140.000000\"/>\n\t\t\t\t<rect fill=\"#FFFFFF\" fill-opacity=\"1.000000\" height=\"5.000000\" stroke=\"#000000\" stroke-opacity=\"1.000000\" stroke-width=\"1.000000\" width=\"15.144135\" x=\"406.225616\" y=\"140.000000\"/>\n\t\t\t\t<rect fill=\"#FFFFFF\" fill-opacity=\"1.000000\" height=\"5.000000\" stroke=\"#000000\" stroke-opacity=\"1.000000\" stroke-width=\"1.000000\" width=\"19.623383\" x=\"475.973999\" y=\"140.000000\"/>\n\t\t\t\t<rect fill=\"#FF00FF\" fill-opacity=\"1.000000\" height=\"5.000000\" stroke=\"#000000\" stroke-opacity=\"1.000000\" stroke-width=\"1.000000\" width=\"3.199463\" x=\"495.597412\" y=\"140.000000\"/>\n\t\t\t\t<rect fill=\"#FF00FF\" fill-opacity=\"1.000000\" height=\"5.000000\" stroke=\"#000000\" stroke-opacity=\"1.000000\" stroke-width=\"1.000000\" width=\"25.275818\" x=\"536.550598\" y=\"140.000000\"/>\n\t\t\t\t<rect fill=\"#FF00FF\" fill-opacity=\"1.000000\" height=\"5.000000\" stroke=\"#000000\" stroke-opacity=\"1.000000\" stroke-width=\"1.000000\" width=\"13.011169\" x=\"568.758545\" y=\"140.000000\"/>\n\t\t\t\t<rect fill=\"#FF00FF\" fill-opacity=\"1.000000\" height=\"5.000000\" stroke=\"#000000\" stroke-opacity=\"1.000000\" stroke-width=\"1.000000\" width=\"21.863037\" x=\"586.888855\" y=\"140.000000\"/>\n\t\t\t\t<rect fill=\"#FFFFFF\" fill-opacity=\"1.000000\" height=\"5.000000\" stroke=\"#000000\" stroke-opacity=\"1.000000\" stroke-width=\"1.000000\" width=\"16.104004\" x=\"608.751892\" y=\"140.000000\"/>\n\t\t\t</g>\n\t\t\t<g fill=\"none\" name=\"F52B5.5b.4\" stroke=\"#000000\" stroke-opacity=\"1.000000\" stroke-width=\"1.000000\">\n\t\t\t\t<text style=\"font-family: Arial; font-size: 10.000000px; stroke: none; fill: #000000; \" x=\"137.363770\" y=\"157.500000\">F52B5.5b.4</text>\n\t\t\t\t<line stroke=\"#000000\" stroke-opacity=\"1.000000\" stroke-width=\"1.000000\" x1=\"137.363770\" x2=\"624.749207\" y1=\"162.500000\" y2=\"162.500000\"/>\n\t\t\t\t<polygon fill=\"#000000\" fill-opacity=\"1.000000\" points=\"624.749207 160.000000 624.749207 165.000000 629.749207 162.500000\" stroke=\"#000000\" stroke-opacity=\"1.000000\" stroke-width=\"1.000000\"/>\n\t\t\t\t<rect fill=\"#FFFFFF\" fill-opacity=\"1.000000\" height=\"5.000000\" stroke=\"#000000\" stroke-opacity=\"1.000000\" stroke-width=\"1.000000\" width=\"5.652390\" x=\"137.363770\" y=\"160.000000\"/>\n\t\t\t\t<rect fill=\"#FFFFFF\" fill-opacity=\"1.000000\" height=\"5.000000\" stroke=\"#000000\" stroke-opacity=\"1.000000\" stroke-width=\"1.000000\" width=\"8.531906\" x=\"148.455261\" y=\"160.000000\"/>\n\t\t\t\t<rect fill=\"#FFFFFF\" fill-opacity=\"1.000000\" height=\"5.000000\" stroke=\"#000000\" stroke-opacity=\"1.000000\" stroke-width=\"1.000000\" width=\"7.892014\" x=\"162.532913\" y=\"160.000000\"/>\n\t\t\t\t<rect fill=\"#FFFFFF\" fill-opacity=\"1.000000\" height=\"5.000000\" stroke=\"#000000\" stroke-opacity=\"1.000000\" stroke-width=\"1.000000\" width=\"17.383774\" x=\"175.864029\" y=\"160.000000\"/>\n\t\t\t\t<rect fill=\"#FFFFFF\" fill-opacity=\"1.000000\" height=\"5.000000\" stroke=\"#000000\" stroke-opacity=\"1.000000\" stroke-width=\"1.000000\" width=\"9.918350\" x=\"206.578903\" y=\"160.000000\"/>\n\t\t\t\t<rect fill=\"#FFFFFF\" fill-opacity=\"1.000000\" height=\"5.000000\" stroke=\"#000000\" stroke-opacity=\"1.000000\" stroke-width=\"1.000000\" width=\"17.170471\" x=\"221.189804\" y=\"160.000000\"/>\n\t\t\t\t<rect fill=\"#FFFFFF\" fill-opacity=\"1.000000\" height=\"5.000000\" stroke=\"#000000\" stroke-opacity=\"1.000000\" stroke-width=\"1.000000\" width=\"25.382446\" x=\"262.356262\" y=\"160.000000\"/>\n\t\t\t\t<rect fill=\"#FFFFFF\" fill-opacity=\"1.000000\" height=\"5.000000\" stroke=\"#000000\" stroke-opacity=\"1.000000\" stroke-width=\"1.000000\" width=\"80.199951\" x=\"341.169800\" y=\"160.000000\"/>\n\t\t\t\t<rect fill=\"#FFFFFF\" fill-opacity=\"1.000000\" height=\"5.000000\" stroke=\"#000000\" stroke-opacity=\"1.000000\" stroke-width=\"1.000000\" width=\"19.623383\" x=\"475.973999\" y=\"160.000000\"/>\n\t\t\t\t<rect fill=\"#FF00FF\" fill-opacity=\"1.000000\" height=\"5.000000\" stroke=\"#000000\" stroke-opacity=\"1.000000\" stroke-width=\"1.000000\" width=\"3.199463\" x=\"495.597412\" y=\"160.000000\"/>\n\t\t\t\t<rect fill=\"#FF00FF\" fill-opacity=\"1.000000\" height=\"5.000000\" stroke=\"#000000\" stroke-opacity=\"1.000000\" stroke-width=\"1.000000\" width=\"25.275818\" x=\"536.550598\" y=\"160.000000\"/>\n\t\t\t\t<rect fill=\"#FF00FF\" fill-opacity=\"1.000000\" height=\"5.000000\" stroke=\"#000000\" stroke-opacity=\"1.000000\" stroke-width=\"1.000000\" width=\"13.011169\" x=\"568.758545\" y=\"160.000000\"/>\n\t\t\t\t<rect fill=\"#FF00FF\" fill-opacity=\"1.000000\" height=\"5.000000\" stroke=\"#000000\" stroke-opacity=\"1.000000\" stroke-width=\"1.000000\" width=\"21.863037\" x=\"586.888855\" y=\"160.000000\"/>\n\t\t\t\t<rect fill=\"#FFFFFF\" fill-opacity=\"1.000000\" height=\"5.000000\" stroke=\"#000000\" stroke-opacity=\"1.000000\" stroke-width=\"1.000000\" width=\"16.104004\" x=\"608.751892\" y=\"160.000000\"/>\n\t\t\t</g>\n\t\t\t<g fill=\"none\" name=\"F52B5.5b.5\" stroke=\"#000000\" stroke-opacity=\"1.000000\" stroke-width=\"1.000000\">\n\t\t\t\t<text style=\"font-family: Arial; font-size: 10.000000px; stroke: none; fill: #000000; \" x=\"137.363770\" y=\"177.500000\">F52B5.5b.5</text>\n\t\t\t\t<line stroke=\"#000000\" stroke-opacity=\"1.000000\" stroke-width=\"1.000000\" x1=\"137.363770\" x2=\"624.749207\" y1=\"182.500000\" y2=\"182.500000\"/>\n\t\t\t\t<polygon fill=\"#000000\" fill-opacity=\"1.000000\" points=\"624.749207 180.000000 624.749207 185.000000 629.749207 182.500000\" stroke=\"#000000\" stroke-opacity=\"1.000000\" stroke-width=\"1.000000\"/>\n\t\t\t\t<rect fill=\"#FFFFFF\" fill-opacity=\"1.000000\" height=\"5.000000\" stroke=\"#000000\" stroke-opacity=\"1.000000\" stroke-width=\"1.000000\" width=\"5.652390\" x=\"137.363770\" y=\"180.000000\"/>\n\t\t\t\t<rect fill=\"#FFFFFF\" fill-opacity=\"1.000000\" height=\"5.000000\" stroke=\"#000000\" stroke-opacity=\"1.000000\" stroke-width=\"1.000000\" width=\"8.531906\" x=\"148.455261\" y=\"180.000000\"/>\n\t\t\t\t<rect fill=\"#FFFFFF\" fill-opacity=\"1.000000\" height=\"5.000000\" stroke=\"#000000\" stroke-opacity=\"1.000000\" stroke-width=\"1.000000\" width=\"7.892014\" x=\"162.532913\" y=\"180.000000\"/>\n\t\t\t\t<rect fill=\"#FFFFFF\" fill-opacity=\"1.000000\" height=\"5.000000\" stroke=\"#000000\" stroke-opacity=\"1.000000\" stroke-width=\"1.000000\" width=\"17.383774\" x=\"175.864029\" y=\"180.000000\"/>\n\t\t\t\t<rect fill=\"#FFFFFF\" fill-opacity=\"1.000000\" height=\"5.000000\" stroke=\"#000000\" stroke-opacity=\"1.000000\" stroke-width=\"1.000000\" width=\"9.918350\" x=\"206.578903\" y=\"180.000000\"/>\n\t\t\t\t<rect fill=\"#FFFFFF\" fill-opacity=\"1.000000\" height=\"5.000000\" stroke=\"#000000\" stroke-opacity=\"1.000000\" stroke-width=\"1.000000\" width=\"137.683731\" x=\"221.189804\" y=\"180.000000\"/>\n\t\t\t\t<rect fill=\"#FFFFFF\" fill-opacity=\"1.000000\" height=\"5.000000\" stroke=\"#000000\" stroke-opacity=\"1.000000\" stroke-width=\"1.000000\" width=\"15.144135\" x=\"406.225616\" y=\"180.000000\"/>\n\t\t\t\t<rect fill=\"#FFFFFF\" fill-opacity=\"1.000000\" height=\"5.000000\" stroke=\"#000000\" stroke-opacity=\"1.000000\" stroke-width=\"1.000000\" width=\"19.623383\" x=\"475.973999\" y=\"180.000000\"/>\n\t\t\t\t<rect fill=\"#FF00FF\" fill-opacity=\"1.000000\" height=\"5.000000\" stroke=\"#000000\" stroke-opacity=\"1.000000\" stroke-width=\"1.000000\" width=\"3.199463\" x=\"495.597412\" y=\"180.000000\"/>\n\t\t\t\t<rect fill=\"#FF00FF\" fill-opacity=\"1.000000\" height=\"5.000000\" stroke=\"#000000\" stroke-opacity=\"1.000000\" stroke-width=\"1.000000\" width=\"25.275818\" x=\"536.550598\" y=\"180.000000\"/>\n\t\t\t\t<rect fill=\"#FF00FF\" fill-opacity=\"1.000000\" height=\"5.000000\" stroke=\"#000000\" stroke-opacity=\"1.000000\" stroke-width=\"1.000000\" width=\"13.011169\" x=\"568.758545\" y=\"180.000000\"/>\n\t\t\t\t<rect fill=\"#FF00FF\" fill-opacity=\"1.000000\" height=\"5.000000\" stroke=\"#000000\" stroke-opacity=\"1.000000\" stroke-width=\"1.000000\" width=\"21.863037\" x=\"586.888855\" y=\"180.000000\"/>\n\t\t\t\t<rect fill=\"#FFFFFF\" fill-opacity=\"1.000000\" height=\"5.000000\" stroke=\"#000000\" stroke-opacity=\"1.000000\" stroke-width=\"1.000000\" width=\"16.104004\" x=\"608.751892\" y=\"180.000000\"/>\n\t\t\t</g>\n\t\t\t<g fill=\"none\" name=\"F52B5.5b.6\" stroke=\"#000000\" stroke-opacity=\"1.000000\" stroke-width=\"1.000000\">\n\t\t\t\t<text style=\"font-family: Arial; font-size: 10.000000px; stroke: none; fill: #000000; \" x=\"137.363770\" y=\"197.500000\">F52B5.5b.6</text>\n\t\t\t\t<line stroke=\"#000000\" stroke-opacity=\"1.000000\" stroke-width=\"1.000000\" x1=\"137.363770\" x2=\"624.749207\" y1=\"202.500000\" y2=\"202.500000\"/>\n\t\t\t\t<polygon fill=\"#000000\" fill-opacity=\"1.000000\" points=\"624.749207 200.000000 624.749207 205.000000 629.749207 202.500000\" stroke=\"#000000\" stroke-opacity=\"1.000000\" stroke-width=\"1.000000\"/>\n\t\t\t\t<rect fill=\"#FFFFFF\" fill-opacity=\"1.000000\" height=\"5.000000\" stroke=\"#000000\" stroke-opacity=\"1.000000\" stroke-width=\"1.000000\" width=\"5.652390\" x=\"137.363770\" y=\"200.000000\"/>\n\t\t\t\t<rect fill=\"#FFFFFF\" fill-opacity=\"1.000000\" height=\"5.000000\" stroke=\"#000000\" stroke-opacity=\"1.000000\" stroke-width=\"1.000000\" width=\"8.531906\" x=\"148.455261\" y=\"200.000000\"/>\n\t\t\t\t<rect fill=\"#FFFFFF\" fill-opacity=\"1.000000\" height=\"5.000000\" stroke=\"#000000\" stroke-opacity=\"1.000000\" stroke-width=\"1.000000\" width=\"7.892014\" x=\"162.532913\" y=\"200.000000\"/>\n\t\t\t\t<rect fill=\"#FFFFFF\" fill-opacity=\"1.000000\" height=\"5.000000\" stroke=\"#000000\" stroke-opacity=\"1.000000\" stroke-width=\"1.000000\" width=\"17.810364\" x=\"175.864029\" y=\"200.000000\"/>\n\t\t\t\t<rect fill=\"#FFFFFF\" fill-opacity=\"1.000000\" height=\"5.000000\" stroke=\"#000000\" stroke-opacity=\"1.000000\" stroke-width=\"1.000000\" width=\"9.918350\" x=\"206.578903\" y=\"200.000000\"/>\n\t\t\t\t<rect fill=\"#FFFFFF\" fill-opacity=\"1.000000\" height=\"5.000000\" stroke=\"#000000\" stroke-opacity=\"1.000000\" stroke-width=\"1.000000\" width=\"17.170471\" x=\"221.189804\" y=\"200.000000\"/>\n\t\t\t\t<rect fill=\"#FFFFFF\" fill-opacity=\"1.000000\" height=\"5.000000\" stroke=\"#000000\" stroke-opacity=\"1.000000\" stroke-width=\"1.000000\" width=\"25.382446\" x=\"262.356262\" y=\"200.000000\"/>\n\t\t\t\t<rect fill=\"#FFFFFF\" fill-opacity=\"1.000000\" height=\"5.000000\" stroke=\"#000000\" stroke-opacity=\"1.000000\" stroke-width=\"1.000000\" width=\"17.703705\" x=\"341.169800\" y=\"200.000000\"/>\n\t\t\t\t<rect fill=\"#FFFFFF\" fill-opacity=\"1.000000\" height=\"5.000000\" stroke=\"#000000\" stroke-opacity=\"1.000000\" stroke-width=\"1.000000\" width=\"15.144135\" x=\"406.225616\" y=\"200.000000\"/>\n\t\t\t\t<rect fill=\"#FFFFFF\" fill-opacity=\"1.000000\" height=\"5.000000\" stroke=\"#000000\" stroke-opacity=\"1.000000\" stroke-width=\"1.000000\" width=\"19.623383\" x=\"475.973999\" y=\"200.000000\"/>\n\t\t\t\t<rect fill=\"#FF00FF\" fill-opacity=\"1.000000\" height=\"5.000000\" stroke=\"#000000\" stroke-opacity=\"1.000000\" stroke-width=\"1.000000\" width=\"3.199463\" x=\"495.597412\" y=\"200.000000\"/>\n\t\t\t\t<rect fill=\"#FF00FF\" fill-opacity=\"1.000000\" height=\"5.000000\" stroke=\"#000000\" stroke-opacity=\"1.000000\" stroke-width=\"1.000000\" width=\"25.275818\" x=\"536.550598\" y=\"200.000000\"/>\n\t\t\t\t<rect fill=\"#FF00FF\" fill-opacity=\"1.000000\" height=\"5.000000\" stroke=\"#000000\" stroke-opacity=\"1.000000\" stroke-width=\"1.000000\" width=\"13.011169\" x=\"568.758545\" y=\"200.000000\"/>\n\t\t\t\t<rect fill=\"#FF00FF\" fill-opacity=\"1.000000\" height=\"5.000000\" stroke=\"#000000\" stroke-opacity=\"1.000000\" stroke-width=\"1.000000\" width=\"21.863037\" x=\"586.888855\" y=\"200.000000\"/>\n\t\t\t\t<rect fill=\"#FFFFFF\" fill-opacity=\"1.000000\" height=\"5.000000\" stroke=\"#000000\" stroke-opacity=\"1.000000\" stroke-width=\"1.000000\" width=\"16.104004\" x=\"608.751892\" y=\"200.000000\"/>\n\t\t\t</g>\n\t\t\t<g fill=\"none\" name=\"F52B5.5b.7\" stroke=\"#000000\" stroke-opacity=\"1.000000\" stroke-width=\"1.000000\">\n\t\t\t\t<text style=\"font-family: Arial; font-size: 10.000000px; stroke: none; fill: #000000; \" x=\"137.363770\" y=\"217.500000\">F52B5.5b.7</text>\n\t\t\t\t<line stroke=\"#000000\" stroke-opacity=\"1.000000\" stroke-width=\"1.000000\" x1=\"137.363770\" x2=\"624.749207\" y1=\"222.500000\" y2=\"222.500000\"/>\n\t\t\t\t<polygon fill=\"#000000\" fill-opacity=\"1.000000\" points=\"624.749207 220.000000 624.749207 225.000000 629.749207 222.500000\" stroke=\"#000000\" stroke-opacity=\"1.000000\" stroke-width=\"1.000000\"/>\n\t\t\t\t<rect fill=\"#FFFFFF\" fill-opacity=\"1.000000\" height=\"5.000000\" stroke=\"#000000\" stroke-opacity=\"1.000000\" stroke-width=\"1.000000\" width=\"5.652390\" x=\"137.363770\" y=\"220.000000\"/>\n\t\t\t\t<rect fill=\"#FFFFFF\" fill-opacity=\"1.000000\" height=\"5.000000\" stroke=\"#000000\" stroke-opacity=\"1.000000\" stroke-width=\"1.000000\" width=\"8.531906\" x=\"148.455261\" y=\"220.000000\"/>\n\t\t\t\t<rect fill=\"#FFFFFF\" fill-opacity=\"1.000000\" height=\"5.000000\" stroke=\"#000000\" stroke-opacity=\"1.000000\" stroke-width=\"1.000000\" width=\"7.892014\" x=\"162.532913\" y=\"220.000000\"/>\n\t\t\t\t<rect fill=\"#FFFFFF\" fill-opacity=\"1.000000\" height=\"5.000000\" stroke=\"#000000\" stroke-opacity=\"1.000000\" stroke-width=\"1.000000\" width=\"17.810364\" x=\"175.864029\" y=\"220.000000\"/>\n\t\t\t\t<rect fill=\"#FFFFFF\" fill-opacity=\"1.000000\" height=\"5.000000\" stroke=\"#000000\" stroke-opacity=\"1.000000\" stroke-width=\"1.000000\" width=\"8.958511\" x=\"207.538742\" y=\"220.000000\"/>\n\t\t\t\t<rect fill=\"#FFFFFF\" fill-opacity=\"1.000000\" height=\"5.000000\" stroke=\"#000000\" stroke-opacity=\"1.000000\" stroke-width=\"1.000000\" width=\"17.170471\" x=\"221.189804\" y=\"220.000000\"/>\n\t\t\t\t<rect fill=\"#FFFFFF\" fill-opacity=\"1.000000\" height=\"5.000000\" stroke=\"#000000\" stroke-opacity=\"1.000000\" stroke-width=\"1.000000\" width=\"25.382446\" x=\"262.356262\" y=\"220.000000\"/>\n\t\t\t\t<rect fill=\"#FFFFFF\" fill-opacity=\"1.000000\" height=\"5.000000\" stroke=\"#000000\" stroke-opacity=\"1.000000\" stroke-width=\"1.000000\" width=\"17.703705\" x=\"341.169800\" y=\"220.000000\"/>\n\t\t\t\t<rect fill=\"#FFFFFF\" fill-opacity=\"1.000000\" height=\"5.000000\" stroke=\"#000000\" stroke-opacity=\"1.000000\" stroke-width=\"1.000000\" width=\"15.144135\" x=\"406.225616\" y=\"220.000000\"/>\n\t\t\t\t<rect fill=\"#FFFFFF\" fill-opacity=\"1.000000\" height=\"5.000000\" stroke=\"#000000\" stroke-opacity=\"1.000000\" stroke-width=\"1.000000\" width=\"19.623383\" x=\"475.973999\" y=\"220.000000\"/>\n\t\t\t\t<rect fill=\"#FF00FF\" fill-opacity=\"1.000000\" height=\"5.000000\" stroke=\"#000000\" stroke-opacity=\"1.000000\" stroke-width=\"1.000000\" width=\"3.199463\" x=\"495.597412\" y=\"220.000000\"/>\n\t\t\t\t<rect fill=\"#FF00FF\" fill-opacity=\"1.000000\" height=\"5.000000\" stroke=\"#000000\" stroke-opacity=\"1.000000\" stroke-width=\"1.000000\" width=\"25.275818\" x=\"536.550598\" y=\"220.000000\"/>\n\t\t\t\t<rect fill=\"#FF00FF\" fill-opacity=\"1.000000\" height=\"5.000000\" stroke=\"#000000\" stroke-opacity=\"1.000000\" stroke-width=\"1.000000\" width=\"13.011169\" x=\"568.758545\" y=\"220.000000\"/>\n\t\t\t\t<rect fill=\"#FF00FF\" fill-opacity=\"1.000000\" height=\"5.000000\" stroke=\"#000000\" stroke-opacity=\"1.000000\" stroke-width=\"1.000000\" width=\"21.863037\" x=\"586.888855\" y=\"220.000000\"/>\n\t\t\t\t<rect fill=\"#FFFFFF\" fill-opacity=\"1.000000\" height=\"5.000000\" stroke=\"#000000\" stroke-opacity=\"1.000000\" stroke-width=\"1.000000\" width=\"16.104004\" x=\"608.751892\" y=\"220.000000\"/>\n\t\t\t</g>\n\t\t\t<g fill=\"none\" name=\"F52B5.5b.8\" stroke=\"#000000\" stroke-opacity=\"1.000000\" stroke-width=\"1.000000\">\n\t\t\t\t<text style=\"font-family: Arial; font-size: 10.000000px; stroke: none; fill: #000000; \" x=\"137.470428\" y=\"237.500000\">F52B5.5b.8</text>\n\t\t\t\t<line stroke=\"#000000\" stroke-opacity=\"1.000000\" stroke-width=\"1.000000\" x1=\"137.470428\" x2=\"624.749207\" y1=\"242.500000\" y2=\"242.500000\"/>\n\t\t\t\t<polygon fill=\"#000000\" fill-opacity=\"1.000000\" points=\"624.749207 240.000000 624.749207 245.000000 629.749207 242.500000\" stroke=\"#000000\" stroke-opacity=\"1.000000\" stroke-width=\"1.000000\"/>\n\t\t\t\t<rect fill=\"#FFFFFF\" fill-opacity=\"1.000000\" height=\"5.000000\" stroke=\"#000000\" stroke-opacity=\"1.000000\" stroke-width=\"1.000000\" width=\"5.545746\" x=\"137.470428\" y=\"240.000000\"/>\n\t\t\t\t<rect fill=\"#FFFFFF\" fill-opacity=\"1.000000\" height=\"5.000000\" stroke=\"#000000\" stroke-opacity=\"1.000000\" stroke-width=\"1.000000\" width=\"8.531906\" x=\"148.455261\" y=\"240.000000\"/>\n\t\t\t\t<rect fill=\"#FFFFFF\" fill-opacity=\"1.000000\" height=\"5.000000\" stroke=\"#000000\" stroke-opacity=\"1.000000\" stroke-width=\"1.000000\" width=\"7.892014\" x=\"162.532913\" y=\"240.000000\"/>\n\t\t\t\t<rect fill=\"#FFFFFF\" fill-opacity=\"1.000000\" height=\"5.000000\" stroke=\"#000000\" stroke-opacity=\"1.000000\" stroke-width=\"1.000000\" width=\"17.383774\" x=\"175.864029\" y=\"240.000000\"/>\n\t\t\t\t<rect fill=\"#FFFFFF\" fill-opacity=\"1.000000\" height=\"5.000000\" stroke=\"#000000\" stroke-opacity=\"1.000000\" stroke-width=\"1.000000\" width=\"9.918350\" x=\"206.578903\" y=\"240.000000\"/>\n\t\t\t\t<rect fill=\"#FFFFFF\" fill-opacity=\"1.000000\" height=\"5.000000\" stroke=\"#000000\" stroke-opacity=\"1.000000\" stroke-width=\"1.000000\" width=\"1.386429\" x=\"221.189804\" y=\"240.000000\"/>\n\t\t\t\t<rect fill=\"#FFFFFF\" fill-opacity=\"1.000000\" height=\"5.000000\" stroke=\"#000000\" stroke-opacity=\"1.000000\" stroke-width=\"1.000000\" width=\"3.946014\" x=\"234.414261\" y=\"240.000000\"/>\n\t\t\t\t<rect fill=\"#FFFFFF\" fill-opacity=\"1.000000\" height=\"5.000000\" stroke=\"#000000\" stroke-opacity=\"1.000000\" stroke-width=\"1.000000\" width=\"25.382446\" x=\"262.356262\" y=\"240.000000\"/>\n\t\t\t\t<rect fill=\"#FFFFFF\" fill-opacity=\"1.000000\" height=\"5.000000\" stroke=\"#000000\" stroke-opacity=\"1.000000\" stroke-width=\"1.000000\" width=\"17.703705\" x=\"341.169800\" y=\"240.000000\"/>\n\t\t\t\t<rect fill=\"#FFFFFF\" fill-opacity=\"1.000000\" height=\"5.000000\" stroke=\"#000000\" stroke-opacity=\"1.000000\" stroke-width=\"1.000000\" width=\"15.144135\" x=\"406.225616\" y=\"240.000000\"/>\n\t\t\t\t<rect fill=\"#FFFFFF\" fill-opacity=\"1.000000\" height=\"5.000000\" stroke=\"#000000\" stroke-opacity=\"1.000000\" stroke-width=\"1.000000\" width=\"19.623383\" x=\"475.973999\" y=\"240.000000\"/>\n\t\t\t\t<rect fill=\"#FF00FF\" fill-opacity=\"1.000000\" height=\"5.000000\" stroke=\"#000000\" stroke-opacity=\"1.000000\" stroke-width=\"1.000000\" width=\"3.199463\" x=\"495.597412\" y=\"240.000000\"/>\n\t\t\t\t<rect fill=\"#FF00FF\" fill-opacity=\"1.000000\" height=\"5.000000\" stroke=\"#000000\" stroke-opacity=\"1.000000\" stroke-width=\"1.000000\" width=\"25.275818\" x=\"536.550598\" y=\"240.000000\"/>\n\t\t\t\t<rect fill=\"#FF00FF\" fill-opacity=\"1.000000\" height=\"5.000000\" stroke=\"#000000\" stroke-opacity=\"1.000000\" stroke-width=\"1.000000\" width=\"13.011169\" x=\"568.758545\" y=\"240.000000\"/>\n\t\t\t\t<rect fill=\"#FF00FF\" fill-opacity=\"1.000000\" height=\"5.000000\" stroke=\"#000000\" stroke-opacity=\"1.000000\" stroke-width=\"1.000000\" width=\"21.863037\" x=\"586.888855\" y=\"240.000000\"/>\n\t\t\t\t<rect fill=\"#FFFFFF\" fill-opacity=\"1.000000\" height=\"5.000000\" stroke=\"#000000\" stroke-opacity=\"1.000000\" stroke-width=\"1.000000\" width=\"16.104004\" x=\"608.751892\" y=\"240.000000\"/>\n\t\t\t</g>\n\t\t\t<g fill=\"none\" name=\"F52B5.5a.1\" stroke=\"#000000\" stroke-opacity=\"1.000000\" stroke-width=\"1.000000\">\n\t\t\t\t<text style=\"font-family: Arial; font-size: 10.000000px; stroke: none; fill: #000000; \" x=\"138.110321\" y=\"257.500000\">F52B5.5a.1</text>\n\t\t\t\t<line stroke=\"#000000\" stroke-opacity=\"1.000000\" stroke-width=\"1.000000\" x1=\"138.110321\" x2=\"624.749207\" y1=\"262.500000\" y2=\"262.500000\"/>\n\t\t\t\t<polygon fill=\"#000000\" fill-opacity=\"1.000000\" points=\"624.749207 260.000000 624.749207 265.000000 629.749207 262.500000\" stroke=\"#000000\" stroke-opacity=\"1.000000\" stroke-width=\"1.000000\"/>\n\t\t\t\t<rect fill=\"#FFFFFF\" fill-opacity=\"1.000000\" height=\"5.000000\" stroke=\"#000000\" stroke-opacity=\"1.000000\" stroke-width=\"1.000000\" width=\"1.000000\" x=\"138.110321\" y=\"260.000000\"/>\n\t\t\t\t<rect fill=\"#FF00FF\" fill-opacity=\"1.000000\" height=\"5.000000\" stroke=\"#000000\" stroke-opacity=\"1.000000\" stroke-width=\"1.000000\" width=\"4.265961\" x=\"138.750214\" y=\"260.000000\"/>\n\t\t\t\t<rect fill=\"#FF00FF\" fill-opacity=\"1.000000\" height=\"5.000000\" stroke=\"#000000\" stroke-opacity=\"1.000000\" stroke-width=\"1.000000\" width=\"8.531906\" x=\"148.455261\" y=\"260.000000\"/>\n\t\t\t\t<rect fill=\"#FF00FF\" fill-opacity=\"1.000000\" height=\"5.000000\" stroke=\"#000000\" stroke-opacity=\"1.000000\" stroke-width=\"1.000000\" width=\"7.892014\" x=\"162.532913\" y=\"260.000000\"/>\n\t\t\t\t<rect fill=\"#FF00FF\" fill-opacity=\"1.000000\" height=\"5.000000\" stroke=\"#000000\" stroke-opacity=\"1.000000\" stroke-width=\"1.000000\" width=\"17.383774\" x=\"175.864029\" y=\"260.000000\"/>\n\t\t\t\t<rect fill=\"#FF00FF\" fill-opacity=\"1.000000\" height=\"5.000000\" stroke=\"#000000\" stroke-opacity=\"1.000000\" stroke-width=\"1.000000\" width=\"9.918350\" x=\"206.578903\" y=\"260.000000\"/>\n\t\t\t\t<rect fill=\"#FF00FF\" fill-opacity=\"1.000000\" height=\"5.000000\" stroke=\"#000000\" stroke-opacity=\"1.000000\" stroke-width=\"1.000000\" width=\"17.170471\" x=\"221.189804\" y=\"260.000000\"/>\n\t\t\t\t<rect fill=\"#FF00FF\" fill-opacity=\"1.000000\" height=\"5.000000\" stroke=\"#000000\" stroke-opacity=\"1.000000\" stroke-width=\"1.000000\" width=\"25.382446\" x=\"262.356262\" y=\"260.000000\"/>\n\t\t\t\t<rect fill=\"#FF00FF\" fill-opacity=\"1.000000\" height=\"5.000000\" stroke=\"#000000\" stroke-opacity=\"1.000000\" stroke-width=\"1.000000\" width=\"17.703705\" x=\"341.169800\" y=\"260.000000\"/>\n\t\t\t\t<rect fill=\"#FF00FF\" fill-opacity=\"1.000000\" height=\"5.000000\" stroke=\"#000000\" stroke-opacity=\"1.000000\" stroke-width=\"1.000000\" width=\"15.144135\" x=\"406.225616\" y=\"260.000000\"/>\n\t\t\t\t<rect fill=\"#FF00FF\" fill-opacity=\"1.000000\" height=\"5.000000\" stroke=\"#000000\" stroke-opacity=\"1.000000\" stroke-width=\"1.000000\" width=\"22.822876\" x=\"475.973999\" y=\"260.000000\"/>\n\t\t\t\t<rect fill=\"#FF00FF\" fill-opacity=\"1.000000\" height=\"5.000000\" stroke=\"#000000\" stroke-opacity=\"1.000000\" stroke-width=\"1.000000\" width=\"25.275818\" x=\"536.550598\" y=\"260.000000\"/>\n\t\t\t\t<rect fill=\"#FF00FF\" fill-opacity=\"1.000000\" height=\"5.000000\" stroke=\"#000000\" stroke-opacity=\"1.000000\" stroke-width=\"1.000000\" width=\"13.011169\" x=\"568.758545\" y=\"260.000000\"/>\n\t\t\t\t<rect fill=\"#FF00FF\" fill-opacity=\"1.000000\" height=\"5.000000\" stroke=\"#000000\" stroke-opacity=\"1.000000\" stroke-width=\"1.000000\" width=\"21.863037\" x=\"586.888855\" y=\"260.000000\"/>\n\t\t\t\t<rect fill=\"#FFFFFF\" fill-opacity=\"1.000000\" height=\"5.000000\" stroke=\"#000000\" stroke-opacity=\"1.000000\" stroke-width=\"1.000000\" width=\"16.104004\" x=\"608.751892\" y=\"260.000000\"/>\n\t\t\t</g>\n\t\t\t<g fill=\"none\" name=\"F52B5.5b.9\" stroke=\"#000000\" stroke-opacity=\"1.000000\" stroke-width=\"1.000000\">\n\t\t\t\t<text style=\"font-family: Arial; font-size: 10.000000px; stroke: none; fill: #000000; \" x=\"138.430267\" y=\"277.500000\">F52B5.5b.9</text>\n\t\t\t\t<line stroke=\"#000000\" stroke-opacity=\"1.000000\" stroke-width=\"1.000000\" x1=\"138.430267\" x2=\"624.749207\" y1=\"282.500000\" y2=\"282.500000\"/>\n\t\t\t\t<polygon fill=\"#000000\" fill-opacity=\"1.000000\" points=\"624.749207 280.000000 624.749207 285.000000 629.749207 282.500000\" stroke=\"#000000\" stroke-opacity=\"1.000000\" stroke-width=\"1.000000\"/>\n\t\t\t\t<rect fill=\"#FFFFFF\" fill-opacity=\"1.000000\" height=\"5.000000\" stroke=\"#000000\" stroke-opacity=\"1.000000\" stroke-width=\"1.000000\" width=\"4.585907\" x=\"138.430267\" y=\"280.000000\"/>\n\t\t\t\t<rect fill=\"#FFFFFF\" fill-opacity=\"1.000000\" height=\"5.000000\" stroke=\"#000000\" stroke-opacity=\"1.000000\" stroke-width=\"1.000000\" width=\"8.531906\" x=\"148.455261\" y=\"280.000000\"/>\n\t\t\t\t<rect fill=\"#FFFFFF\" fill-opacity=\"1.000000\" height=\"5.000000\" stroke=\"#000000\" stroke-opacity=\"1.000000\" stroke-width=\"1.000000\" width=\"7.892014\" x=\"162.532913\" y=\"280.000000\"/>\n\t\t\t\t<rect fill=\"#FFFFFF\" fill-opacity=\"1.000000\" height=\"5.000000\" stroke=\"#000000\" stroke-opacity=\"1.000000\" stroke-width=\"1.000000\" width=\"17.810364\" x=\"175.864029\" y=\"280.000000\"/>\n\t\t\t\t<rect fill=\"#FFFFFF\" fill-opacity=\"1.000000\" height=\"5.000000\" stroke=\"#000000\" stroke-opacity=\"1.000000\" stroke-width=\"1.000000\" width=\"10.558243\" x=\"205.939011\" y=\"280.000000\"/>\n\t\t\t\t<rect fill=\"#FFFFFF\" fill-opacity=\"1.000000\" height=\"5.000000\" stroke=\"#000000\" stroke-opacity=\"1.000000\" stroke-width=\"1.000000\" width=\"17.170471\" x=\"221.189804\" y=\"280.000000\"/>\n\t\t\t\t<rect fill=\"#FFFFFF\" fill-opacity=\"1.000000\" height=\"5.000000\" stroke=\"#000000\" stroke-opacity=\"1.000000\" stroke-width=\"1.000000\" width=\"25.382446\" x=\"262.356262\" y=\"280.000000\"/>\n\t\t\t\t<rect fill=\"#FFFFFF\" fill-opacity=\"1.000000\" height=\"5.000000\" stroke=\"#000000\" stroke-opacity=\"1.000000\" stroke-width=\"1.000000\" width=\"17.703705\" x=\"341.169800\" y=\"280.000000\"/>\n\t\t\t\t<rect fill=\"#FFFFFF\" fill-opacity=\"1.000000\" height=\"5.000000\" stroke=\"#000000\" stroke-opacity=\"1.000000\" stroke-width=\"1.000000\" width=\"15.144135\" x=\"406.225616\" y=\"280.000000\"/>\n\t\t\t\t<rect fill=\"#FFFFFF\" fill-opacity=\"1.000000\" height=\"5.000000\" stroke=\"#000000\" stroke-opacity=\"1.000000\" stroke-width=\"1.000000\" width=\"19.623383\" x=\"475.973999\" y=\"280.000000\"/>\n\t\t\t\t<rect fill=\"#FF00FF\" fill-opacity=\"1.000000\" height=\"5.000000\" stroke=\"#000000\" stroke-opacity=\"1.000000\" stroke-width=\"1.000000\" width=\"3.199463\" x=\"495.597412\" y=\"280.000000\"/>\n\t\t\t\t<rect fill=\"#FF00FF\" fill-opacity=\"1.000000\" height=\"5.000000\" stroke=\"#000000\" stroke-opacity=\"1.000000\" stroke-width=\"1.000000\" width=\"25.275818\" x=\"536.550598\" y=\"280.000000\"/>\n\t\t\t\t<rect fill=\"#FF00FF\" fill-opacity=\"1.000000\" height=\"5.000000\" stroke=\"#000000\" stroke-opacity=\"1.000000\" stroke-width=\"1.000000\" width=\"13.011169\" x=\"568.758545\" y=\"280.000000\"/>\n\t\t\t\t<rect fill=\"#FF00FF\" fill-opacity=\"1.000000\" height=\"5.000000\" stroke=\"#000000\" stroke-opacity=\"1.000000\" stroke-width=\"1.000000\" width=\"21.863037\" x=\"586.888855\" y=\"280.000000\"/>\n\t\t\t\t<rect fill=\"#FFFFFF\" fill-opacity=\"1.000000\" height=\"5.000000\" stroke=\"#000000\" stroke-opacity=\"1.000000\" stroke-width=\"1.000000\" width=\"16.104004\" x=\"608.751892\" y=\"280.000000\"/>\n\t\t\t</g>\n\t\t\t<g fill=\"none\" name=\"F52B5.5b.1\" stroke=\"#000000\" stroke-opacity=\"1.000000\" stroke-width=\"1.000000\">\n\t\t\t\t<text style=\"font-family: Arial; font-size: 10.000000px; stroke: none; fill: #000000; \" x=\"475.973999\" y=\"297.500000\">F52B5.5b.1</text>\n\t\t\t\t<line stroke=\"#000000\" stroke-opacity=\"1.000000\" stroke-width=\"1.000000\" x1=\"475.973999\" x2=\"624.749207\" y1=\"302.500000\" y2=\"302.500000\"/>\n\t\t\t\t<polygon fill=\"#000000\" fill-opacity=\"1.000000\" points=\"624.749207 300.000000 624.749207 305.000000 629.749207 302.500000\" stroke=\"#000000\" stroke-opacity=\"1.000000\" stroke-width=\"1.000000\"/>\n\t\t\t\t<rect fill=\"#FFFFFF\" fill-opacity=\"1.000000\" height=\"5.000000\" stroke=\"#000000\" stroke-opacity=\"1.000000\" stroke-width=\"1.000000\" width=\"19.623383\" x=\"475.973999\" y=\"300.000000\"/>\n\t\t\t\t<rect fill=\"#FF00FF\" fill-opacity=\"1.000000\" height=\"5.000000\" stroke=\"#000000\" stroke-opacity=\"1.000000\" stroke-width=\"1.000000\" width=\"3.199463\" x=\"495.597412\" y=\"300.000000\"/>\n\t\t\t\t<rect fill=\"#FF00FF\" fill-opacity=\"1.000000\" height=\"5.000000\" stroke=\"#000000\" stroke-opacity=\"1.000000\" stroke-width=\"1.000000\" width=\"25.275818\" x=\"536.550598\" y=\"300.000000\"/>\n\t\t\t\t<rect fill=\"#FF00FF\" fill-opacity=\"1.000000\" height=\"5.000000\" stroke=\"#000000\" stroke-opacity=\"1.000000\" stroke-width=\"1.000000\" width=\"13.011169\" x=\"568.758545\" y=\"300.000000\"/>\n\t\t\t\t<rect fill=\"#FF00FF\" fill-opacity=\"1.000000\" height=\"5.000000\" stroke=\"#000000\" stroke-opacity=\"1.000000\" stroke-width=\"1.000000\" width=\"21.863037\" x=\"586.888855\" y=\"300.000000\"/>\n\t\t\t\t<rect fill=\"#FFFFFF\" fill-opacity=\"1.000000\" height=\"5.000000\" stroke=\"#000000\" stroke-opacity=\"1.000000\" stroke-width=\"1.000000\" width=\"16.104004\" x=\"608.751892\" y=\"300.000000\"/>\n\t\t\t</g>\n\t\t</g>\n\t</g>\n\t<g fill=\"none\" name=\"mutants\" stroke=\"#000000\" stroke-opacity=\"1.000000\" stroke-width=\"1.000000\">\n\t\t<g fill=\"none\" name=\"tm1459\" stroke=\"#000000\" stroke-opacity=\"1.000000\" stroke-width=\"1.000000\">\n\t\t\t<rect fill=\"#FF0000\" fill-opacity=\"1.000000\" height=\"5.000000\" stroke=\"#000000\" stroke-opacity=\"1.000000\" stroke-width=\"1.000000\" width=\"35.087482\" x=\"58.550243\" y=\"340.000000\"/>\n\t\t\t<text style=\"font-family: Arial; font-size: 10.000000px; stroke: none; fill: #000000; \" x=\"58.550243\" y=\"337.000000\">tm1459</text>\n\t\t</g>\n\t\t<g fill=\"none\" name=\"h7734\" stroke=\"#000000\" stroke-opacity=\"1.000000\" stroke-width=\"1.000000\">\n\t\t\t<rect fill=\"#FF0000\" fill-opacity=\"1.000000\" height=\"5.000000\" stroke=\"#000000\" stroke-opacity=\"1.000000\" stroke-width=\"1.000000\" width=\"1.000000\" x=\"103.876022\" y=\"340.000000\"/>\n\t\t\t<text style=\"font-family: Arial; font-size: 10.000000px; stroke: none; fill: #000000; \" x=\"103.876022\" y=\"337.000000\">h7734</text>\n\t\t</g>\n\t\t<g fill=\"none\" name=\"w40\" stroke=\"#000000\" stroke-opacity=\"1.000000\" stroke-width=\"1.000000\">\n\t\t\t<rect fill=\"#FF0000\" fill-opacity=\"1.000000\" height=\"5.000000\" stroke=\"#000000\" stroke-opacity=\"1.000000\" stroke-width=\"1.000000\" width=\"195.380737\" x=\"341.169800\" y=\"340.000000\"/>\n\t\t\t<text style=\"font-family: Arial; font-size: 10.000000px; stroke: none; fill: #000000; \" x=\"341.169800\" y=\"337.000000\">w40</text>\n\t\t</g>\n\t\t<g fill=\"none\" name=\"gk138\" stroke=\"#000000\" stroke-opacity=\"1.000000\" stroke-width=\"1.000000\">\n\t\t\t<rect fill=\"#FF0000\" fill-opacity=\"1.000000\" height=\"5.000000\" stroke=\"#000000\" stroke-opacity=\"1.000000\" stroke-width=\"1.000000\" width=\"177.037140\" x=\"350.768219\" y=\"383.000000\"/>\n\t\t\t<text style=\"font-family: Arial; font-size: 10.000000px; stroke: none; fill: #000000; \" x=\"350.768219\" y=\"380.000000\">gk138</text>\n\t\t</g>\n\t\t<g fill=\"none\" name=\"ep347\" stroke=\"#000000\" stroke-opacity=\"1.000000\" stroke-width=\"1.000000\">\n\t\t\t<rect fill=\"#FF0000\" fill-opacity=\"1.000000\" height=\"5.000000\" stroke=\"#000000\" stroke-opacity=\"1.000000\" stroke-width=\"1.000000\" width=\"194.847534\" x=\"410.065002\" y=\"426.000000\"/>\n\t\t\t<text style=\"font-family: Arial; font-size: 10.000000px; stroke: none; fill: #000000; \" x=\"410.065002\" y=\"423.000000\">ep347</text>\n\t\t</g>\n\t</g>\n</svg>"
          },
          "metadata": {
            "tags": []
          }
        }
      ]
    },
    {
      "cell_type": "markdown",
      "metadata": {
        "id": "pCrpmit2M_dJ"
      },
      "source": [
        "#### コマンドライン（CUI）アプリとして使用する場合\n",
        "以下のヘルプを参照に、コマンドを実行してください。"
      ]
    },
    {
      "cell_type": "code",
      "metadata": {
        "id": "cRapooPgM_kI",
        "colab": {
          "base_uri": "https://localhost:8080/"
        },
        "outputId": "930e3194-b47c-458d-9261-be8967e5770d"
      },
      "source": [
        "!./GeneMapSVG --help"
      ],
      "execution_count": null,
      "outputs": [
        {
          "output_type": "stream",
          "text": [
            "============================================================\n",
            "MapSVG v1.1.0\n",
            "Copyright (c) 2019 Yuji Suehiro. All rights reserved. \n",
            "MIT license.\n",
            ". . . . . . . . . . . . . . . . . . . . . . . . . . . . . . \n",
            "\n",
            "Usage:\n",
            "  MapSVG -r file -a file -p position -w value -o file { -tmgv } { --custom information }\n",
            ". . . . . . . . . . . . . . . . . . . . . . . . . . . . . . \n",
            "\n",
            "[Option]\n",
            "  --annot/-a          : \u001b[0m\u001b[31m*\u001b[0m\u001b[39m\u001b[49m\u001b[0m\u001b[39m\u001b[49mAnnotation database file path.\n",
            "  --custom            :  Show original features. \n",
            "Information should be defined as [{name=NNN;pos=1:12345..23456;col=red}, ...]\n",
            "  --gene/-g           :  Show genes positions.\n",
            "  --mut/-m            :  Show mutations positions.\n",
            "  --out/-o            : \u001b[0m\u001b[31m*\u001b[0m\u001b[39m\u001b[49m\u001b[0m\u001b[39m\u001b[49mFile path to export.\n",
            "  --pos/-p            : \u001b[0m\u001b[31m*\u001b[0m\u001b[39m\u001b[49m\u001b[0m\u001b[39m\u001b[49mPosition to obtain the map.\n",
            "  --ref/-r            : \u001b[0m\u001b[31m*\u001b[0m\u001b[39m\u001b[49m\u001b[0m\u001b[39m\u001b[49mReference file path.\n",
            "  --trs/-t            :  Show transcripts positions.\n",
            "  --var/-v            :  Show mutations positions.\n",
            "  --width/-w          : \u001b[0m\u001b[31m*\u001b[0m\u001b[39m\u001b[49m\u001b[0m\u001b[39m\u001b[49mWidth of viewport.\n",
            "\n",
            "  --version/-V        : Show version.\n",
            "  --help/-H           : Show help.\n",
            "  --info/-I           : Show app information.\n",
            "\n",
            "\u001b[0m\u001b[31m  * Required option.\u001b[0m\u001b[39m\u001b[49m\u001b[0m\u001b[39m\u001b[49m\n",
            "\u001b[0m\u001b[34m  # Choose one of the options.\u001b[0m\u001b[39m\u001b[49m\u001b[0m\u001b[39m\u001b[49m\n",
            "============================================================\n"
          ],
          "name": "stdout"
        }
      ]
    },
    {
      "cell_type": "markdown",
      "metadata": {
        "id": "xs9H1vgyKc_F"
      },
      "source": [
        "<a name=\"var-det\"></a>\n",
        "### 手順２-７ VariantDetectを使う\n",
        "<font color=\"red\">※注意  \n",
        "このアプリを使用するには、GenomeConverterを使って作成したゲノム配列のバイナリファイルが必要です。</font>  "
      ]
    },
    {
      "cell_type": "markdown",
      "metadata": {
        "id": "5yh3HR5WNYgp"
      },
      "source": [
        "####  インストール方法\n",
        "下セルを実行してください。"
      ]
    },
    {
      "cell_type": "code",
      "metadata": {
        "id": "kJaI9L0pNYnD",
        "colab": {
          "base_uri": "https://localhost:8080/"
        },
        "outputId": "3828627a-9dae-4d35-a215-15b0997723ae"
      },
      "source": [
        "!mkdir -p Codes\n",
        "!wget https://raw.githubusercontent.com/YujiSue/BioInfoTools/master/VariantDetect/VariantDetect.cpp -O Codes/VariantDetect.cpp\n",
        "!wget https://raw.githubusercontent.com/YujiSue/BioInfoTools/master/VariantDetect/VarAnalyzer.cpp -O Codes/VarAnalyzer.cpp\n",
        "!wget https://raw.githubusercontent.com/YujiSue/BioInfoTools/master/VariantDetect/VarAnalyzer.h -O Codes/VarAnalyzer.h\n",
        "!wget https://raw.githubusercontent.com/YujiSue/BioInfoTools/master/VariantDetect/VarSearch.cpp -O Codes/VarSearch.cpp\n",
        "!g++ -std=c++11 -I/usr/local/include/slib -I./Codes -L/usr/local/lib -O2 -o VariantDetect Codes/VarAnalyzer.cpp Codes/VariantDetect.cpp Codes/VarSearch.cpp -lsapp -lsbioinfo -lsobj -lcurl"
      ],
      "execution_count": 7,
      "outputs": [
        {
          "output_type": "stream",
          "text": [
            "--2021-05-19 00:32:28--  https://raw.githubusercontent.com/YujiSue/BioInfoTools/master/VariantDetect/VariantDetect.cpp\n",
            "Resolving raw.githubusercontent.com (raw.githubusercontent.com)... 185.199.109.133, 185.199.110.133, 185.199.108.133, ...\n",
            "Connecting to raw.githubusercontent.com (raw.githubusercontent.com)|185.199.109.133|:443... connected.\n",
            "HTTP request sent, awaiting response... 200 OK\n",
            "Length: 8919 (8.7K) [text/plain]\n",
            "Saving to: ‘Codes/VariantDetect.cpp’\n",
            "\n",
            "\rCodes/VariantDetect   0%[                    ]       0  --.-KB/s               \rCodes/VariantDetect 100%[===================>]   8.71K  --.-KB/s    in 0s      \n",
            "\n",
            "2021-05-19 00:32:29 (56.6 MB/s) - ‘Codes/VariantDetect.cpp’ saved [8919/8919]\n",
            "\n",
            "--2021-05-19 00:32:29--  https://raw.githubusercontent.com/YujiSue/BioInfoTools/master/VariantDetect/VarAnalyzer.cpp\n",
            "Resolving raw.githubusercontent.com (raw.githubusercontent.com)... 185.199.108.133, 185.199.109.133, 185.199.110.133, ...\n",
            "Connecting to raw.githubusercontent.com (raw.githubusercontent.com)|185.199.108.133|:443... connected.\n",
            "HTTP request sent, awaiting response... 200 OK\n",
            "Length: 13514 (13K) [text/plain]\n",
            "Saving to: ‘Codes/VarAnalyzer.cpp’\n",
            "\n",
            "Codes/VarAnalyzer.c 100%[===================>]  13.20K  --.-KB/s    in 0s      \n",
            "\n",
            "2021-05-19 00:32:29 (87.0 MB/s) - ‘Codes/VarAnalyzer.cpp’ saved [13514/13514]\n",
            "\n",
            "--2021-05-19 00:32:29--  https://raw.githubusercontent.com/YujiSue/BioInfoTools/master/VariantDetect/VarAnalyzer.h\n",
            "Resolving raw.githubusercontent.com (raw.githubusercontent.com)... 185.199.111.133, 185.199.110.133, 185.199.108.133, ...\n",
            "Connecting to raw.githubusercontent.com (raw.githubusercontent.com)|185.199.111.133|:443... connected.\n",
            "HTTP request sent, awaiting response... 200 OK\n",
            "Length: 3197 (3.1K) [text/plain]\n",
            "Saving to: ‘Codes/VarAnalyzer.h’\n",
            "\n",
            "Codes/VarAnalyzer.h 100%[===================>]   3.12K  --.-KB/s    in 0s      \n",
            "\n",
            "2021-05-19 00:32:29 (37.4 MB/s) - ‘Codes/VarAnalyzer.h’ saved [3197/3197]\n",
            "\n",
            "--2021-05-19 00:32:29--  https://raw.githubusercontent.com/YujiSue/BioInfoTools/master/VariantDetect/VarSearch.cpp\n",
            "Resolving raw.githubusercontent.com (raw.githubusercontent.com)... 185.199.108.133, 185.199.109.133, 185.199.110.133, ...\n",
            "Connecting to raw.githubusercontent.com (raw.githubusercontent.com)|185.199.108.133|:443... connected.\n",
            "HTTP request sent, awaiting response... 200 OK\n",
            "Length: 17008 (17K) [text/plain]\n",
            "Saving to: ‘Codes/VarSearch.cpp’\n",
            "\n",
            "Codes/VarSearch.cpp 100%[===================>]  16.61K  --.-KB/s    in 0s      \n",
            "\n",
            "2021-05-19 00:32:29 (50.0 MB/s) - ‘Codes/VarSearch.cpp’ saved [17008/17008]\n",
            "\n"
          ],
          "name": "stdout"
        }
      ]
    },
    {
      "cell_type": "markdown",
      "metadata": {
        "id": "8wDHcTF8RQwp"
      },
      "source": [
        "#### 使用方法\n",
        "下セルのパラメータ入力欄に必要事項を記入して、実行してください。  \n",
        "\n",
        "> サンガーシーケンスのデータ：サンガーシーケンスのデータファイルパスを入力してください。\n",
        "> <font color=\"blue\">* ファイル形式はFASTまたはAB1に対応しています。</font>  \n",
        "\n",
        "> リファレンス：GenomeConverterで作成したファイル名を入力してください。  \n"
      ]
    },
    {
      "cell_type": "code",
      "metadata": {
        "id": "55XR1uYjbUNB",
        "cellView": "form"
      },
      "source": [
        "#@markdown ###パラメータ \n",
        "サンガーシーケンスのデータ = '' #@param {type:'string'}\n",
        "リファレンス = '' #@param {type:'string'}\n",
        "#@markdown #####オプション\n",
        "\n",
        "cmd = './VariantDetect' + ' -r \"' + リファレンス + '\" -i \"' + サンガーシーケンスのデータ + '\"'\n",
        "\n",
        "output = subprocess.check_output(cmd, shell=True, text=True)\n",
        "print(output)"
      ],
      "execution_count": null,
      "outputs": []
    },
    {
      "cell_type": "markdown",
      "metadata": {
        "id": "VBuBGg8pLcVX"
      },
      "source": [
        "#### 使用例 (H.sapiens)\n",
        " "
      ]
    },
    {
      "cell_type": "markdown",
      "metadata": {
        "id": "I9Q1Ddk2LiWu"
      },
      "source": [
        "i. テスト用のSNPシーケンス (.fa)をダウンロードしてください。"
      ]
    },
    {
      "cell_type": "code",
      "metadata": {
        "id": "9AdJm4xJLmcP"
      },
      "source": [
        "!wget https://drive.google.com/uc?id=1fjPJHbnU-42G8EvVE-dVefzv5mBTQ67c -O test.fa"
      ],
      "execution_count": null,
      "outputs": []
    },
    {
      "cell_type": "markdown",
      "metadata": {
        "id": "4CkjLhsKLmrk"
      },
      "source": [
        "ii. パラメータを入力して、実行してください。\n",
        "\n",
        " > "
      ]
    },
    {
      "cell_type": "code",
      "metadata": {
        "colab": {
          "base_uri": "https://localhost:8080/"
        },
        "id": "Gzplna0Hlfpq",
        "cellView": "form",
        "outputId": "1195538c-94b4-4c90-9a46-eb146adebe09"
      },
      "source": [
        "#@markdown ###パラメータ \n",
        "サンガーシーケンスのデータ = 'test.fa' #@param {type:'string'}\n",
        "リファレンス = 'human.bin' #@param {type:'string'}\n",
        "#@markdown #####オプション\n",
        "\n",
        "cmd = './VariantDetect' + ' -r \"' + リファレンス + '\" -i \"' + サンガーシーケンスのデータ + '\"'\n",
        "\n",
        "output = subprocess.check_output(cmd, shell=True, text=True)\n",
        "print(output)"
      ],
      "execution_count": null,
      "outputs": [
        {
          "output_type": "stream",
          "text": [
            "8:19956191 (G->A substitution).\n",
            "\n"
          ],
          "name": "stdout"
        }
      ]
    },
    {
      "cell_type": "markdown",
      "metadata": {
        "id": "PlAavVeuNYsg"
      },
      "source": [
        "#### 使用例 (C.elegans)"
      ]
    },
    {
      "cell_type": "markdown",
      "metadata": {
        "id": "P0ZPbUtMGitD"
      },
      "source": [
        "i. テスト用のシーケンスファイル (.ab1)をダウンロード"
      ]
    },
    {
      "cell_type": "code",
      "metadata": {
        "id": "Dd8xMVD9Gk_q"
      },
      "source": [
        "!wget https://drive.google.com/uc?id=1zD2uoiHrmVemxq_G18A0tHofQeyhGSVC -O test.ab1"
      ],
      "execution_count": null,
      "outputs": []
    },
    {
      "cell_type": "markdown",
      "metadata": {
        "id": "jEqKv70qGn4y"
      },
      "source": [
        "ii. 実行してください。"
      ]
    },
    {
      "cell_type": "code",
      "metadata": {
        "id": "oz61lb_yoRas",
        "colab": {
          "base_uri": "https://localhost:8080/"
        },
        "cellView": "form",
        "outputId": "5fea7669-a854-40aa-907d-412f663a777f"
      },
      "source": [
        "#@markdown ###パラメータ \n",
        "サンガーシーケンスのデータ = 'test.ab1' #@param {type:'string'}\n",
        "リファレンス = 'nematode.bin' #@param {type:'string'}\n",
        "#@markdown #####オプション\n",
        "\n",
        "cmd = './VariantDetect' + ' -r \"' + リファレンス + '\" -i \"' + サンガーシーケンスのデータ + '\"'\n",
        "\n",
        "output = subprocess.check_output(cmd, shell=True, text=True)\n",
        "print(output)"
      ],
      "execution_count": 11,
      "outputs": [
        {
          "output_type": "stream",
          "text": [
            "V:3937069-3937272 (204 bp deletion).\n",
            "\n"
          ],
          "name": "stdout"
        }
      ]
    },
    {
      "cell_type": "markdown",
      "metadata": {
        "id": "659xjN_JOCri"
      },
      "source": [
        "#### コマンドライン（CUI）アプリとして使用する場合\n",
        "以下のヘルプを参照に、コマンドを実行してください。"
      ]
    },
    {
      "cell_type": "code",
      "metadata": {
        "id": "BOJxApkYOCze",
        "colab": {
          "base_uri": "https://localhost:8080/",
          "height": 460
        },
        "outputId": "49737a13-6d55-44b5-85fb-d4d18a665f0c"
      },
      "source": [
        "!./VariantDetect --help"
      ],
      "execution_count": null,
      "outputs": [
        {
          "output_type": "stream",
          "text": [
            "============================================================\n",
            "VariantDetect v1.1.0\n",
            "Copyright (c) 2015 Yuji Suehiro. All rights reserved. \n",
            "MIT license.\n",
            ". . . . . . . . . . . . . . . . . . . . . . . . . . . . . . \n",
            "\n",
            "Usage:\n",
            "  VariantDetect -r file -i file(fa/txt/seq/ab1) { -m size } { -t value } { -g size } { -s size }\n",
            ". . . . . . . . . . . . . . . . . . . . . . . . . . . . . . \n",
            "\n",
            "[Option]\n",
            "  --gap/-g            :  Permissible gap size.\n",
            "  --input/-i          : \u001b[0m\u001b[31m*\u001b[0m\u001b[39m\u001b[49m\u001b[0m\u001b[39m\u001b[49mInput file path.\n",
            "  --match/-m          :  Minimum match size.\n",
            "  --ref/-r            : \u001b[0m\u001b[31m*\u001b[0m\u001b[39m\u001b[49m\u001b[0m\u001b[39m\u001b[49mReference file path.\n",
            "  --seed/-s           :  Seed size.\n",
            "  --threshold/-t      :  Threshold to extend alignemnt.\n",
            "\n",
            "  --help/-H           : Show help.\n",
            "  --version/-V        : Show version.\n",
            "  --info/-I           : Show app information.\n",
            "\n",
            "\u001b[0m\u001b[31m  * Required option.\u001b[0m\u001b[39m\u001b[49m\u001b[0m\u001b[39m\u001b[49m\n",
            "\u001b[0m\u001b[34m  # Choose one of the options.\u001b[0m\u001b[39m\u001b[49m\u001b[0m\u001b[39m\u001b[49m\n",
            "============================================================\n"
          ],
          "name": "stdout"
        }
      ]
    }
  ]
}